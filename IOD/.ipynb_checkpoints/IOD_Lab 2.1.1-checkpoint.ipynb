{
 "cells": [
  {
   "cell_type": "markdown",
   "metadata": {
    "colab_type": "text",
    "id": "PopLE1ywNQsa"
   },
   "source": [
    "<div>\n",
    "<img src=https://www.institutedata.com/wp-content/uploads/2019/10/iod_h_tp_primary_c.svg width=\"300\">\n",
    "</div>"
   ]
  },
  {
   "cell_type": "markdown",
   "metadata": {
    "colab_type": "text",
    "id": "e45O_NedNQsd"
   },
   "source": [
    "# Lab 2.1.1 \n",
    "# *Data Wrangling and Munging with Pandas*"
   ]
  },
  {
   "cell_type": "markdown",
   "metadata": {
    "colab_type": "text",
    "id": "Qr08YR1PNQsf"
   },
   "source": [
    "## Part 1: Wrangling Data"
   ]
  },
  {
   "cell_type": "markdown",
   "metadata": {
    "colab_type": "text",
    "id": "RH9yA6LINQsh"
   },
   "source": [
    "The term \"data wrangling\" is analogous to capturing wild horses and getting them into a fenced area; the horses are data and the fencing is your computer. The more common data wrangling tasks include:\n",
    "\n",
    "- reading flat files\n",
    "- reading Excel files\n",
    "- downloading from web pages\n",
    "  - csv\n",
    "  - html\n",
    "  - json"
   ]
  },
  {
   "cell_type": "code",
   "execution_count": 4,
   "metadata": {
    "colab": {},
    "colab_type": "code",
    "id": "baKB6_WIBp_8"
   },
   "outputs": [],
   "source": [
    "import numpy as np\n",
    "import pandas as pd"
   ]
  },
  {
   "cell_type": "markdown",
   "metadata": {
    "colab_type": "text",
    "id": "T8G9iecYNQsr"
   },
   "source": [
    "*It is good practice to display the library version numbers for future reference:*"
   ]
  },
  {
   "cell_type": "code",
   "execution_count": 2,
   "metadata": {
    "colab": {},
    "colab_type": "code",
    "id": "MC0XSmScBqAD",
    "outputId": "c6f51e70-1f8e-412c-b320-b370e38f2a21"
   },
   "outputs": [
    {
     "name": "stdout",
     "output_type": "stream",
     "text": [
      "Numpy:  1.20.1\n",
      "Pandas:  1.2.4\n"
     ]
    }
   ],
   "source": [
    "print('Numpy: ', np.__version__)\n",
    "print('Pandas: ', pd.__version__)"
   ]
  },
  {
   "cell_type": "markdown",
   "metadata": {
    "colab_type": "text",
    "id": "mzTKAG1LNQsx"
   },
   "source": [
    "### CSV Files"
   ]
  },
  {
   "cell_type": "markdown",
   "metadata": {
    "colab_type": "text",
    "id": "RE2wYKPNNQsy"
   },
   "source": [
    "Below are three attempts to load the file \"bikeshare.csv\" into a DataFrame named `bikes`. Why are they wrong?"
   ]
  },
  {
   "cell_type": "code",
   "execution_count": 5,
   "metadata": {
    "colab": {},
    "colab_type": "code",
    "id": "ZV2HMWarNQsz"
   },
   "outputs": [
    {
     "name": "stdout",
     "output_type": "stream",
     "text": [
      "                        0       1        2           3        4      5   \\\n",
      "0                 datetime  season  holiday  workingday  weather   temp   \n",
      "1      2011-01-01 00:00:00       1        0           0        1   9.84   \n",
      "2      2011-01-01 01:00:00       1        0           0        1   9.02   \n",
      "3      2011-01-01 02:00:00       1        0           0        1   9.02   \n",
      "4      2011-01-01 03:00:00       1        0           0        1   9.84   \n",
      "...                    ...     ...      ...         ...      ...    ...   \n",
      "10882  2012-12-19 19:00:00       4        0           1        1  15.58   \n",
      "10883  2012-12-19 20:00:00       4        0           1        1  14.76   \n",
      "10884  2012-12-19 21:00:00       4        0           1        1  13.94   \n",
      "10885  2012-12-19 22:00:00       4        0           1        1  13.94   \n",
      "10886  2012-12-19 23:00:00       4        0           1        1  13.12   \n",
      "\n",
      "           6         7          8       9           10     11  \n",
      "0       atemp  humidity  windspeed  casual  registered  count  \n",
      "1      14.395        81          0       3          13     16  \n",
      "2      13.635        80          0       8          32     40  \n",
      "3      13.635        80          0       5          27     32  \n",
      "4      14.395        75          0       3          10     13  \n",
      "...       ...       ...        ...     ...         ...    ...  \n",
      "10882  19.695        50    26.0027       7         329    336  \n",
      "10883  17.425        57    15.0013      10         231    241  \n",
      "10884   15.91        61    15.0013       4         164    168  \n",
      "10885  17.425        61     6.0032      12         117    129  \n",
      "10886  16.665        66     8.9981       4          84     88  \n",
      "\n",
      "[10887 rows x 12 columns]\n",
      "  2011-01-01 00:00:00,1,0,0,1,9.84,14.395,81,0,3,13,16\n",
      "0  2011-01-01 01:00:00,1,0,0,1,9.02,13.635,80,0,8...  \n",
      "1  2011-01-01 02:00:00,1,0,0,1,9.02,13.635,80,0,5...  \n",
      "2  2011-01-01 03:00:00,1,0,0,1,9.84,14.395,75,0,3...  \n",
      "3  2011-01-01 04:00:00,1,0,0,1,9.84,14.395,75,0,0...  \n",
      "4  2011-01-01 05:00:00,1,0,0,2,9.84,12.88,75,6.00...  \n",
      "\n",
      "  datetime,season,holiday,workingday,weather,temp,atemp,humidity,windspeed,casual,registered,count\n",
      "0  2011-01-01 00:00:00,1,0,0,1,9.84,14.395,81,0,3...                                              \n",
      "1  2011-01-01 01:00:00,1,0,0,1,9.02,13.635,80,0,8...                                              \n",
      "2  2011-01-01 02:00:00,1,0,0,1,9.02,13.635,80,0,5...                                              \n",
      "3  2011-01-01 03:00:00,1,0,0,1,9.84,14.395,75,0,3...                                              \n",
      "4  2011-01-01 04:00:00,1,0,0,1,9.84,14.395,75,0,0...                                              \n"
     ]
    }
   ],
   "source": [
    "# wrong:\n",
    "bikes = pd.read_csv('bikeshare.csv', header = None)\n",
    "print(bikes)\n",
    "\n",
    "# wrong:\n",
    "bikes = pd.read_table('bikeshare.csv', header = 1)\n",
    "print(bikes.head())\n",
    "print()\n",
    "\n",
    "# wrong:\n",
    "bikes = pd.read_table('bikeshare.csv', header = 0)\n",
    "print(bikes.head())"
   ]
  },
  {
   "cell_type": "markdown",
   "metadata": {
    "colab_type": "text",
    "id": "SSiMJN9NNQs4"
   },
   "source": [
    "?:\n",
    "ANSWER: Case 1 treats headings as just another data row. Case 2 treats the 1st data row as the column header. Case 3 gets the header right (row 0), but reads each row as a single column (Nb. the other two make that same mistake). "
   ]
  },
  {
   "cell_type": "markdown",
   "metadata": {
    "colab_type": "text",
    "id": "GDFYVoPINQs6"
   },
   "source": [
    "Load the file \"bikeshare.csv\" into a DataFrame named `bikes`, and confirm that it was loaded properly:"
   ]
  },
  {
   "cell_type": "code",
   "execution_count": 17,
   "metadata": {
    "colab": {},
    "colab_type": "code",
    "id": "wH2wuPznNQs8",
    "scrolled": true
   },
   "outputs": [
    {
     "name": "stdout",
     "output_type": "stream",
     "text": [
      "              datetime  season  holiday  workingday  weather  temp   atemp  \\\n",
      "0  2011-01-01 00:00:00       1        0           0        1  9.84  14.395   \n",
      "1  2011-01-01 01:00:00       1        0           0        1  9.02  13.635   \n",
      "2  2011-01-01 02:00:00       1        0           0        1  9.02  13.635   \n",
      "3  2011-01-01 03:00:00       1        0           0        1  9.84  14.395   \n",
      "4  2011-01-01 04:00:00       1        0           0        1  9.84  14.395   \n",
      "\n",
      "   humidity  windspeed  casual  registered  count  \n",
      "0        81        0.0       3          13     16  \n",
      "1        80        0.0       8          32     40  \n",
      "2        80        0.0       5          27     32  \n",
      "3        75        0.0       3          10     13  \n",
      "4        75        0.0       0           1      1  \n",
      "\n"
     ]
    }
   ],
   "source": [
    "#ANSWER:\n",
    "bikes = pd.read_csv('bikeshare.csv', header = 'infer')\n",
    "print(bikes.head())\n",
    "print()"
   ]
  },
  {
   "cell_type": "code",
   "execution_count": 16,
   "metadata": {},
   "outputs": [
    {
     "data": {
      "text/plain": [
       "Index(['datetime,season,holiday,workingday,weather,temp,atemp,humidity,windspeed,casual,registered,count'], dtype='object')"
      ]
     },
     "execution_count": 16,
     "metadata": {},
     "output_type": "execute_result"
    }
   ],
   "source": [
    "type(bikes.shape)\n",
    "(bikes.columns)"
   ]
  },
  {
   "cell_type": "markdown",
   "metadata": {
    "colab_type": "text",
    "id": "zEwczD29NQtA"
   },
   "source": [
    "Note that we could have used `read.csv()` above. When is `read_table()` necessary?"
   ]
  },
  {
   "cell_type": "markdown",
   "metadata": {
    "colab_type": "text",
    "id": "8OsmNWLXNQtB"
   },
   "source": [
    "?:\n",
    "ANSWER: When `sep` is not the comma character, or we need fine control that `read.csv()` does not provide."
   ]
  },
  {
   "cell_type": "markdown",
   "metadata": {
    "colab_type": "text",
    "id": "pPEoeHGGNQtC"
   },
   "source": [
    "Flat files can be full of surprises. Here are some issues to watch out for:\n",
    "\n",
    "- separator character is something other than the comma\n",
    "  - \";\", \"|\", and tab are popular\n",
    "- newline character is something other than what the O/S expects \n",
    "  - Tip: Don't hard-code the character codes for carriage returns, linefeeds, etc. Use Python's built-in representation instead (e.g. Python translates \"\\n\" to the newline character and \"\\t\" to the tab character on any O/S).\n",
    "- truncated lines\n",
    "  - if there are empty fields at the end of a line it is possible that their separators will be missing, resulting in a \"jagged\" file\n",
    "- embedded commas or quotes\n",
    "  - a free-text field containing embedded commas may split into separate fields on input\n",
    "  - a free-text field containing embedded quotes may not parse correctly\n",
    "- unescaped characters\n",
    "  - the \"\\\" character indicates a control code to Python, which will break the I/O\n",
    "    - e.g. the substring \"\\u0123\" will be interpreted as Unicode(0123) -- which may not be what the file creator intended\n",
    "  - these may need to be fixed by loading whole strings and then parsing into a new data frame\n",
    "  \n",
    "Tip: Most issues can be delth with by correctly specifying the parameters of the function you use to load the file. Read the doco before reading the data!"
   ]
  },
  {
   "cell_type": "markdown",
   "metadata": {
    "colab_type": "text",
    "id": "Q0G5PtA2NQtC"
   },
   "source": [
    "### Reading Excel Files"
   ]
  },
  {
   "cell_type": "code",
   "execution_count": 6,
   "metadata": {
    "colab": {},
    "colab_type": "code",
    "id": "TYELgCw6NQtD"
   },
   "outputs": [],
   "source": [
    "from pandas import ExcelFile  # Nb. Need to install xlrd from conda (it does not automatically install with pandas)"
   ]
  },
  {
   "cell_type": "code",
   "execution_count": 6,
   "metadata": {
    "colab": {},
    "colab_type": "code",
    "id": "XDjzKP6nNQtF"
   },
   "outputs": [
    {
     "data": {
      "text/html": [
       "<div>\n",
       "<style scoped>\n",
       "    .dataframe tbody tr th:only-of-type {\n",
       "        vertical-align: middle;\n",
       "    }\n",
       "\n",
       "    .dataframe tbody tr th {\n",
       "        vertical-align: top;\n",
       "    }\n",
       "\n",
       "    .dataframe thead th {\n",
       "        text-align: right;\n",
       "    }\n",
       "</style>\n",
       "<table border=\"1\" class=\"dataframe\">\n",
       "  <thead>\n",
       "    <tr style=\"text-align: right;\">\n",
       "      <th></th>\n",
       "      <th>Unnamed: 0</th>\n",
       "      <th>Sepal Length (cm)</th>\n",
       "      <th>Sepal Width (cm)</th>\n",
       "      <th>Petal Length (cm)</th>\n",
       "      <th>Petal Width (cm)</th>\n",
       "      <th>Class</th>\n",
       "      <th>Unnamed: 6</th>\n",
       "      <th>Unnamed: 7</th>\n",
       "      <th>alpha</th>\n",
       "      <th>obj</th>\n",
       "      <th>Unnamed: 10</th>\n",
       "      <th>Unnamed: 11</th>\n",
       "    </tr>\n",
       "  </thead>\n",
       "  <tbody>\n",
       "    <tr>\n",
       "      <th>0</th>\n",
       "      <td>NaN</td>\n",
       "      <td>7.0</td>\n",
       "      <td>3.2</td>\n",
       "      <td>4.7</td>\n",
       "      <td>1.4</td>\n",
       "      <td>Iris-versicolor</td>\n",
       "      <td>NaN</td>\n",
       "      <td>0.0</td>\n",
       "      <td>0.0</td>\n",
       "      <td>0.0</td>\n",
       "      <td>0</td>\n",
       "      <td>1</td>\n",
       "    </tr>\n",
       "    <tr>\n",
       "      <th>1</th>\n",
       "      <td>NaN</td>\n",
       "      <td>6.4</td>\n",
       "      <td>3.2</td>\n",
       "      <td>4.5</td>\n",
       "      <td>1.5</td>\n",
       "      <td>Iris-versicolor</td>\n",
       "      <td>NaN</td>\n",
       "      <td>0.0</td>\n",
       "      <td>NaN</td>\n",
       "      <td>NaN</td>\n",
       "      <td>0</td>\n",
       "      <td>1</td>\n",
       "    </tr>\n",
       "    <tr>\n",
       "      <th>2</th>\n",
       "      <td>NaN</td>\n",
       "      <td>6.9</td>\n",
       "      <td>3.1</td>\n",
       "      <td>4.9</td>\n",
       "      <td>1.5</td>\n",
       "      <td>Iris-versicolor</td>\n",
       "      <td>NaN</td>\n",
       "      <td>0.0</td>\n",
       "      <td>NaN</td>\n",
       "      <td>NaN</td>\n",
       "      <td>0</td>\n",
       "      <td>1</td>\n",
       "    </tr>\n",
       "    <tr>\n",
       "      <th>3</th>\n",
       "      <td>NaN</td>\n",
       "      <td>5.5</td>\n",
       "      <td>2.3</td>\n",
       "      <td>4.0</td>\n",
       "      <td>1.3</td>\n",
       "      <td>Iris-versicolor</td>\n",
       "      <td>NaN</td>\n",
       "      <td>0.0</td>\n",
       "      <td>NaN</td>\n",
       "      <td>NaN</td>\n",
       "      <td>0</td>\n",
       "      <td>1</td>\n",
       "    </tr>\n",
       "    <tr>\n",
       "      <th>4</th>\n",
       "      <td>NaN</td>\n",
       "      <td>6.5</td>\n",
       "      <td>2.8</td>\n",
       "      <td>4.6</td>\n",
       "      <td>1.5</td>\n",
       "      <td>Iris-versicolor</td>\n",
       "      <td>NaN</td>\n",
       "      <td>NaN</td>\n",
       "      <td>NaN</td>\n",
       "      <td>NaN</td>\n",
       "      <td>0</td>\n",
       "      <td>1</td>\n",
       "    </tr>\n",
       "  </tbody>\n",
       "</table>\n",
       "</div>"
      ],
      "text/plain": [
       "   Unnamed: 0  Sepal Length (cm)  Sepal Width (cm)  Petal Length (cm)  \\\n",
       "0         NaN                7.0               3.2                4.7   \n",
       "1         NaN                6.4               3.2                4.5   \n",
       "2         NaN                6.9               3.1                4.9   \n",
       "3         NaN                5.5               2.3                4.0   \n",
       "4         NaN                6.5               2.8                4.6   \n",
       "\n",
       "   Petal Width (cm)            Class  Unnamed: 6  Unnamed: 7  alpha  obj  \\\n",
       "0               1.4  Iris-versicolor         NaN         0.0    0.0  0.0   \n",
       "1               1.5  Iris-versicolor         NaN         0.0    NaN  NaN   \n",
       "2               1.5  Iris-versicolor         NaN         0.0    NaN  NaN   \n",
       "3               1.3  Iris-versicolor         NaN         0.0    NaN  NaN   \n",
       "4               1.5  Iris-versicolor         NaN         NaN    NaN  NaN   \n",
       "\n",
       "   Unnamed: 10  Unnamed: 11  \n",
       "0            0            1  \n",
       "1            0            1  \n",
       "2            0            1  \n",
       "3            0            1  \n",
       "4            0            1  "
      ]
     },
     "execution_count": 6,
     "metadata": {},
     "output_type": "execute_result"
    }
   ],
   "source": [
    "df = pd.read_excel('Iris.xls', sheet_name = 'Iris', header =(1)) \n",
    "df.head()"
   ]
  },
  {
   "cell_type": "markdown",
   "metadata": {
    "colab_type": "text",
    "id": "x0a2XhAZNQtH"
   },
   "source": [
    "So, this file appears to have an embedded table of aggregates on the same sheet as the raw data (a naughty but common practice amongst analysts)."
   ]
  },
  {
   "cell_type": "markdown",
   "metadata": {
    "colab_type": "text",
    "id": "ZjWx-Xo0NQtH"
   },
   "source": [
    "It is usually better to load data correctly than to meddle with the source file or load it 'warts and all' and then try to parse it in code. The Pandas functions for reading files have parameters that provide the control we need. For ecxample, we could make multiple calls to `read_excel()`, using combinations of the `header`, `usecols`, `skiprows`, `nrows`, and `skipfooter` parameters to load one table at a time from a spreadsheet with multiple tables."
   ]
  },
  {
   "cell_type": "markdown",
   "metadata": {
    "colab_type": "text",
    "id": "tC5kzTsMNQtI"
   },
   "source": [
    "Load the above file without the unwanted columns:"
   ]
  },
  {
   "cell_type": "code",
   "execution_count": 7,
   "metadata": {
    "colab": {},
    "colab_type": "code",
    "id": "-P70uSXsNQtI"
   },
   "outputs": [
    {
     "name": "stdout",
     "output_type": "stream",
     "text": [
      "    Sepal Length (cm)  Sepal Width (cm)  Petal Length (cm)  Petal Width (cm)  \\\n",
      "0                 7.0               3.2                4.7               1.4   \n",
      "1                 6.4               3.2                4.5               1.5   \n",
      "2                 6.9               3.1                4.9               1.5   \n",
      "3                 5.5               2.3                4.0               1.3   \n",
      "4                 6.5               2.8                4.6               1.5   \n",
      "..                ...               ...                ...               ...   \n",
      "95                4.8               3.0                1.4               0.3   \n",
      "96                5.1               3.8                1.6               0.2   \n",
      "97                4.6               3.2                1.4               0.2   \n",
      "98                5.3               3.7                1.5               0.2   \n",
      "99                5.0               3.3                1.4               0.2   \n",
      "\n",
      "              Class  alpha  obj  \n",
      "0   Iris-versicolor    0.0  0.0  \n",
      "1   Iris-versicolor    NaN  NaN  \n",
      "2   Iris-versicolor    NaN  NaN  \n",
      "3   Iris-versicolor    NaN  NaN  \n",
      "4   Iris-versicolor    NaN  NaN  \n",
      "..              ...    ...  ...  \n",
      "95      Iris-setosa    NaN  NaN  \n",
      "96      Iris-setosa    NaN  NaN  \n",
      "97      Iris-setosa    NaN  NaN  \n",
      "98      Iris-setosa    NaN  NaN  \n",
      "99      Iris-setosa    NaN  NaN  \n",
      "\n",
      "[100 rows x 7 columns]\n"
     ]
    }
   ],
   "source": [
    "#ANSWER\n",
    "df = pd.read_excel('Iris.xls', sheet_name = 'Iris', header =(1),usecols='B:F,I,J') \n",
    "print (df)"
   ]
  },
  {
   "cell_type": "markdown",
   "metadata": {
    "colab_type": "text",
    "id": "pTkOz1KsNQtK"
   },
   "source": [
    "### Importing Data Directly from the Web"
   ]
  },
  {
   "cell_type": "markdown",
   "metadata": {
    "colab_type": "text",
    "id": "cFHi_S4fNQtK"
   },
   "source": [
    "We usually want to store a local copy of a data file that we download from the Web, but when data retention is not a priority it is convenient to download the data directly into our running Python environment."
   ]
  },
  {
   "cell_type": "markdown",
   "metadata": {
    "colab_type": "text",
    "id": "jS7P3oXQNQtL"
   },
   "source": [
    "#### Importing Text Files from the Web"
   ]
  },
  {
   "cell_type": "markdown",
   "metadata": {
    "colab_type": "text",
    "id": "v-hzkxRRNQtL"
   },
   "source": [
    "The web is the 'wild west' of data formats. However, we can usually expect good behaviour from files that are automatically generated by a service, such as the earthquake report:"
   ]
  },
  {
   "cell_type": "code",
   "execution_count": 9,
   "metadata": {
    "colab": {},
    "colab_type": "code",
    "id": "QFuaZ82hNQtM"
   },
   "outputs": [
    {
     "data": {
      "text/html": [
       "<div>\n",
       "<style scoped>\n",
       "    .dataframe tbody tr th:only-of-type {\n",
       "        vertical-align: middle;\n",
       "    }\n",
       "\n",
       "    .dataframe tbody tr th {\n",
       "        vertical-align: top;\n",
       "    }\n",
       "\n",
       "    .dataframe thead th {\n",
       "        text-align: right;\n",
       "    }\n",
       "</style>\n",
       "<table border=\"1\" class=\"dataframe\">\n",
       "  <thead>\n",
       "    <tr style=\"text-align: right;\">\n",
       "      <th></th>\n",
       "      <th>time</th>\n",
       "      <th>latitude</th>\n",
       "      <th>longitude</th>\n",
       "      <th>depth</th>\n",
       "      <th>mag</th>\n",
       "      <th>magType</th>\n",
       "      <th>nst</th>\n",
       "      <th>gap</th>\n",
       "      <th>dmin</th>\n",
       "      <th>rms</th>\n",
       "      <th>...</th>\n",
       "      <th>updated</th>\n",
       "      <th>place</th>\n",
       "      <th>type</th>\n",
       "      <th>horizontalError</th>\n",
       "      <th>depthError</th>\n",
       "      <th>magError</th>\n",
       "      <th>magNst</th>\n",
       "      <th>status</th>\n",
       "      <th>locationSource</th>\n",
       "      <th>magSource</th>\n",
       "    </tr>\n",
       "  </thead>\n",
       "  <tbody>\n",
       "  </tbody>\n",
       "</table>\n",
       "<p>0 rows × 22 columns</p>\n",
       "</div>"
      ],
      "text/plain": [
       "Empty DataFrame\n",
       "Columns: [time, latitude, longitude, depth, mag, magType, nst, gap, dmin, rms, net, id, updated, place, type, horizontalError, depthError, magError, magNst, status, locationSource, magSource]\n",
       "Index: []\n",
       "\n",
       "[0 rows x 22 columns]"
      ]
     },
     "execution_count": 9,
     "metadata": {},
     "output_type": "execute_result"
    }
   ],
   "source": [
    "df = pd.read_csv('https://earthquake.usgs.gov/earthquakes/feed/v1.0/summary/2.5_hour.csv')\n",
    "df.head()"
   ]
  },
  {
   "cell_type": "markdown",
   "metadata": {
    "colab_type": "text",
    "id": "kGgcXCzyNQtN"
   },
   "source": [
    "#### Importing HTML Files from the Web\n",
    "\n",
    "Working with unstructured HTML files relies heavily on library functions. This one, however, is well-structured:"
   ]
  },
  {
   "cell_type": "code",
   "execution_count": 10,
   "metadata": {
    "colab": {},
    "colab_type": "code",
    "id": "F4oVabZ6NQtO"
   },
   "outputs": [],
   "source": [
    "url = 'https://www.fdic.gov/resources/resolutions/bank-failures/failed-bank-list/'\n",
    "\n",
    "df = pd.read_html(url)\n",
    "\n"
   ]
  },
  {
   "cell_type": "markdown",
   "metadata": {
    "colab_type": "text",
    "id": "CaWhHAk9NQtQ"
   },
   "source": [
    "#### Importing XML Files from the Web\n",
    "\n",
    "XML files are semi-structured, but you're at the mercy of the file creator. If every record has the same format it will be much easier, but practical applications often require a lot of custom code. Here is an example that includes a nice parser class: http://www.austintaylor.io/lxml/python/pandas/xml/dataframe/2016/07/08/convert-xml-to-pandas-dataframe/"
   ]
  },
  {
   "cell_type": "markdown",
   "metadata": {
    "colab_type": "text",
    "id": "ppLnAmKVNQtQ"
   },
   "source": [
    "#### Importing JSON Files from the Web\n",
    "\n",
    "Like XML, JSON files are semi-structured and may require work to capture the schema into a dataframe. Here is a simple example: "
   ]
  },
  {
   "cell_type": "code",
   "execution_count": 11,
   "metadata": {
    "colab": {},
    "colab_type": "code",
    "id": "8VB9EoRrNQtS"
   },
   "outputs": [
    {
     "data": {
      "text/html": [
       "<div>\n",
       "<style scoped>\n",
       "    .dataframe tbody tr th:only-of-type {\n",
       "        vertical-align: middle;\n",
       "    }\n",
       "\n",
       "    .dataframe tbody tr th {\n",
       "        vertical-align: top;\n",
       "    }\n",
       "\n",
       "    .dataframe thead th {\n",
       "        text-align: right;\n",
       "    }\n",
       "</style>\n",
       "<table border=\"1\" class=\"dataframe\">\n",
       "  <thead>\n",
       "    <tr style=\"text-align: right;\">\n",
       "      <th></th>\n",
       "      <th>integer</th>\n",
       "      <th>datetime</th>\n",
       "      <th>category</th>\n",
       "    </tr>\n",
       "  </thead>\n",
       "  <tbody>\n",
       "    <tr>\n",
       "      <th>0</th>\n",
       "      <td>5</td>\n",
       "      <td>2015-01-01 00:00:00</td>\n",
       "      <td>0</td>\n",
       "    </tr>\n",
       "    <tr>\n",
       "      <th>1</th>\n",
       "      <td>5</td>\n",
       "      <td>2015-01-01 00:00:01</td>\n",
       "      <td>0</td>\n",
       "    </tr>\n",
       "    <tr>\n",
       "      <th>2</th>\n",
       "      <td>9</td>\n",
       "      <td>2015-01-01 00:00:02</td>\n",
       "      <td>0</td>\n",
       "    </tr>\n",
       "    <tr>\n",
       "      <th>3</th>\n",
       "      <td>6</td>\n",
       "      <td>2015-01-01 00:00:03</td>\n",
       "      <td>0</td>\n",
       "    </tr>\n",
       "    <tr>\n",
       "      <th>4</th>\n",
       "      <td>6</td>\n",
       "      <td>2015-01-01 00:00:04</td>\n",
       "      <td>0</td>\n",
       "    </tr>\n",
       "  </tbody>\n",
       "</table>\n",
       "</div>"
      ],
      "text/plain": [
       "   integer            datetime  category\n",
       "0        5 2015-01-01 00:00:00         0\n",
       "1        5 2015-01-01 00:00:01         0\n",
       "2        9 2015-01-01 00:00:02         0\n",
       "3        6 2015-01-01 00:00:03         0\n",
       "4        6 2015-01-01 00:00:04         0"
      ]
     },
     "execution_count": 11,
     "metadata": {},
     "output_type": "execute_result"
    }
   ],
   "source": [
    "url = 'https://raw.githubusercontent.com/chrisalbon/simulated_datasets/master/data.json'\n",
    "# Load the first sheet of the JSON file into a data frame\n",
    "df = pd.read_json(url, orient = 'columns')\n",
    "df.head()"
   ]
  },
  {
   "cell_type": "markdown",
   "metadata": {
    "colab_type": "text",
    "id": "fIArBrFFNQtV"
   },
   "source": [
    "## Part 2: Data Munging"
   ]
  },
  {
   "cell_type": "markdown",
   "metadata": {
    "colab_type": "text",
    "id": "6aFUJrhENQtW"
   },
   "source": [
    "Data munging is manipulating data to get it into a form that we can start running analyses on (which usually means getting the data into a DataFrame). Before we get to this stage, we may need to remove headers or footers, transpose columns to rows, split wide data tables into long ones, and so on. (Nb. Excel files can be particularly troublesome, because users can format their data in mixed, complex shapes.) Essentially, we need to follow Hadley Wickham's guidelines for tidy datasets (http://vita.had.co.nz/papers/tidy-data.html):\n",
    "\n",
    "The end goal of the cleaning data process:\n",
    "\n",
    "- each variable should be in one column\n",
    "- each observation should comprise one row\n",
    "- each type of observational unit should form one table\n",
    "- include key columns for linking multiple tables\n",
    "- the top row contains (sensible) variable names\n",
    "- in general, save data as one file per table\n"
   ]
  },
  {
   "cell_type": "markdown",
   "metadata": {
    "colab_type": "text",
    "id": "Kmjox61xNQtW"
   },
   "source": [
    "### Dataset Morphology"
   ]
  },
  {
   "cell_type": "markdown",
   "metadata": {
    "colab_type": "text",
    "id": "29PQdqUMNQtX"
   },
   "source": [
    "Once we have our dataset in a DataFrame (or Series, if our data is only 1-dimensional), we can start examining its size and content."
   ]
  },
  {
   "cell_type": "markdown",
   "metadata": {
    "colab_type": "text",
    "id": "04lspVeiNQtY"
   },
   "source": [
    "How many rows and columns are in `bikes`?"
   ]
  },
  {
   "cell_type": "code",
   "execution_count": 12,
   "metadata": {
    "colab": {},
    "colab_type": "code",
    "id": "DkO6SxSmNQtY"
   },
   "outputs": [],
   "source": [
    "#ANSWER\n",
    "\n",
    "x=bikes.shape\n"
   ]
  },
  {
   "cell_type": "markdown",
   "metadata": {
    "colab_type": "text",
    "id": "camJWA-DNQta"
   },
   "source": [
    "What are the column names in `bikes`?"
   ]
  },
  {
   "cell_type": "code",
   "execution_count": 13,
   "metadata": {
    "colab": {},
    "colab_type": "code",
    "id": "jDzIHgjXNQtb"
   },
   "outputs": [
    {
     "data": {
      "text/plain": [
       "Index(['datetime', 'season', 'holiday', 'workingday', 'weather', 'temp',\n",
       "       'atemp', 'humidity', 'windspeed', 'casual', 'registered', 'count'],\n",
       "      dtype='object')"
      ]
     },
     "execution_count": 13,
     "metadata": {},
     "output_type": "execute_result"
    }
   ],
   "source": [
    "#ANSWER\n",
    "bikes.columns"
   ]
  },
  {
   "cell_type": "markdown",
   "metadata": {
    "colab_type": "text",
    "id": "iL7Cm_4NNQtc"
   },
   "source": [
    "What are the data types of these columns?"
   ]
  },
  {
   "cell_type": "code",
   "execution_count": 9,
   "metadata": {
    "scrolled": true
   },
   "outputs": [
    {
     "data": {
      "text/plain": [
       "datetime,season,holiday,workingday,weather,temp,atemp,humidity,windspeed,casual,registered,count    object\n",
       "dtype: object"
      ]
     },
     "execution_count": 9,
     "metadata": {},
     "output_type": "execute_result"
    }
   ],
   "source": [
    "bikes.dtypes"
   ]
  },
  {
   "cell_type": "markdown",
   "metadata": {
    "colab_type": "text",
    "id": "nqHDi7_GNQtf"
   },
   "source": [
    "What is the (row) index for this DataFrame?"
   ]
  },
  {
   "cell_type": "code",
   "execution_count": 10,
   "metadata": {
    "colab": {},
    "colab_type": "code",
    "id": "p7WciAwrNQtf"
   },
   "outputs": [
    {
     "data": {
      "text/plain": [
       "RangeIndex(start=0, stop=10886, step=1)"
      ]
     },
     "execution_count": 10,
     "metadata": {},
     "output_type": "execute_result"
    }
   ],
   "source": [
    "#ANSWER\n",
    "bikes.index"
   ]
  },
  {
   "cell_type": "markdown",
   "metadata": {
    "colab_type": "text",
    "id": "uIJcLnsKNQth"
   },
   "source": [
    "https://www.dataquest.io/blog/python-json-tutorial/"
   ]
  },
  {
   "cell_type": "markdown",
   "metadata": {
    "colab_type": "text",
    "id": "xtxBEejpNQti"
   },
   "source": [
    "## Slicing and Dicing"
   ]
  },
  {
   "cell_type": "markdown",
   "metadata": {
    "colab_type": "text",
    "id": "Tzns_pFsNQtj"
   },
   "source": [
    "It is often preferable to refer to DataFrame columns by name, but there is more than one way to do this. \n",
    "Do `bikes['season']` and `bikes[['season']]` give the same object? Demonstrate:"
   ]
  },
  {
   "cell_type": "code",
   "execution_count": 25,
   "metadata": {
    "colab": {},
    "colab_type": "code",
    "id": "gSlC2oZXNQtj",
    "scrolled": false
   },
   "outputs": [
    {
     "data": {
      "text/plain": [
       "0         16\n",
       "1         40\n",
       "2         32\n",
       "3         13\n",
       "4          1\n",
       "        ... \n",
       "10881    336\n",
       "10882    241\n",
       "10883    168\n",
       "10884    129\n",
       "10885     88\n",
       "Name: count, Length: 10886, dtype: int64"
      ]
     },
     "execution_count": 25,
     "metadata": {},
     "output_type": "execute_result"
    }
   ],
   "source": [
    "#ANSWER\n",
    "bikes['count']\n"
   ]
  },
  {
   "cell_type": "code",
   "execution_count": 24,
   "metadata": {},
   "outputs": [
    {
     "data": {
      "text/html": [
       "<div>\n",
       "<style scoped>\n",
       "    .dataframe tbody tr th:only-of-type {\n",
       "        vertical-align: middle;\n",
       "    }\n",
       "\n",
       "    .dataframe tbody tr th {\n",
       "        vertical-align: top;\n",
       "    }\n",
       "\n",
       "    .dataframe thead th {\n",
       "        text-align: right;\n",
       "    }\n",
       "</style>\n",
       "<table border=\"1\" class=\"dataframe\">\n",
       "  <thead>\n",
       "    <tr style=\"text-align: right;\">\n",
       "      <th></th>\n",
       "      <th>count</th>\n",
       "    </tr>\n",
       "  </thead>\n",
       "  <tbody>\n",
       "    <tr>\n",
       "      <th>0</th>\n",
       "      <td>16</td>\n",
       "    </tr>\n",
       "    <tr>\n",
       "      <th>1</th>\n",
       "      <td>40</td>\n",
       "    </tr>\n",
       "    <tr>\n",
       "      <th>2</th>\n",
       "      <td>32</td>\n",
       "    </tr>\n",
       "    <tr>\n",
       "      <th>3</th>\n",
       "      <td>13</td>\n",
       "    </tr>\n",
       "    <tr>\n",
       "      <th>4</th>\n",
       "      <td>1</td>\n",
       "    </tr>\n",
       "    <tr>\n",
       "      <th>...</th>\n",
       "      <td>...</td>\n",
       "    </tr>\n",
       "    <tr>\n",
       "      <th>10881</th>\n",
       "      <td>336</td>\n",
       "    </tr>\n",
       "    <tr>\n",
       "      <th>10882</th>\n",
       "      <td>241</td>\n",
       "    </tr>\n",
       "    <tr>\n",
       "      <th>10883</th>\n",
       "      <td>168</td>\n",
       "    </tr>\n",
       "    <tr>\n",
       "      <th>10884</th>\n",
       "      <td>129</td>\n",
       "    </tr>\n",
       "    <tr>\n",
       "      <th>10885</th>\n",
       "      <td>88</td>\n",
       "    </tr>\n",
       "  </tbody>\n",
       "</table>\n",
       "<p>10886 rows × 1 columns</p>\n",
       "</div>"
      ],
      "text/plain": [
       "       count\n",
       "0         16\n",
       "1         40\n",
       "2         32\n",
       "3         13\n",
       "4          1\n",
       "...      ...\n",
       "10881    336\n",
       "10882    241\n",
       "10883    168\n",
       "10884    129\n",
       "10885     88\n",
       "\n",
       "[10886 rows x 1 columns]"
      ]
     },
     "execution_count": 24,
     "metadata": {},
     "output_type": "execute_result"
    }
   ],
   "source": [
    "bikes[['count']]"
   ]
  },
  {
   "cell_type": "markdown",
   "metadata": {},
   "source": [
    "<class 'pandas.core.series.Series'>\n",
    "<class 'pandas.core.frame.DataFrame'>"
   ]
  },
  {
   "cell_type": "markdown",
   "metadata": {
    "colab_type": "text",
    "id": "HsCATb2iNQtl"
   },
   "source": [
    "How would we use object notation to show the first 4 rows of `atemp`?"
   ]
  },
  {
   "cell_type": "code",
   "execution_count": 21,
   "metadata": {
    "colab": {},
    "colab_type": "code",
    "id": "T5D_UU5KNQtm"
   },
   "outputs": [
    {
     "data": {
      "text/plain": [
       "0    14.395\n",
       "1    13.635\n",
       "2    13.635\n",
       "3    14.395\n",
       "Name: atemp, dtype: float64"
      ]
     },
     "execution_count": 21,
     "metadata": {},
     "output_type": "execute_result"
    }
   ],
   "source": [
    "#ANSWER\n",
    "bikes.iloc[0:4 ,6]"
   ]
  },
  {
   "cell_type": "markdown",
   "metadata": {
    "colab_type": "text",
    "id": "sWKI9FNDNQto"
   },
   "source": [
    "Algorithms that loop over multiple columns often access DataFrame columns by index. However, none of the following work (try them out by uncommenting / removing the \"#E: \" ): "
   ]
  },
  {
   "cell_type": "code",
   "execution_count": 42,
   "metadata": {
    "colab": {},
    "colab_type": "code",
    "id": "NgWFEEmWNQto"
   },
   "outputs": [
    {
     "data": {
      "text/html": [
       "<div>\n",
       "<style scoped>\n",
       "    .dataframe tbody tr th:only-of-type {\n",
       "        vertical-align: middle;\n",
       "    }\n",
       "\n",
       "    .dataframe tbody tr th {\n",
       "        vertical-align: top;\n",
       "    }\n",
       "\n",
       "    .dataframe thead th {\n",
       "        text-align: right;\n",
       "    }\n",
       "</style>\n",
       "<table border=\"1\" class=\"dataframe\">\n",
       "  <thead>\n",
       "    <tr style=\"text-align: right;\">\n",
       "      <th></th>\n",
       "      <th>0</th>\n",
       "    </tr>\n",
       "  </thead>\n",
       "  <tbody>\n",
       "    <tr>\n",
       "      <th>0</th>\n",
       "      <td>datetime</td>\n",
       "    </tr>\n",
       "    <tr>\n",
       "      <th>1</th>\n",
       "      <td>2011-01-01 00:00:00</td>\n",
       "    </tr>\n",
       "    <tr>\n",
       "      <th>2</th>\n",
       "      <td>2011-01-01 01:00:00</td>\n",
       "    </tr>\n",
       "    <tr>\n",
       "      <th>3</th>\n",
       "      <td>2011-01-01 02:00:00</td>\n",
       "    </tr>\n",
       "    <tr>\n",
       "      <th>4</th>\n",
       "      <td>2011-01-01 03:00:00</td>\n",
       "    </tr>\n",
       "    <tr>\n",
       "      <th>...</th>\n",
       "      <td>...</td>\n",
       "    </tr>\n",
       "    <tr>\n",
       "      <th>10882</th>\n",
       "      <td>2012-12-19 19:00:00</td>\n",
       "    </tr>\n",
       "    <tr>\n",
       "      <th>10883</th>\n",
       "      <td>2012-12-19 20:00:00</td>\n",
       "    </tr>\n",
       "    <tr>\n",
       "      <th>10884</th>\n",
       "      <td>2012-12-19 21:00:00</td>\n",
       "    </tr>\n",
       "    <tr>\n",
       "      <th>10885</th>\n",
       "      <td>2012-12-19 22:00:00</td>\n",
       "    </tr>\n",
       "    <tr>\n",
       "      <th>10886</th>\n",
       "      <td>2012-12-19 23:00:00</td>\n",
       "    </tr>\n",
       "  </tbody>\n",
       "</table>\n",
       "<p>10887 rows × 1 columns</p>\n",
       "</div>"
      ],
      "text/plain": [
       "                         0\n",
       "0                 datetime\n",
       "1      2011-01-01 00:00:00\n",
       "2      2011-01-01 01:00:00\n",
       "3      2011-01-01 02:00:00\n",
       "4      2011-01-01 03:00:00\n",
       "...                    ...\n",
       "10882  2012-12-19 19:00:00\n",
       "10883  2012-12-19 20:00:00\n",
       "10884  2012-12-19 21:00:00\n",
       "10885  2012-12-19 22:00:00\n",
       "10886  2012-12-19 23:00:00\n",
       "\n",
       "[10887 rows x 1 columns]"
      ]
     },
     "execution_count": 42,
     "metadata": {},
     "output_type": "execute_result"
    }
   ],
   "source": [
    "bikes[[0]]\n",
    "#E: bikes[0]\n",
    "#E: bikes[0,0]\n",
    "#E: bikes[[0,0]]"
   ]
  },
  {
   "cell_type": "markdown",
   "metadata": {
    "colab_type": "text",
    "id": "SeUJ7D5qNQtq"
   },
   "source": [
    "What is the correct way to access the 1st row of the DataFrame by its index?"
   ]
  },
  {
   "cell_type": "code",
   "execution_count": 35,
   "metadata": {
    "colab": {},
    "colab_type": "code",
    "id": "d4Kidzz0NQtq"
   },
   "outputs": [
    {
     "name": "stdout",
     "output_type": "stream",
     "text": [
      "datetime      2011-01-01 00:00:00\n",
      "season                          1\n",
      "holiday                         0\n",
      "workingday                      0\n",
      "weather                         1\n",
      "temp                         9.84\n",
      "atemp                      14.395\n",
      "humidity                       81\n",
      "windspeed                     0.0\n",
      "casual                          3\n",
      "registered                     13\n",
      "count                          16\n",
      "Name: 0, dtype: object\n"
     ]
    }
   ],
   "source": [
    "#ANSWER\n",
    "\n",
    "#row1 =df.iloc[1]\n",
    "#print(row1)\n",
    "\n",
    "row1 = bikes.iloc[0, :]\n",
    "print(row1)\n"
   ]
  },
  {
   "cell_type": "markdown",
   "metadata": {
    "colab_type": "text",
    "id": "aZa1v-2jNQts"
   },
   "source": [
    "What is the correct way to access the 2nd column of the DataFrame by its index?"
   ]
  },
  {
   "cell_type": "code",
   "execution_count": 26,
   "metadata": {
    "colab": {},
    "colab_type": "code",
    "id": "T4GmE0EsNQtt"
   },
   "outputs": [
    {
     "name": "stdout",
     "output_type": "stream",
     "text": [
      "0        1\n",
      "1        1\n",
      "2        1\n",
      "3        1\n",
      "4        1\n",
      "        ..\n",
      "10881    4\n",
      "10882    4\n",
      "10883    4\n",
      "10884    4\n",
      "10885    4\n",
      "Name: season, Length: 10886, dtype: int64\n"
     ]
    }
   ],
   "source": [
    "#ANSWER\n",
    "col2 = bikes.iloc[0: , 1]\n",
    "print(col2)"
   ]
  },
  {
   "cell_type": "markdown",
   "metadata": {
    "colab_type": "text",
    "id": "aSvqNbVUNQtu"
   },
   "source": [
    "## Handling Missing Values"
   ]
  },
  {
   "cell_type": "markdown",
   "metadata": {
    "colab_type": "text",
    "id": "BRPFEN1HNQtu"
   },
   "source": [
    "What is the Pandas `isnull` function for? "
   ]
  },
  {
   "cell_type": "markdown",
   "metadata": {
    "colab_type": "text",
    "id": "Xyw5qkWWNQtu"
   },
   "source": [
    "?\n",
    "ANSWER: The `isnull` function checks if the argument passed in is a Nan or a None or any other na values. Return True if the argument is Null"
   ]
  },
  {
   "cell_type": "markdown",
   "metadata": {
    "colab_type": "text",
    "id": "iby8s2VSNQtv"
   },
   "source": [
    "We can apply `isnull` to the `bikes` DataFrame to show the result for every element:"
   ]
  },
  {
   "cell_type": "code",
   "execution_count": 40,
   "metadata": {
    "colab": {},
    "colab_type": "code",
    "id": "YRQY-1ViNQtv"
   },
   "outputs": [
    {
     "data": {
      "text/html": [
       "<div>\n",
       "<style scoped>\n",
       "    .dataframe tbody tr th:only-of-type {\n",
       "        vertical-align: middle;\n",
       "    }\n",
       "\n",
       "    .dataframe tbody tr th {\n",
       "        vertical-align: top;\n",
       "    }\n",
       "\n",
       "    .dataframe thead th {\n",
       "        text-align: right;\n",
       "    }\n",
       "</style>\n",
       "<table border=\"1\" class=\"dataframe\">\n",
       "  <thead>\n",
       "    <tr style=\"text-align: right;\">\n",
       "      <th></th>\n",
       "      <th>datetime</th>\n",
       "      <th>season</th>\n",
       "      <th>holiday</th>\n",
       "      <th>workingday</th>\n",
       "      <th>weather</th>\n",
       "      <th>temp</th>\n",
       "      <th>atemp</th>\n",
       "      <th>humidity</th>\n",
       "      <th>windspeed</th>\n",
       "      <th>casual</th>\n",
       "      <th>registered</th>\n",
       "      <th>count</th>\n",
       "    </tr>\n",
       "  </thead>\n",
       "  <tbody>\n",
       "    <tr>\n",
       "      <th>0</th>\n",
       "      <td>False</td>\n",
       "      <td>False</td>\n",
       "      <td>False</td>\n",
       "      <td>False</td>\n",
       "      <td>False</td>\n",
       "      <td>False</td>\n",
       "      <td>False</td>\n",
       "      <td>False</td>\n",
       "      <td>False</td>\n",
       "      <td>False</td>\n",
       "      <td>False</td>\n",
       "      <td>False</td>\n",
       "    </tr>\n",
       "    <tr>\n",
       "      <th>1</th>\n",
       "      <td>False</td>\n",
       "      <td>False</td>\n",
       "      <td>False</td>\n",
       "      <td>False</td>\n",
       "      <td>False</td>\n",
       "      <td>False</td>\n",
       "      <td>False</td>\n",
       "      <td>False</td>\n",
       "      <td>False</td>\n",
       "      <td>False</td>\n",
       "      <td>False</td>\n",
       "      <td>False</td>\n",
       "    </tr>\n",
       "    <tr>\n",
       "      <th>2</th>\n",
       "      <td>False</td>\n",
       "      <td>False</td>\n",
       "      <td>False</td>\n",
       "      <td>False</td>\n",
       "      <td>False</td>\n",
       "      <td>False</td>\n",
       "      <td>False</td>\n",
       "      <td>False</td>\n",
       "      <td>False</td>\n",
       "      <td>False</td>\n",
       "      <td>False</td>\n",
       "      <td>False</td>\n",
       "    </tr>\n",
       "    <tr>\n",
       "      <th>3</th>\n",
       "      <td>False</td>\n",
       "      <td>False</td>\n",
       "      <td>False</td>\n",
       "      <td>False</td>\n",
       "      <td>False</td>\n",
       "      <td>False</td>\n",
       "      <td>False</td>\n",
       "      <td>False</td>\n",
       "      <td>False</td>\n",
       "      <td>False</td>\n",
       "      <td>False</td>\n",
       "      <td>False</td>\n",
       "    </tr>\n",
       "    <tr>\n",
       "      <th>4</th>\n",
       "      <td>False</td>\n",
       "      <td>False</td>\n",
       "      <td>False</td>\n",
       "      <td>False</td>\n",
       "      <td>False</td>\n",
       "      <td>False</td>\n",
       "      <td>False</td>\n",
       "      <td>False</td>\n",
       "      <td>False</td>\n",
       "      <td>False</td>\n",
       "      <td>False</td>\n",
       "      <td>False</td>\n",
       "    </tr>\n",
       "  </tbody>\n",
       "</table>\n",
       "</div>"
      ],
      "text/plain": [
       "   datetime  season  holiday  workingday  weather   temp  atemp  humidity  \\\n",
       "0     False   False    False       False    False  False  False     False   \n",
       "1     False   False    False       False    False  False  False     False   \n",
       "2     False   False    False       False    False  False  False     False   \n",
       "3     False   False    False       False    False  False  False     False   \n",
       "4     False   False    False       False    False  False  False     False   \n",
       "\n",
       "   windspeed  casual  registered  count  \n",
       "0      False   False       False  False  \n",
       "1      False   False       False  False  \n",
       "2      False   False       False  False  \n",
       "3      False   False       False  False  \n",
       "4      False   False       False  False  "
      ]
     },
     "execution_count": 40,
     "metadata": {},
     "output_type": "execute_result"
    }
   ],
   "source": [
    "bikes.isnull().head()"
   ]
  },
  {
   "cell_type": "markdown",
   "metadata": {
    "colab_type": "text",
    "id": "3IyZaICINQtw"
   },
   "source": [
    "However, we usually start at a higher level. How many nulls are in `bikes` altogether?"
   ]
  },
  {
   "cell_type": "code",
   "execution_count": 43,
   "metadata": {
    "colab": {},
    "colab_type": "code",
    "id": "SbDfiSqVNQtx"
   },
   "outputs": [],
   "source": [
    "#ANSWER\n",
    "null_sum = bikes.isnull().sum()"
   ]
  },
  {
   "cell_type": "markdown",
   "metadata": {
    "colab_type": "text",
    "id": "10jWUf4VNQty"
   },
   "source": [
    "If this result were nonzero we would next want to find out which columns contained nulls. How can this be done in one line of code?"
   ]
  },
  {
   "cell_type": "code",
   "execution_count": 49,
   "metadata": {
    "colab": {},
    "colab_type": "code",
    "id": "qBv3l_s2NQtz"
   },
   "outputs": [],
   "source": [
    "#ANSWER\n",
    "non_null_cols = [col for col,val in null_sum.iteritems() if val>0]"
   ]
  },
  {
   "cell_type": "code",
   "execution_count": 50,
   "metadata": {},
   "outputs": [
    {
     "data": {
      "text/plain": [
       "[]"
      ]
     },
     "execution_count": 50,
     "metadata": {},
     "output_type": "execute_result"
    }
   ],
   "source": [
    "non_null_cols\n"
   ]
  },
  {
   "cell_type": "markdown",
   "metadata": {
    "colab_type": "text",
    "id": "Z1MsvXf7NQt0"
   },
   "source": [
    "What is the Numpy object `nan` used for? (Write a descriptive answer.)"
   ]
  },
  {
   "cell_type": "markdown",
   "metadata": {
    "colab_type": "text",
    "id": "GaeGVh6ZNQt0"
   },
   "source": [
    "?\n",
    "ANSWER: Marking a data point as missing."
   ]
  },
  {
   "cell_type": "markdown",
   "metadata": {
    "colab_type": "text",
    "id": "Z9bFlPsrNQt1"
   },
   "source": [
    "Write (and verify) a function that performs scalar division with built-in handling of the edge case (i.e. return a value instead of just trapping the error):"
   ]
  },
  {
   "cell_type": "code",
   "execution_count": 69,
   "metadata": {
    "colab": {},
    "colab_type": "code",
    "id": "-Cq2VAb8NQt1",
    "scrolled": true
   },
   "outputs": [],
   "source": [
    "#ANSWER\n",
    "def scalar_div(x,y):\n",
    "    if y==0:\n",
    "        return 'y is 0. Division not possible'\n",
    "    z=x/y\n",
    "    return z"
   ]
  },
  {
   "cell_type": "code",
   "execution_count": 70,
   "metadata": {},
   "outputs": [
    {
     "data": {
      "text/plain": [
       "'y is 0. Division not possible'"
      ]
     },
     "execution_count": 70,
     "metadata": {},
     "output_type": "execute_result"
    }
   ],
   "source": [
    "ans = scalar_div(1, 0)\n",
    "ans"
   ]
  },
  {
   "cell_type": "markdown",
   "metadata": {
    "colab_type": "text",
    "id": "f7Up8D6lNQt2"
   },
   "source": [
    "Apply the Pandas `isna` function to the following data objects:"
   ]
  },
  {
   "cell_type": "code",
   "execution_count": 72,
   "metadata": {
    "colab": {},
    "colab_type": "code",
    "id": "l_YvVav3NQt3",
    "scrolled": true
   },
   "outputs": [
    {
     "data": {
      "text/plain": [
       "True"
      ]
     },
     "execution_count": 72,
     "metadata": {},
     "output_type": "execute_result"
    }
   ],
   "source": [
    "x = 2.3\n",
    "y = np.nan\n",
    "pd.isna(x)\n",
    "pd.isna(y)"
   ]
  },
  {
   "cell_type": "code",
   "execution_count": 73,
   "metadata": {
    "colab": {},
    "colab_type": "code",
    "id": "qJUM31pANQt5",
    "scrolled": true
   },
   "outputs": [
    {
     "data": {
      "text/plain": [
       "array([[False,  True, False],\n",
       "       [False, False,  True]])"
      ]
     },
     "execution_count": 73,
     "metadata": {},
     "output_type": "execute_result"
    }
   ],
   "source": [
    "array = np.array([[1, np.nan, 3], [4, 5, np.nan]])\n",
    "pd.isna(array)"
   ]
  },
  {
   "cell_type": "markdown",
   "metadata": {
    "colab_type": "text",
    "id": "QhFaZbzQNQt7"
   },
   "source": [
    "How is the pandas I/O parameter `na_values` used?"
   ]
  },
  {
   "cell_type": "markdown",
   "metadata": {
    "colab_type": "text",
    "id": "mw-PvrTeNQt8"
   },
   "source": [
    "? ANSWER: \n",
    "na_values is used to create a string that considers pandas as NaN (Not a Number)."
   ]
  },
  {
   "cell_type": "markdown",
   "metadata": {
    "colab_type": "text",
    "id": "jOW3ICgwNQt8"
   },
   "source": [
    "## Data Profiling"
   ]
  },
  {
   "cell_type": "markdown",
   "metadata": {
    "colab_type": "text",
    "id": "JZhJ9-XrNQt8"
   },
   "source": [
    "### Counts\n",
    "\n",
    "When there are categorical variables in a dataset we will want to know how many possible values there are in each column. (Nb. If the dataset is a sample of a larger one, our sample may not capture all possible values of every categorical.)"
   ]
  },
  {
   "cell_type": "markdown",
   "metadata": {
    "colab_type": "text",
    "id": "RitKNRPCNQt8"
   },
   "source": [
    "How many (different) seasons are in `bikes`?"
   ]
  },
  {
   "cell_type": "code",
   "execution_count": 27,
   "metadata": {
    "colab": {},
    "colab_type": "code",
    "id": "eqmE4OMsNQt9"
   },
   "outputs": [
    {
     "data": {
      "text/plain": [
       "4"
      ]
     },
     "execution_count": 27,
     "metadata": {},
     "output_type": "execute_result"
    }
   ],
   "source": [
    "#ANSWER\n",
    "bikes.season.nunique()\n"
   ]
  },
  {
   "cell_type": "markdown",
   "metadata": {
    "colab_type": "text",
    "id": "peDZrNJjNQt-"
   },
   "source": [
    "### Ranges"
   ]
  },
  {
   "cell_type": "markdown",
   "metadata": {
    "colab_type": "text",
    "id": "KIKyD5LHNQt-"
   },
   "source": [
    "Print the range of the `instant`, `dteday`, and `windspeed` columns: "
   ]
  },
  {
   "cell_type": "code",
   "execution_count": 81,
   "metadata": {
    "colab": {},
    "colab_type": "code",
    "id": "mVAOjyocNQt-"
   },
   "outputs": [
    {
     "name": "stdout",
     "output_type": "stream",
     "text": [
      "Column: windspeed minimum: 0.0 maximum: 56.9969\n"
     ]
    }
   ],
   "source": [
    "#ANSWER\n",
    "for col in ['instant', 'dteday', 'windspeed']:\n",
    "    if col in bikes.columns:\n",
    "        min_col = bikes[col].min()\n",
    "        max_col = bikes[col].max()\n",
    "        print('Column:', col, 'minimum:', min_col, 'maximum:', max_col)"
   ]
  },
  {
   "cell_type": "markdown",
   "metadata": {
    "colab_type": "text",
    "id": "I5oDTJHoNQt_"
   },
   "source": [
    "Compute and print the overall minimum and maximum of the numeric data columns:"
   ]
  },
  {
   "cell_type": "code",
   "execution_count": 86,
   "metadata": {
    "colab": {},
    "colab_type": "code",
    "id": "yiIKiPT4NQuA"
   },
   "outputs": [
    {
     "data": {
      "text/html": [
       "<div>\n",
       "<style scoped>\n",
       "    .dataframe tbody tr th:only-of-type {\n",
       "        vertical-align: middle;\n",
       "    }\n",
       "\n",
       "    .dataframe tbody tr th {\n",
       "        vertical-align: top;\n",
       "    }\n",
       "\n",
       "    .dataframe thead th {\n",
       "        text-align: right;\n",
       "    }\n",
       "</style>\n",
       "<table border=\"1\" class=\"dataframe\">\n",
       "  <thead>\n",
       "    <tr style=\"text-align: right;\">\n",
       "      <th></th>\n",
       "      <th>season</th>\n",
       "      <th>holiday</th>\n",
       "      <th>workingday</th>\n",
       "      <th>weather</th>\n",
       "      <th>temp</th>\n",
       "      <th>atemp</th>\n",
       "      <th>humidity</th>\n",
       "      <th>windspeed</th>\n",
       "      <th>casual</th>\n",
       "      <th>registered</th>\n",
       "      <th>count</th>\n",
       "    </tr>\n",
       "  </thead>\n",
       "  <tbody>\n",
       "    <tr>\n",
       "      <th>count</th>\n",
       "      <td>10886.000000</td>\n",
       "      <td>10886.000000</td>\n",
       "      <td>10886.000000</td>\n",
       "      <td>10886.000000</td>\n",
       "      <td>10886.00000</td>\n",
       "      <td>10886.000000</td>\n",
       "      <td>10886.000000</td>\n",
       "      <td>10886.000000</td>\n",
       "      <td>10886.000000</td>\n",
       "      <td>10886.000000</td>\n",
       "      <td>10886.000000</td>\n",
       "    </tr>\n",
       "    <tr>\n",
       "      <th>mean</th>\n",
       "      <td>2.506614</td>\n",
       "      <td>0.028569</td>\n",
       "      <td>0.680875</td>\n",
       "      <td>1.418427</td>\n",
       "      <td>20.23086</td>\n",
       "      <td>23.655084</td>\n",
       "      <td>61.886460</td>\n",
       "      <td>12.799395</td>\n",
       "      <td>36.021955</td>\n",
       "      <td>155.552177</td>\n",
       "      <td>191.574132</td>\n",
       "    </tr>\n",
       "    <tr>\n",
       "      <th>std</th>\n",
       "      <td>1.116174</td>\n",
       "      <td>0.166599</td>\n",
       "      <td>0.466159</td>\n",
       "      <td>0.633839</td>\n",
       "      <td>7.79159</td>\n",
       "      <td>8.474601</td>\n",
       "      <td>19.245033</td>\n",
       "      <td>8.164537</td>\n",
       "      <td>49.960477</td>\n",
       "      <td>151.039033</td>\n",
       "      <td>181.144454</td>\n",
       "    </tr>\n",
       "    <tr>\n",
       "      <th>min</th>\n",
       "      <td>1.000000</td>\n",
       "      <td>0.000000</td>\n",
       "      <td>0.000000</td>\n",
       "      <td>1.000000</td>\n",
       "      <td>0.82000</td>\n",
       "      <td>0.760000</td>\n",
       "      <td>0.000000</td>\n",
       "      <td>0.000000</td>\n",
       "      <td>0.000000</td>\n",
       "      <td>0.000000</td>\n",
       "      <td>1.000000</td>\n",
       "    </tr>\n",
       "    <tr>\n",
       "      <th>25%</th>\n",
       "      <td>2.000000</td>\n",
       "      <td>0.000000</td>\n",
       "      <td>0.000000</td>\n",
       "      <td>1.000000</td>\n",
       "      <td>13.94000</td>\n",
       "      <td>16.665000</td>\n",
       "      <td>47.000000</td>\n",
       "      <td>7.001500</td>\n",
       "      <td>4.000000</td>\n",
       "      <td>36.000000</td>\n",
       "      <td>42.000000</td>\n",
       "    </tr>\n",
       "    <tr>\n",
       "      <th>50%</th>\n",
       "      <td>3.000000</td>\n",
       "      <td>0.000000</td>\n",
       "      <td>1.000000</td>\n",
       "      <td>1.000000</td>\n",
       "      <td>20.50000</td>\n",
       "      <td>24.240000</td>\n",
       "      <td>62.000000</td>\n",
       "      <td>12.998000</td>\n",
       "      <td>17.000000</td>\n",
       "      <td>118.000000</td>\n",
       "      <td>145.000000</td>\n",
       "    </tr>\n",
       "    <tr>\n",
       "      <th>75%</th>\n",
       "      <td>4.000000</td>\n",
       "      <td>0.000000</td>\n",
       "      <td>1.000000</td>\n",
       "      <td>2.000000</td>\n",
       "      <td>26.24000</td>\n",
       "      <td>31.060000</td>\n",
       "      <td>77.000000</td>\n",
       "      <td>16.997900</td>\n",
       "      <td>49.000000</td>\n",
       "      <td>222.000000</td>\n",
       "      <td>284.000000</td>\n",
       "    </tr>\n",
       "    <tr>\n",
       "      <th>max</th>\n",
       "      <td>4.000000</td>\n",
       "      <td>1.000000</td>\n",
       "      <td>1.000000</td>\n",
       "      <td>4.000000</td>\n",
       "      <td>41.00000</td>\n",
       "      <td>45.455000</td>\n",
       "      <td>100.000000</td>\n",
       "      <td>56.996900</td>\n",
       "      <td>367.000000</td>\n",
       "      <td>886.000000</td>\n",
       "      <td>977.000000</td>\n",
       "    </tr>\n",
       "  </tbody>\n",
       "</table>\n",
       "</div>"
      ],
      "text/plain": [
       "             season       holiday    workingday       weather         temp  \\\n",
       "count  10886.000000  10886.000000  10886.000000  10886.000000  10886.00000   \n",
       "mean       2.506614      0.028569      0.680875      1.418427     20.23086   \n",
       "std        1.116174      0.166599      0.466159      0.633839      7.79159   \n",
       "min        1.000000      0.000000      0.000000      1.000000      0.82000   \n",
       "25%        2.000000      0.000000      0.000000      1.000000     13.94000   \n",
       "50%        3.000000      0.000000      1.000000      1.000000     20.50000   \n",
       "75%        4.000000      0.000000      1.000000      2.000000     26.24000   \n",
       "max        4.000000      1.000000      1.000000      4.000000     41.00000   \n",
       "\n",
       "              atemp      humidity     windspeed        casual    registered  \\\n",
       "count  10886.000000  10886.000000  10886.000000  10886.000000  10886.000000   \n",
       "mean      23.655084     61.886460     12.799395     36.021955    155.552177   \n",
       "std        8.474601     19.245033      8.164537     49.960477    151.039033   \n",
       "min        0.760000      0.000000      0.000000      0.000000      0.000000   \n",
       "25%       16.665000     47.000000      7.001500      4.000000     36.000000   \n",
       "50%       24.240000     62.000000     12.998000     17.000000    118.000000   \n",
       "75%       31.060000     77.000000     16.997900     49.000000    222.000000   \n",
       "max       45.455000    100.000000     56.996900    367.000000    886.000000   \n",
       "\n",
       "              count  \n",
       "count  10886.000000  \n",
       "mean     191.574132  \n",
       "std      181.144454  \n",
       "min        1.000000  \n",
       "25%       42.000000  \n",
       "50%      145.000000  \n",
       "75%      284.000000  \n",
       "max      977.000000  "
      ]
     },
     "execution_count": 86,
     "metadata": {},
     "output_type": "execute_result"
    }
   ],
   "source": [
    "#bikes_min, bikes_max = (min(bikes.min()), max(bikes.max()))\n",
    "bikes.describe()"
   ]
  },
  {
   "cell_type": "markdown",
   "metadata": {
    "colab_type": "text",
    "id": "OyKKjxJoNQuB"
   },
   "source": [
    "### Quantiles"
   ]
  },
  {
   "cell_type": "markdown",
   "metadata": {
    "colab_type": "text",
    "id": "8hxPA3sXNQuB"
   },
   "source": [
    "Pandas makes computing quantiles easy. This is how to get the median of a Series:"
   ]
  },
  {
   "cell_type": "code",
   "execution_count": 91,
   "metadata": {
    "colab": {},
    "colab_type": "code",
    "id": "n1GLqWOoNQuB"
   },
   "outputs": [
    {
     "data": {
      "text/plain": [
       "24.24"
      ]
     },
     "execution_count": 91,
     "metadata": {},
     "output_type": "execute_result"
    }
   ],
   "source": [
    "bikes['atemp'].quantile(0.5)"
   ]
  },
  {
   "cell_type": "markdown",
   "metadata": {
    "colab_type": "text",
    "id": "oBWCtrCrNQuD"
   },
   "source": [
    "Of course, the `quantiles` method can take a tuple as its argument. Compute the 10th, 25th, 50th, 75th, and 90th percentiles in one line of code: "
   ]
  },
  {
   "cell_type": "code",
   "execution_count": 88,
   "metadata": {
    "colab": {},
    "colab_type": "code",
    "id": "iu8bzEktNQuD"
   },
   "outputs": [
    {
     "data": {
      "text/html": [
       "<div>\n",
       "<style scoped>\n",
       "    .dataframe tbody tr th:only-of-type {\n",
       "        vertical-align: middle;\n",
       "    }\n",
       "\n",
       "    .dataframe tbody tr th {\n",
       "        vertical-align: top;\n",
       "    }\n",
       "\n",
       "    .dataframe thead th {\n",
       "        text-align: right;\n",
       "    }\n",
       "</style>\n",
       "<table border=\"1\" class=\"dataframe\">\n",
       "  <thead>\n",
       "    <tr style=\"text-align: right;\">\n",
       "      <th></th>\n",
       "      <th>season</th>\n",
       "      <th>holiday</th>\n",
       "      <th>workingday</th>\n",
       "      <th>weather</th>\n",
       "      <th>temp</th>\n",
       "      <th>atemp</th>\n",
       "      <th>humidity</th>\n",
       "      <th>windspeed</th>\n",
       "      <th>casual</th>\n",
       "      <th>registered</th>\n",
       "      <th>count</th>\n",
       "    </tr>\n",
       "  </thead>\n",
       "  <tbody>\n",
       "    <tr>\n",
       "      <th>0.10</th>\n",
       "      <td>1.0</td>\n",
       "      <td>0.0</td>\n",
       "      <td>0.0</td>\n",
       "      <td>1.0</td>\n",
       "      <td>9.84</td>\n",
       "      <td>12.120</td>\n",
       "      <td>37.0</td>\n",
       "      <td>0.0000</td>\n",
       "      <td>1.0</td>\n",
       "      <td>7.0</td>\n",
       "      <td>9.0</td>\n",
       "    </tr>\n",
       "    <tr>\n",
       "      <th>0.25</th>\n",
       "      <td>2.0</td>\n",
       "      <td>0.0</td>\n",
       "      <td>0.0</td>\n",
       "      <td>1.0</td>\n",
       "      <td>13.94</td>\n",
       "      <td>16.665</td>\n",
       "      <td>47.0</td>\n",
       "      <td>7.0015</td>\n",
       "      <td>4.0</td>\n",
       "      <td>36.0</td>\n",
       "      <td>42.0</td>\n",
       "    </tr>\n",
       "    <tr>\n",
       "      <th>0.50</th>\n",
       "      <td>3.0</td>\n",
       "      <td>0.0</td>\n",
       "      <td>1.0</td>\n",
       "      <td>1.0</td>\n",
       "      <td>20.50</td>\n",
       "      <td>24.240</td>\n",
       "      <td>62.0</td>\n",
       "      <td>12.9980</td>\n",
       "      <td>17.0</td>\n",
       "      <td>118.0</td>\n",
       "      <td>145.0</td>\n",
       "    </tr>\n",
       "    <tr>\n",
       "      <th>0.75</th>\n",
       "      <td>4.0</td>\n",
       "      <td>0.0</td>\n",
       "      <td>1.0</td>\n",
       "      <td>2.0</td>\n",
       "      <td>26.24</td>\n",
       "      <td>31.060</td>\n",
       "      <td>77.0</td>\n",
       "      <td>16.9979</td>\n",
       "      <td>49.0</td>\n",
       "      <td>222.0</td>\n",
       "      <td>284.0</td>\n",
       "    </tr>\n",
       "    <tr>\n",
       "      <th>0.90</th>\n",
       "      <td>4.0</td>\n",
       "      <td>0.0</td>\n",
       "      <td>1.0</td>\n",
       "      <td>2.0</td>\n",
       "      <td>30.34</td>\n",
       "      <td>34.090</td>\n",
       "      <td>88.0</td>\n",
       "      <td>23.9994</td>\n",
       "      <td>94.0</td>\n",
       "      <td>354.0</td>\n",
       "      <td>452.0</td>\n",
       "    </tr>\n",
       "  </tbody>\n",
       "</table>\n",
       "</div>"
      ],
      "text/plain": [
       "      season  holiday  workingday  weather   temp   atemp  humidity  \\\n",
       "0.10     1.0      0.0         0.0      1.0   9.84  12.120      37.0   \n",
       "0.25     2.0      0.0         0.0      1.0  13.94  16.665      47.0   \n",
       "0.50     3.0      0.0         1.0      1.0  20.50  24.240      62.0   \n",
       "0.75     4.0      0.0         1.0      2.0  26.24  31.060      77.0   \n",
       "0.90     4.0      0.0         1.0      2.0  30.34  34.090      88.0   \n",
       "\n",
       "      windspeed  casual  registered  count  \n",
       "0.10     0.0000     1.0         7.0    9.0  \n",
       "0.25     7.0015     4.0        36.0   42.0  \n",
       "0.50    12.9980    17.0       118.0  145.0  \n",
       "0.75    16.9979    49.0       222.0  284.0  \n",
       "0.90    23.9994    94.0       354.0  452.0  "
      ]
     },
     "execution_count": 88,
     "metadata": {},
     "output_type": "execute_result"
    }
   ],
   "source": [
    "#ANSWER\n",
    "bikes.quantile([0.1, 0.25, 0.5, 0.75, 0.9])"
   ]
  },
  {
   "cell_type": "markdown",
   "metadata": {
    "colab_type": "text",
    "id": "EJnCB_bqNQuF"
   },
   "source": [
    "### Cuts\n",
    "\n",
    "Sometimes we want to split the sample not by the quantiles of the distribution but by the range of the data. Let's take a closer look at `atemp`:"
   ]
  },
  {
   "cell_type": "code",
   "execution_count": 76,
   "metadata": {
    "colab": {},
    "colab_type": "code",
    "id": "vn_cvvY-NQuF"
   },
   "outputs": [
    {
     "data": {
      "text/plain": [
       "pandas.core.series.Series"
      ]
     },
     "execution_count": 76,
     "metadata": {},
     "output_type": "execute_result"
    }
   ],
   "source": [
    "type(bikes['atemp'])"
   ]
  },
  {
   "cell_type": "code",
   "execution_count": 77,
   "metadata": {
    "colab": {},
    "colab_type": "code",
    "id": "ae7zUQp-NQuH",
    "scrolled": true
   },
   "outputs": [
    {
     "data": {
      "text/html": [
       "<div>\n",
       "<style scoped>\n",
       "    .dataframe tbody tr th:only-of-type {\n",
       "        vertical-align: middle;\n",
       "    }\n",
       "\n",
       "    .dataframe tbody tr th {\n",
       "        vertical-align: top;\n",
       "    }\n",
       "\n",
       "    .dataframe thead th {\n",
       "        text-align: right;\n",
       "    }\n",
       "</style>\n",
       "<table border=\"1\" class=\"dataframe\">\n",
       "  <thead>\n",
       "    <tr style=\"text-align: right;\">\n",
       "      <th></th>\n",
       "      <th>datetime</th>\n",
       "      <th>season</th>\n",
       "      <th>holiday</th>\n",
       "      <th>workingday</th>\n",
       "      <th>weather</th>\n",
       "      <th>temp</th>\n",
       "      <th>atemp</th>\n",
       "      <th>humidity</th>\n",
       "      <th>windspeed</th>\n",
       "      <th>casual</th>\n",
       "      <th>registered</th>\n",
       "      <th>count</th>\n",
       "    </tr>\n",
       "  </thead>\n",
       "  <tbody>\n",
       "    <tr>\n",
       "      <th>6234</th>\n",
       "      <td>2012-02-16 00:00:00</td>\n",
       "      <td>1</td>\n",
       "      <td>0</td>\n",
       "      <td>1</td>\n",
       "      <td>2</td>\n",
       "      <td>12.30</td>\n",
       "      <td>15.150</td>\n",
       "      <td>70</td>\n",
       "      <td>8.9981</td>\n",
       "      <td>1</td>\n",
       "      <td>22</td>\n",
       "      <td>23</td>\n",
       "    </tr>\n",
       "    <tr>\n",
       "      <th>10416</th>\n",
       "      <td>2012-11-19 10:00:00</td>\n",
       "      <td>4</td>\n",
       "      <td>0</td>\n",
       "      <td>1</td>\n",
       "      <td>2</td>\n",
       "      <td>14.76</td>\n",
       "      <td>16.665</td>\n",
       "      <td>66</td>\n",
       "      <td>16.9979</td>\n",
       "      <td>33</td>\n",
       "      <td>106</td>\n",
       "      <td>139</td>\n",
       "    </tr>\n",
       "    <tr>\n",
       "      <th>3802</th>\n",
       "      <td>2011-09-09 10:00:00</td>\n",
       "      <td>3</td>\n",
       "      <td>0</td>\n",
       "      <td>1</td>\n",
       "      <td>2</td>\n",
       "      <td>25.42</td>\n",
       "      <td>25.760</td>\n",
       "      <td>100</td>\n",
       "      <td>0.0000</td>\n",
       "      <td>2</td>\n",
       "      <td>27</td>\n",
       "      <td>29</td>\n",
       "    </tr>\n",
       "    <tr>\n",
       "      <th>679</th>\n",
       "      <td>2011-02-11 15:00:00</td>\n",
       "      <td>1</td>\n",
       "      <td>0</td>\n",
       "      <td>1</td>\n",
       "      <td>1</td>\n",
       "      <td>13.12</td>\n",
       "      <td>15.910</td>\n",
       "      <td>21</td>\n",
       "      <td>11.0014</td>\n",
       "      <td>12</td>\n",
       "      <td>62</td>\n",
       "      <td>74</td>\n",
       "    </tr>\n",
       "    <tr>\n",
       "      <th>5996</th>\n",
       "      <td>2012-02-06 01:00:00</td>\n",
       "      <td>1</td>\n",
       "      <td>0</td>\n",
       "      <td>1</td>\n",
       "      <td>1</td>\n",
       "      <td>9.02</td>\n",
       "      <td>12.880</td>\n",
       "      <td>75</td>\n",
       "      <td>6.0032</td>\n",
       "      <td>0</td>\n",
       "      <td>6</td>\n",
       "      <td>6</td>\n",
       "    </tr>\n",
       "  </tbody>\n",
       "</table>\n",
       "</div>"
      ],
      "text/plain": [
       "                  datetime  season  holiday  workingday  weather   temp  \\\n",
       "6234   2012-02-16 00:00:00       1        0           1        2  12.30   \n",
       "10416  2012-11-19 10:00:00       4        0           1        2  14.76   \n",
       "3802   2011-09-09 10:00:00       3        0           1        2  25.42   \n",
       "679    2011-02-11 15:00:00       1        0           1        1  13.12   \n",
       "5996   2012-02-06 01:00:00       1        0           1        1   9.02   \n",
       "\n",
       "        atemp  humidity  windspeed  casual  registered  count  \n",
       "6234   15.150        70     8.9981       1          22     23  \n",
       "10416  16.665        66    16.9979      33         106    139  \n",
       "3802   25.760       100     0.0000       2          27     29  \n",
       "679    15.910        21    11.0014      12          62     74  \n",
       "5996   12.880        75     6.0032       0           6      6  "
      ]
     },
     "execution_count": 77,
     "metadata": {},
     "output_type": "execute_result"
    }
   ],
   "source": [
    "bikes.sample(5)"
   ]
  },
  {
   "cell_type": "markdown",
   "metadata": {
    "colab_type": "text",
    "id": "thwFHrthNQuJ"
   },
   "source": [
    "Suppose we decide to sort these values into 4 bins of equal width, but we want to apply the resulting groups to the entire DataFrame. Basically, we need to add a row label that indcates which bin each sample belongs in. Let's call this label \"atemp_level\", and use the `cut` method to populate it:"
   ]
  },
  {
   "cell_type": "code",
   "execution_count": 93,
   "metadata": {
    "colab": {},
    "colab_type": "code",
    "id": "z7mXBeXMNQuJ"
   },
   "outputs": [
    {
     "name": "stdout",
     "output_type": "stream",
     "text": [
      "0         (9.699, 18.638]\n",
      "1         (9.699, 18.638]\n",
      "2         (9.699, 18.638]\n",
      "3         (9.699, 18.638]\n",
      "4         (9.699, 18.638]\n",
      "               ...       \n",
      "10881    (18.638, 27.577]\n",
      "10882     (9.699, 18.638]\n",
      "10883     (9.699, 18.638]\n",
      "10884     (9.699, 18.638]\n",
      "10885     (9.699, 18.638]\n",
      "Name: atemp, Length: 10886, dtype: category\n",
      "Categories (5, interval[float64]): [(0.715, 9.699] < (9.699, 18.638] < (18.638, 27.577] < (27.577, 36.516] < (36.516, 45.455]]\n"
     ]
    }
   ],
   "source": [
    "atemp_level = pd.cut(bikes['atemp'], bins = 5)\n",
    "print(atemp_level)"
   ]
  },
  {
   "cell_type": "markdown",
   "metadata": {
    "colab_type": "text",
    "id": "vf3Q5vbQNQuL"
   },
   "source": [
    "What is `atemp_level`?"
   ]
  },
  {
   "cell_type": "markdown",
   "metadata": {
    "colab": {},
    "colab_type": "code",
    "id": "dhlx1W-VNQuL"
   },
   "source": [
    "#ANSWER\n",
    "atemp_level splits atemp(continous) into five different discrete bins"
   ]
  },
  {
   "cell_type": "markdown",
   "metadata": {
    "colab_type": "text",
    "id": "GuDXdgfxNQuN"
   },
   "source": [
    "Here is a random sample of `atemp_level`:"
   ]
  },
  {
   "cell_type": "code",
   "execution_count": 94,
   "metadata": {
    "colab": {},
    "colab_type": "code",
    "id": "4Qure0UbNQuN"
   },
   "outputs": [
    {
     "data": {
      "text/plain": [
       "293      (9.699, 18.638]\n",
       "7881    (27.577, 36.516]\n",
       "4336    (18.638, 27.577]\n",
       "726     (18.638, 27.577]\n",
       "2064    (18.638, 27.577]\n",
       "Name: atemp, dtype: category\n",
       "Categories (5, interval[float64]): [(0.715, 9.699] < (9.699, 18.638] < (18.638, 27.577] < (27.577, 36.516] < (36.516, 45.455]]"
      ]
     },
     "execution_count": 94,
     "metadata": {},
     "output_type": "execute_result"
    }
   ],
   "source": [
    "atemp_level.sample(5)          "
   ]
  },
  {
   "cell_type": "markdown",
   "metadata": {
    "colab_type": "text",
    "id": "q59qWmqfNQuO"
   },
   "source": [
    "So, by default, `cut` produces labels that indicate the bin boundaries for each element in the series it was applied to. Usually, we will specify labels that are appropriate to the discretisation we are applying:"
   ]
  },
  {
   "cell_type": "code",
   "execution_count": 95,
   "metadata": {
    "colab": {},
    "colab_type": "code",
    "id": "VYsD8ZwDNQuP"
   },
   "outputs": [
    {
     "data": {
      "text/plain": [
       "2689    warm\n",
       "8589    warm\n",
       "6277    mild\n",
       "6148    cool\n",
       "475     cool\n",
       "Name: atemp, dtype: category\n",
       "Categories (4, object): ['cool' < 'mild' < 'warm' < 'hot']"
      ]
     },
     "execution_count": 95,
     "metadata": {},
     "output_type": "execute_result"
    }
   ],
   "source": [
    "atemp_level = pd.cut(bikes['atemp'], bins = 4, labels = [\"cool\", \"mild\", \"warm\", \"hot\"])\n",
    "atemp_level.sample(5)          "
   ]
  },
  {
   "cell_type": "markdown",
   "metadata": {
    "colab_type": "text",
    "id": "WD-3g9qLNQuQ"
   },
   "source": [
    "Incorporate the new `atemp_level` column into the `bikes` DataFrame and use it to count the number of \"mild\" `atemp` entries in `season` 2:"
   ]
  },
  {
   "cell_type": "code",
   "execution_count": 96,
   "metadata": {
    "colab": {},
    "colab_type": "code",
    "id": "O5fRRbXwNQuR"
   },
   "outputs": [
    {
     "data": {
      "text/plain": [
       "5309    cool\n",
       "1260    cool\n",
       "7532    mild\n",
       "2596    mild\n",
       "9492    mild\n",
       "Name: atemp, dtype: category\n",
       "Categories (2, object): ['cool' < 'mild']"
      ]
     },
     "execution_count": 96,
     "metadata": {},
     "output_type": "execute_result"
    }
   ],
   "source": [
    "#ANSWER\n",
    "atemp_level = pd.cut(bikes['atemp'], bins = 2, labels = [\"cool\", \"mild\"]) # \"warm\", \"hot\", \"Very Hot\"])\n",
    "atemp_level.sample(5)   "
   ]
  },
  {
   "cell_type": "markdown",
   "metadata": {
    "colab_type": "text",
    "id": "9ZN-0yDQNQuR"
   },
   "source": [
    "*Nb. The `atemp_level` variable we created is what the R language calls a \"factor\". Pandas has introduced a new data type called \"category\" that is similar to R's factors.*"
   ]
  },
  {
   "cell_type": "markdown",
   "metadata": {
    "colab_type": "text",
    "id": "vxMDzgRWNQuS"
   },
   "source": [
    "# Synthetic Data\n",
    "\n",
    "Sometimes we may want to generate test data, or we may need to initalise a series, matrix, or data frame for input to an algorithm. Numpy has several methods we can use for this."
   ]
  },
  {
   "cell_type": "markdown",
   "metadata": {
    "colab_type": "text",
    "id": "_W10uoBlNQuS"
   },
   "source": [
    "Execute the following, then check the shape and content of each variable:"
   ]
  },
  {
   "cell_type": "code",
   "execution_count": 94,
   "metadata": {
    "colab": {},
    "colab_type": "code",
    "id": "bFR29OriNQuS"
   },
   "outputs": [],
   "source": [
    "# Creating arrays with initial values\n",
    "a = np.zeros((3))\n",
    "b = np.ones((1,3))\n",
    "c = np.random.randint(1,10,(2,3,4))   # randint(low, high, size)\n",
    "d = np.arange(4)\n",
    "e = np.array( [[1,2,3,4], [5,6,7,8]] )"
   ]
  },
  {
   "cell_type": "code",
   "execution_count": 119,
   "metadata": {},
   "outputs": [
    {
     "name": "stdout",
     "output_type": "stream",
     "text": [
      "(3,) [0. 0. 0.]\n",
      "(1, 3) [[1. 1. 1.]]\n",
      "(2, 3, 4) [[[6 2 7 9]\n",
      "  [7 4 2 4]\n",
      "  [1 1 3 7]]\n",
      "\n",
      " [[7 8 3 5]\n",
      "  [7 5 4 5]\n",
      "  [6 9 2 2]]]\n"
     ]
    }
   ],
   "source": [
    "print (a.shape, a)\n",
    "print (b.shape, b)\n",
    "print (c.shape, c)"
   ]
  },
  {
   "cell_type": "code",
   "execution_count": 123,
   "metadata": {},
   "outputs": [
    {
     "name": "stdout",
     "output_type": "stream",
     "text": [
      "[[1 2 3 4]\n",
      " [5 6 7 8]]\n"
     ]
    }
   ],
   "source": [
    "e = np.array( [[1,2,3,4], [5,6,7,8]] )\n",
    "print(e)"
   ]
  },
  {
   "cell_type": "code",
   "execution_count": 124,
   "metadata": {},
   "outputs": [
    {
     "name": "stdout",
     "output_type": "stream",
     "text": [
      "(2, 4) [[1 2 3 4]\n",
      " [5 6 7 8]]\n"
     ]
    }
   ],
   "source": [
    "e = np.array( [[1,2,3,4], [5,6,7,8]] )\n",
    "print(e.shape, e)"
   ]
  },
  {
   "cell_type": "markdown",
   "metadata": {
    "colab_type": "text",
    "id": "JykYEjUHVppc"
   },
   "source": [
    "## Load Data\n",
    "\n",
    "Load rock.csv and clean the dataset."
   ]
  },
  {
   "cell_type": "code",
   "execution_count": 29,
   "metadata": {},
   "outputs": [
    {
     "name": "stdout",
     "output_type": "stream",
     "text": [
      "               Song Clean ARTIST CLEAN Release Year  \\\n",
      "0        Caught Up in You  .38 Special         1982   \n",
      "1            Fantasy Girl  .38 Special          NaN   \n",
      "2         Hold On Loosely  .38 Special         1981   \n",
      "3  Rockin' Into the Night  .38 Special         1980   \n",
      "4       Art For Arts Sake         10cc         1975   \n",
      "\n",
      "                                COMBINED  First?  Year?  PlayCount  F*G  \n",
      "0        Caught Up in You by .38 Special       1      1         82   82  \n",
      "1            Fantasy Girl by .38 Special       1      0          3    0  \n",
      "2         Hold On Loosely by .38 Special       1      1         85   85  \n",
      "3  Rockin' Into the Night by .38 Special       1      1         18   18  \n",
      "4              Art For Arts Sake by 10cc       1      1          1    1  \n"
     ]
    }
   ],
   "source": [
    "rock = pd.read_csv('rock.csv')\n",
    "print(rock.head())\n",
    "#rock['Release Year'].fillna(0,inplace=True)\n",
    "\n",
    "#Release Year.fillna(value=0, inplace=True)\n",
    "#{1:0}, inplace=True"
   ]
  },
  {
   "cell_type": "markdown",
   "metadata": {
    "colab_type": "text",
    "id": "NZQ4WoVYVppf"
   },
   "source": [
    "## Check Column Names\n",
    "\n",
    "Check column names and clean."
   ]
  },
  {
   "cell_type": "code",
   "execution_count": 72,
   "metadata": {},
   "outputs": [
    {
     "name": "stdout",
     "output_type": "stream",
     "text": [
      "Song Clean\n",
      "ARTIST CLEAN\n",
      "Release Year\n",
      "COMBINED\n",
      "First?\n",
      "Year?\n",
      "PlayCount\n",
      "F*G\n"
     ]
    }
   ],
   "source": [
    "for col in rock.columns:\n",
    "    print(col)"
   ]
  },
  {
   "cell_type": "markdown",
   "metadata": {
    "colab_type": "text",
    "id": "KToV3ub3Vppg"
   },
   "source": [
    "## Replace Null Values With 0\n",
    "\n",
    "Check 'release' column whether this column have any null value or not. Replace null value with 0."
   ]
  },
  {
   "cell_type": "code",
   "execution_count": 30,
   "metadata": {},
   "outputs": [
    {
     "data": {
      "text/plain": [
       "0"
      ]
     },
     "execution_count": 30,
     "metadata": {},
     "output_type": "execute_result"
    }
   ],
   "source": [
    "#rock = rock.replace(\"Release Year\" == \"NaN\", value=0)\n",
    "#rock = rock.replace(np.nan,0)\n",
    "rock['Release Year'] = rock['Release Year'].replace(np.nan,0)\n",
    "rock['Release Year'].isna().sum()"
   ]
  },
  {
   "cell_type": "markdown",
   "metadata": {
    "colab_type": "text",
    "id": "RQ2GyN7MVpph"
   },
   "source": [
    "## Check Datatypes of Dataset\n",
    "\n",
    "Check datatypes of the dataset. Is there any column which should be int instead of object? Fix the column. "
   ]
  },
  {
   "cell_type": "code",
   "execution_count": 31,
   "metadata": {},
   "outputs": [
    {
     "name": "stdout",
     "output_type": "stream",
     "text": [
      "Song Clean      object\n",
      "ARTIST CLEAN    object\n",
      "Release Year    object\n",
      "COMBINED        object\n",
      "First?           int64\n",
      "Year?            int64\n",
      "PlayCount        int64\n",
      "F*G              int64\n",
      "dtype: object\n"
     ]
    }
   ],
   "source": [
    "print(rock.dtypes)"
   ]
  },
  {
   "cell_type": "code",
   "execution_count": 32,
   "metadata": {},
   "outputs": [
    {
     "name": "stdout",
     "output_type": "stream",
     "text": [
      "Song Clean      object\n",
      "ARTIST CLEAN    object\n",
      "Release Year     int64\n",
      "COMBINED        object\n",
      "First?           int64\n",
      "Year?            int64\n",
      "PlayCount        int64\n",
      "F*G              int64\n",
      "dtype: object\n"
     ]
    }
   ],
   "source": [
    "rock['Release Year'] = rock['Release Year'].replace('SONGFACTS.COM',0)\n",
    "rock['Release Year']= rock['Release Year'].astype('int64')\n",
    "print(rock.dtypes)                     "
   ]
  },
  {
   "cell_type": "markdown",
   "metadata": {
    "colab_type": "text",
    "id": "fCzoReoXVpph"
   },
   "source": [
    "## Check Min, Max of Each Column\n",
    "\n",
    "Is there any illogical value in any column? How can we fix that?"
   ]
  },
  {
   "cell_type": "code",
   "execution_count": 108,
   "metadata": {
    "scrolled": true
   },
   "outputs": [
    {
     "data": {
      "text/html": [
       "<div>\n",
       "<style scoped>\n",
       "    .dataframe tbody tr th:only-of-type {\n",
       "        vertical-align: middle;\n",
       "    }\n",
       "\n",
       "    .dataframe tbody tr th {\n",
       "        vertical-align: top;\n",
       "    }\n",
       "\n",
       "    .dataframe thead th {\n",
       "        text-align: right;\n",
       "    }\n",
       "</style>\n",
       "<table border=\"1\" class=\"dataframe\">\n",
       "  <thead>\n",
       "    <tr style=\"text-align: right;\">\n",
       "      <th></th>\n",
       "      <th>Release Year</th>\n",
       "      <th>First?</th>\n",
       "      <th>Year?</th>\n",
       "      <th>PlayCount</th>\n",
       "      <th>F*G</th>\n",
       "    </tr>\n",
       "  </thead>\n",
       "  <tbody>\n",
       "    <tr>\n",
       "      <th>min</th>\n",
       "      <td>0.0</td>\n",
       "      <td>1.0</td>\n",
       "      <td>0.0</td>\n",
       "      <td>0.0</td>\n",
       "      <td>0.0</td>\n",
       "    </tr>\n",
       "    <tr>\n",
       "      <th>max</th>\n",
       "      <td>2014.0</td>\n",
       "      <td>1.0</td>\n",
       "      <td>1.0</td>\n",
       "      <td>142.0</td>\n",
       "      <td>142.0</td>\n",
       "    </tr>\n",
       "  </tbody>\n",
       "</table>\n",
       "</div>"
      ],
      "text/plain": [
       "     Release Year  First?  Year?  PlayCount    F*G\n",
       "min           0.0     1.0    0.0        0.0    0.0\n",
       "max        2014.0     1.0    1.0      142.0  142.0"
      ]
     },
     "execution_count": 108,
     "metadata": {},
     "output_type": "execute_result"
    }
   ],
   "source": [
    "rock.describe().loc[['min','max']]"
   ]
  },
  {
   "cell_type": "markdown",
   "metadata": {},
   "source": [
    "Release Year had an illogical Value 'SONGFACTS.COM', which has been replaced with a 0"
   ]
  },
  {
   "cell_type": "markdown",
   "metadata": {
    "colab_type": "text",
    "id": "NzJieuuyVppi"
   },
   "source": [
    "## Write Some Functions"
   ]
  },
  {
   "cell_type": "markdown",
   "metadata": {
    "colab_type": "text",
    "id": "2jYAjnOVVppi"
   },
   "source": [
    "## Write a function that will take a row of a DataFrame and print out the song, artist, and whether or not the release date is < 1970"
   ]
  },
  {
   "cell_type": "code",
   "execution_count": 33,
   "metadata": {},
   "outputs": [],
   "source": [
    "def pr_row(row):\n",
    "    stat = 'Released on or after 1970'\n",
    "    if row['Release Year'] < 1970:\n",
    "        stat = 'Released before 1970'\n",
    "    print(f'song: {row[\"Song Clean\"]}, ARTIST: {row[\"ARTIST CLEAN\"]} Release: {stat}')"
   ]
  },
  {
   "cell_type": "code",
   "execution_count": 35,
   "metadata": {},
   "outputs": [
    {
     "name": "stdout",
     "output_type": "stream",
     "text": [
      "song: Caught Up in You, ARTIST: .38 Special Release: Released on or after 1970\n",
      "song: Fantasy Girl, ARTIST: .38 Special Release: Released before 1970\n",
      "song: Hold On Loosely, ARTIST: .38 Special Release: Released on or after 1970\n",
      "song: Rockin' Into the Night, ARTIST: .38 Special Release: Released on or after 1970\n",
      "song: Art For Arts Sake, ARTIST: 10cc Release: Released on or after 1970\n",
      "song: Kryptonite, ARTIST: 3 Doors Down Release: Released on or after 1970\n",
      "song: Loser, ARTIST: 3 Doors Down Release: Released on or after 1970\n",
      "song: When I'm Gone, ARTIST: 3 Doors Down Release: Released on or after 1970\n",
      "song: What's Up?, ARTIST: 4 Non Blondes Release: Released on or after 1970\n",
      "song: Take On Me, ARTIST: a-ha Release: Released on or after 1970\n",
      "song: Baby, Please Don't Go, ARTIST: AC/DC Release: Released before 1970\n",
      "song: Back In Black, ARTIST: AC/DC Release: Released on or after 1970\n",
      "song: Big Gun, ARTIST: AC/DC Release: Released on or after 1970\n",
      "song: CAN'T STOP ROCK'N'ROLL, ARTIST: AC/DC Release: Released before 1970\n",
      "song: Dirty Deeds Done Dirt Cheap, ARTIST: AC/DC Release: Released on or after 1970\n",
      "song: For Those About To Rock, ARTIST: AC/DC Release: Released on or after 1970\n",
      "song: Girls Got Rhythm, ARTIST: AC/DC Release: Released before 1970\n",
      "song: Hard As A Rock, ARTIST: AC/DC Release: Released on or after 1970\n",
      "song: Have a Drink On Me, ARTIST: AC/DC Release: Released on or after 1970\n",
      "song: Hells Bells, ARTIST: AC/DC Release: Released on or after 1970\n",
      "song: Highway To Hell, ARTIST: AC/DC Release: Released on or after 1970\n",
      "song: It's A Long Way To The Top, ARTIST: AC/DC Release: Released on or after 1970\n",
      "song: Jailbreak, ARTIST: AC/DC Release: Released on or after 1970\n",
      "song: Let There Be Rock, ARTIST: AC/DC Release: Released on or after 1970\n",
      "song: Let's Get It Up, ARTIST: AC/DC Release: Released before 1970\n",
      "song: Live Wire, ARTIST: AC/DC Release: Released before 1970\n",
      "song: Moneytalks, ARTIST: AC/DC Release: Released before 1970\n",
      "song: Night Prowler, ARTIST: AC/DC Release: Released on or after 1970\n",
      "song: Rock and Roll Ain't Noise Pollution, ARTIST: AC/DC Release: Released on or after 1970\n",
      "song: Shoot To Thrill, ARTIST: AC/DC Release: Released before 1970\n",
      "song: Shot Down In Flames, ARTIST: AC/DC Release: Released on or after 1970\n",
      "song: Sin City, ARTIST: AC/DC Release: Released before 1970\n",
      "song: T.N.T., ARTIST: AC/DC Release: Released on or after 1970\n",
      "song: Thunderstruck, ARTIST: AC/DC Release: Released on or after 1970\n",
      "song: Touch Too Much, ARTIST: AC/DC Release: Released on or after 1970\n",
      "song: What Do You Do For Money Honey, ARTIST: AC/DC Release: Released before 1970\n",
      "song: Who Made Who, ARTIST: AC/DC Release: Released on or after 1970\n",
      "song: Whole Lotta Rosie, ARTIST: AC/DC Release: Released on or after 1970\n",
      "song: You Shook Me All Night Long, ARTIST: AC/DC Release: Released on or after 1970\n",
      "song: How Long, ARTIST: Ace Release: Released on or after 1970\n",
      "song: Dog On A Leash, ARTIST: Adelitas Way Release: Released on or after 1970\n",
      "song: Angel, ARTIST: Aerosmith Release: Released on or after 1970\n",
      "song: Baby, Please Don't Go, ARTIST: Aerosmith Release: Released before 1970\n",
      "song: Back in the Saddle, ARTIST: Aerosmith Release: Released on or after 1970\n",
      "song: Big Ten Inch, ARTIST: Aerosmith Release: Released on or after 1970\n",
      "song: Come Together, ARTIST: Aerosmith Release: Released before 1970\n",
      "song: Crazy, ARTIST: Aerosmith Release: Released on or after 1970\n",
      "song: Cryin', ARTIST: Aerosmith Release: Released on or after 1970\n",
      "song: Draw The Line, ARTIST: Aerosmith Release: Released on or after 1970\n",
      "song: Dream On, ARTIST: Aerosmith Release: Released on or after 1970\n",
      "song: Dude (Looks Like a Lady), ARTIST: Aerosmith Release: Released on or after 1970\n",
      "song: Jaded, ARTIST: Aerosmith Release: Released on or after 1970\n",
      "song: Janie's Got A Gun, ARTIST: Aerosmith Release: Released on or after 1970\n",
      "song: Kings and Queens, ARTIST: Aerosmith Release: Released before 1970\n",
      "song: Last Child, ARTIST: Aerosmith Release: Released on or after 1970\n",
      "song: Let the Music Do the Talking, ARTIST: Aerosmith Release: Released on or after 1970\n",
      "song: Livin' On The Edge, ARTIST: Aerosmith Release: Released on or after 1970\n",
      "song: Love In An Elevator, ARTIST: Aerosmith Release: Released on or after 1970\n",
      "song: Mama Kin, ARTIST: Aerosmith Release: Released on or after 1970\n",
      "song: No More No More, ARTIST: Aerosmith Release: Released on or after 1970\n",
      "song: One Way Street, ARTIST: Aerosmith Release: Released before 1970\n",
      "song: Pink, ARTIST: Aerosmith Release: Released on or after 1970\n",
      "song: Rag Doll, ARTIST: Aerosmith Release: Released on or after 1970\n",
      "song: Same Old Song and Dance, ARTIST: Aerosmith Release: Released on or after 1970\n",
      "song: Seasons of Wither, ARTIST: Aerosmith Release: Released on or after 1970\n",
      "song: Sweet Emotion, ARTIST: Aerosmith Release: Released on or after 1970\n",
      "song: The Other Side, ARTIST: Aerosmith Release: Released before 1970\n",
      "song: Toys in the Attic, ARTIST: Aerosmith Release: Released on or after 1970\n",
      "song: Train Kept A-Rollin', ARTIST: Aerosmith Release: Released on or after 1970\n",
      "song: Walk This Way, ARTIST: Aerosmith Release: Released on or after 1970\n",
      "song: What It Takes, ARTIST: Aerosmith Release: Released on or after 1970\n",
      "song: You See Me Crying, ARTIST: Aerosmith Release: Released before 1970\n",
      "song: Hand In My Pocket, ARTIST: Alanis Morissette Release: Released on or after 1970\n",
      "song: You Oughta Know, ARTIST: Alanis Morissette Release: Released on or after 1970\n",
      "song: Black Velvet, ARTIST: Alannah Myles Release: Released on or after 1970\n",
      "song: Fantasy, ARTIST: Aldo Nova Release: Released before 1970\n",
      "song: BE MY LOVER, ARTIST: Alice Cooper Release: Released before 1970\n",
      "song: Billion Dollar Babies, ARTIST: Alice Cooper Release: Released on or after 1970\n",
      "song: Eighteen, ARTIST: Alice Cooper Release: Released on or after 1970\n",
      "song: Elected, ARTIST: Alice Cooper Release: Released on or after 1970\n",
      "song: House Of Fire, ARTIST: Alice Cooper Release: Released before 1970\n",
      "song: I'm Eighteen, ARTIST: Alice Cooper Release: Released on or after 1970\n",
      "song: No More Mr. Nice Guy, ARTIST: Alice Cooper Release: Released on or after 1970\n",
      "song: School's Out, ARTIST: Alice Cooper Release: Released on or after 1970\n",
      "song: Under My Wheels, ARTIST: Alice Cooper Release: Released on or after 1970\n",
      "song: Welcome To My Nightmare, ARTIST: Alice Cooper Release: Released on or after 1970\n",
      "song: Down in a Hole, ARTIST: Alice In Chains Release: Released on or after 1970\n",
      "song: Man In The Box, ARTIST: Alice In Chains Release: Released on or after 1970\n",
      "song: No Excuses, ARTIST: Alice In Chains Release: Released on or after 1970\n",
      "song: Rooster, ARTIST: Alice In Chains Release: Released on or after 1970\n",
      "song: Them Bones, ARTIST: Alice In Chains Release: Released on or after 1970\n",
      "song: Would?, ARTIST: Alice In Chains Release: Released on or after 1970\n",
      "song: Ain't Wastin' Time No More, ARTIST: Allman Brothers Band Release: Released on or after 1970\n",
      "song: Blue Sky, ARTIST: Allman Brothers Band Release: Released on or after 1970\n",
      "song: Good Clean Fun, ARTIST: Allman Brothers Band Release: Released on or after 1970\n",
      "song: In Memory Of Elizabeth Reed, ARTIST: Allman Brothers Band Release: Released on or after 1970\n",
      "song: Jessica, ARTIST: Allman Brothers Band Release: Released on or after 1970\n",
      "song: Melissa, ARTIST: Allman Brothers Band Release: Released on or after 1970\n",
      "song: Midnight Rider, ARTIST: Allman Brothers Band Release: Released on or after 1970\n",
      "song: No One to Run With, ARTIST: Allman Brothers Band Release: Released on or after 1970\n",
      "song: One Way Out, ARTIST: Allman Brothers Band Release: Released before 1970\n",
      "song: Ramblin' Man, ARTIST: Allman Brothers Band Release: Released on or after 1970\n",
      "song: Southbound, ARTIST: Allman Brothers Band Release: Released before 1970\n",
      "song: Statesboro Blues, ARTIST: Allman Brothers Band Release: Released on or after 1970\n",
      "song: Whippin' Post, ARTIST: Allman Brothers Band Release: Released before 1970\n",
      "song: A Horse With No Name, ARTIST: America Release: Released on or after 1970\n",
      "song: Sister Golden Hair, ARTIST: America Release: Released on or after 1970\n",
      "song: Ventura Highway, ARTIST: America Release: Released on or after 1970\n",
      "song: Don't Bring Me Down, ARTIST: Animals II Release: Released before 1970\n",
      "song: Don't Let Me Be Misunderstood, ARTIST: Animals II Release: Released before 1970\n",
      "song: Immigrant Song, ARTIST: Ann Wilson Release: Released before 1970\n",
      "song: Roller, ARTIST: April Wine Release: Released before 1970\n",
      "song: Hold Your Head Up, ARTIST: Argent Release: Released on or after 1970\n",
      "song: Coming into Los Angeles, ARTIST: Arlo Guthrie Release: Released before 1970\n",
      "song: Wayside, ARTIST: Artful Dodger Release: Released before 1970\n",
      "song: Heat of the Moment, ARTIST: Asia Release: Released on or after 1970\n",
      "song: Only Time Will Tell, ARTIST: Asia Release: Released on or after 1970\n",
      "song: So Into You, ARTIST: Atlanta Rhythm Section Release: Released on or after 1970\n",
      "song: Spooky, ARTIST: Atlanta Rhythm Section Release: Released before 1970\n",
      "song: Like a Stone, ARTIST: Audioslave Release: Released on or after 1970\n",
      "song: Blondes In Black Cars, ARTIST: Autograph Release: Released before 1970\n",
      "song: Turn Up the Radio, ARTIST: Autograph Release: Released on or after 1970\n",
      "song: Rock And Roll Party In The Streets, ARTIST: Axe Release: Released before 1970\n",
      "song: Let It Ride, ARTIST: Bachman-Turner Overdrive Release: Released on or after 1970\n",
      "song: Roll On Down The Highway, ARTIST: Bachman-Turner Overdrive Release: Released before 1970\n",
      "song: Takin' Care Of Business, ARTIST: Bachman-Turner Overdrive Release: Released on or after 1970\n",
      "song: You Ain't Seen Nothin' Yet, ARTIST: Bachman-Turner Overdrive Release: Released on or after 1970\n",
      "song: Bad Company, ARTIST: Bad Company Release: Released on or after 1970\n",
      "song: Burnin' Sky, ARTIST: Bad Company Release: Released on or after 1970\n",
      "song: Can't Get Enough, ARTIST: Bad Company Release: Released on or after 1970\n",
      "song: Feel Like Makin' Love, ARTIST: Bad Company Release: Released before 1970\n",
      "song: Gone Gone Gone, ARTIST: Bad Company Release: Released before 1970\n",
      "song: Good Lovin' Gone Bad, ARTIST: Bad Company Release: Released before 1970\n",
      "song: Movin' On, ARTIST: Bad Company Release: Released before 1970\n",
      "song: Ready For Love, ARTIST: Bad Company Release: Released before 1970\n",
      "song: Rock 'n' Roll Fantasy, ARTIST: Bad Company Release: Released before 1970\n",
      "song: Rock Steady, ARTIST: Bad Company Release: Released before 1970\n",
      "song: Run With The Pack, ARTIST: Bad Company Release: Released before 1970\n",
      "song: Seagull, ARTIST: Bad Company Release: Released on or after 1970\n",
      "song: Shooting Star, ARTIST: Bad Company Release: Released on or after 1970\n",
      "song: Silver, Blue And Gold, ARTIST: Bad Company Release: Released before 1970\n",
      "song: When I See You Smile, ARTIST: Bad English Release: Released on or after 1970\n",
      "song: No Matter What, ARTIST: Badfinger Release: Released on or after 1970\n",
      "song: Walks Like A Woman, ARTIST: Baton Rouge Release: Released before 1970\n",
      "song: (You Gotta) Fight for Your Right (To Party), ARTIST: Beastie Boys Release: Released on or after 1970\n",
      "song: No Sleep Till Brooklyn, ARTIST: Beastie Boys Release: Released on or after 1970\n",
      "song: Loser, ARTIST: Beck Release: Released on or after 1970\n",
      "song: In a Big Country, ARTIST: Big Country Release: Released on or after 1970\n",
      "song: Rock Around the Clock, ARTIST: Bill Haley Release: Released before 1970\n",
      "song: AIN'T NO SUNSHINE, ARTIST: Bill Withers Release: Released on or after 1970\n",
      "song: Cradle of Love, ARTIST: Billy Idol Release: Released on or after 1970\n",
      "song: Dancing With Myself, ARTIST: Billy Idol Release: Released on or after 1970\n",
      "song: Eyes Without a Face, ARTIST: Billy Idol Release: Released on or after 1970\n",
      "song: Mony Mony, ARTIST: Billy Idol Release: Released before 1970\n",
      "song: Rebel Yell, ARTIST: Billy Idol Release: Released on or after 1970\n",
      "song: White Wedding, ARTIST: Billy Idol Release: Released on or after 1970\n",
      "song: Allentown, ARTIST: Billy Joel Release: Released on or after 1970\n",
      "song: Big Shot, ARTIST: Billy Joel Release: Released on or after 1970\n",
      "song: Captain Jack, ARTIST: Billy Joel Release: Released on or after 1970\n",
      "song: Don't Ask Me Why, ARTIST: Billy Joel Release: Released before 1970\n",
      "song: Goodnight Saigon, ARTIST: Billy Joel Release: Released on or after 1970\n",
      "song: It's Still Rock And Roll To Me, ARTIST: Billy Joel Release: Released on or after 1970\n",
      "song: Miami 2017 {seen The Lights Go Out On Broadway} (live 1, ARTIST: Billy Joel Release: Released on or after 1970\n",
      "song: Movin' Out (Anthony's Song), ARTIST: Billy Joel Release: Released on or after 1970\n",
      "song: My Life, ARTIST: Billy Joel Release: Released on or after 1970\n",
      "song: New York State Of Mind, ARTIST: Billy Joel Release: Released on or after 1970\n",
      "song: Only The Good Die Young, ARTIST: Billy Joel Release: Released on or after 1970\n",
      "song: Piano Man, ARTIST: Billy Joel Release: Released on or after 1970\n",
      "song: Prelude/angry Young Man, ARTIST: Billy Joel Release: Released before 1970\n",
      "song: Scenes From An Italian Restaurant, ARTIST: Billy Joel Release: Released on or after 1970\n",
      "song: SHE'S ALWAYS A WOMAN, ARTIST: Billy Joel Release: Released on or after 1970\n",
      "song: Sometimes A Fantasy, ARTIST: Billy Joel Release: Released on or after 1970\n",
      "song: The Ballad Of Billy The Kid, ARTIST: Billy Joel Release: Released on or after 1970\n",
      "song: The Stranger, ARTIST: Billy Joel Release: Released on or after 1970\n",
      "song: You May Be Right, ARTIST: Billy Joel Release: Released on or after 1970\n",
      "song: Baby Come Back, ARTIST: Billy Rankin Release: Released before 1970\n",
      "song: Everybody Wants You, ARTIST: Billy Squier Release: Released before 1970\n",
      "song: In the Dark, ARTIST: Billy Squier Release: Released before 1970\n",
      "song: Lonely Is the Night, ARTIST: Billy Squier Release: Released on or after 1970\n",
      "song: My Kinda Lover, ARTIST: Billy Squier Release: Released before 1970\n",
      "song: Rock Me Tonight, ARTIST: Billy Squier Release: Released on or after 1970\n",
      "song: She's a Runner, ARTIST: Billy Squier Release: Released before 1970\n",
      "song: The Stroke, ARTIST: Billy Squier Release: Released on or after 1970\n",
      "song: Children Of The Sun, ARTIST: Billy Thorpe Release: Released before 1970\n",
      "song: Fairies Wear Boots, ARTIST: Black Sabbath Release: Released on or after 1970\n",
      "song: Heaven and Hell, ARTIST: Black Sabbath Release: Released on or after 1970\n",
      "song: Iron Man, ARTIST: Black Sabbath Release: Released on or after 1970\n",
      "song: N.i.b., ARTIST: Black Sabbath Release: Released on or after 1970\n",
      "song: Neon Knights, ARTIST: Black Sabbath Release: Released on or after 1970\n",
      "song: Paranoid, ARTIST: Black Sabbath Release: Released on or after 1970\n",
      "song: Sweet Leaf, ARTIST: Black Sabbath Release: Released on or after 1970\n",
      "song: The Wizard, ARTIST: Black Sabbath Release: Released on or after 1970\n",
      "song: War Pigs, ARTIST: Black Sabbath Release: Released on or after 1970\n",
      "song: Highway Song, ARTIST: Blackfoot Release: Released before 1970\n",
      "song: Train, Train, ARTIST: Blackfoot Release: Released on or after 1970\n",
      "song: Can't Find My Way Home, ARTIST: Blind Faith Release: Released before 1970\n",
      "song: Presence of the Lord, ARTIST: Blind Faith Release: Released before 1970\n",
      "song: No Rain, ARTIST: Blind Melon Release: Released on or after 1970\n",
      "song: Presence of the Lord, ARTIST: Blind Melon Release: Released before 1970\n",
      "song: All the Small Things, ARTIST: Blink-182 Release: Released on or after 1970\n",
      "song: Call Me, ARTIST: Blondie Release: Released on or after 1970\n",
      "song: Heart of Glass, ARTIST: Blondie Release: Released on or after 1970\n",
      "song: One Way Or Another, ARTIST: Blondie Release: Released on or after 1970\n",
      "song: (Don't Fear) The Reaper, ARTIST: Blue Oyster Cult Release: Released on or after 1970\n",
      "song: Bucks Boogie, ARTIST: Blue Oyster Cult Release: Released before 1970\n",
      "song: Burnin' for You, ARTIST: Blue Oyster Cult Release: Released on or after 1970\n",
      "song: Godzilla, ARTIST: Blue Oyster Cult Release: Released on or after 1970\n",
      "song: I Love the Night, ARTIST: Blue Oyster Cult Release: Released on or after 1970\n",
      "song: Summertime Blues, ARTIST: Blue Oyster Cult Release: Released before 1970\n",
      "song: Song 2, ARTIST: Blur Release: Released on or after 1970\n",
      "song: Just Like A Woman, ARTIST: Bob Dylan Release: Released before 1970\n",
      "song: Knockin' On Heaven's Door, ARTIST: Bob Dylan Release: Released on or after 1970\n",
      "song: Like a Rolling Stone, ARTIST: Bob Dylan Release: Released before 1970\n",
      "song: Positively 4th Street, ARTIST: Bob Dylan Release: Released before 1970\n",
      "song: Subterranean Homesick Blues, ARTIST: Bob Dylan Release: Released before 1970\n",
      "song: Tangled Up In Blue, ARTIST: Bob Dylan Release: Released on or after 1970\n",
      "song: Exodus, ARTIST: Bob Marley Release: Released before 1970\n",
      "song: Jamming, ARTIST: Bob Marley Release: Released before 1970\n",
      "song: No Woman, No Cry, ARTIST: Bob Marley Release: Released on or after 1970\n",
      "song: One Love, ARTIST: Bob Marley Release: Released on or after 1970\n",
      "song: Stir It Up, ARTIST: Bob Marley Release: Released before 1970\n",
      "song: Three Little Birds, ARTIST: Bob Marley Release: Released before 1970\n",
      "song: Against The Wind, ARTIST: Bob Seger Release: Released on or after 1970\n",
      "song: Betty Lou's Gettin' Out Tonigh, ARTIST: Bob Seger Release: Released before 1970\n",
      "song: Come to Poppa, ARTIST: Bob Seger Release: Released before 1970\n",
      "song: Feel Like a Number, ARTIST: Bob Seger Release: Released before 1970\n",
      "song: Fire Down Below, ARTIST: Bob Seger Release: Released on or after 1970\n",
      "song: Get Out of Denver, ARTIST: Bob Seger Release: Released before 1970\n",
      "song: Her Strut, ARTIST: Bob Seger Release: Released on or after 1970\n",
      "song: Hollywood Nights, ARTIST: Bob Seger Release: Released on or after 1970\n",
      "song: Horizontal Bop, ARTIST: Bob Seger Release: Released before 1970\n",
      "song: Katmandu, ARTIST: Bob Seger Release: Released on or after 1970\n",
      "song: Mainstreet, ARTIST: Bob Seger Release: Released on or after 1970\n",
      "song: Night Moves, ARTIST: Bob Seger Release: Released on or after 1970\n",
      "song: Old Time Rock & Roll, ARTIST: Bob Seger Release: Released on or after 1970\n",
      "song: Ramblin' Gamblin' Man, ARTIST: Bob Seger Release: Released before 1970\n",
      "song: Rock And Roll Never Forgets, ARTIST: Bob Seger Release: Released on or after 1970\n",
      "song: Roll Me Away, ARTIST: Bob Seger Release: Released before 1970\n",
      "song: Still the Same, ARTIST: Bob Seger Release: Released on or after 1970\n",
      "song: Sunspot Baby, ARTIST: Bob Seger Release: Released before 1970\n",
      "song: The Fire Down Below, ARTIST: Bob Seger Release: Released before 1970\n",
      "song: Travelin' Man, ARTIST: Bob Seger Release: Released before 1970\n",
      "song: Turn On Your Love Light, ARTIST: Bob Seger Release: Released before 1970\n",
      "song: Turn The Page, ARTIST: Bob Seger Release: Released on or after 1970\n",
      "song: We've Got Tonite, ARTIST: Bob Seger Release: Released on or after 1970\n",
      "song: You'll Accompany Me, ARTIST: Bob Seger Release: Released before 1970\n",
      "song: Hypnotized, ARTIST: Bob Welch Release: Released before 1970\n",
      "song: Bad Medicine, ARTIST: Bon Jovi Release: Released on or after 1970\n",
      "song: Blaze of Glory, ARTIST: Bon Jovi Release: Released on or after 1970\n",
      "song: Born To Be My Baby, ARTIST: Bon Jovi Release: Released on or after 1970\n",
      "song: Lay Your Hands On Me, ARTIST: Bon Jovi Release: Released on or after 1970\n",
      "song: Livin' On A Prayer, ARTIST: Bon Jovi Release: Released on or after 1970\n",
      "song: Raise Your Hands, ARTIST: Bon Jovi Release: Released before 1970\n",
      "song: Runaway, ARTIST: Bon Jovi Release: Released on or after 1970\n",
      "song: She Don't Know Me, ARTIST: Bon Jovi Release: Released before 1970\n",
      "song: Wanted Dead or Alive, ARTIST: Bon Jovi Release: Released on or after 1970\n",
      "song: You Give Love A Bad Name, ARTIST: Bon Jovi Release: Released on or after 1970\n",
      "song: Wait For You, ARTIST: Bonham Release: Released before 1970\n",
      "song: Green Onions, ARTIST: Booker T. and the MG's Release: Released before 1970\n",
      "song: A Man I'll Never Be, ARTIST: Boston Release: Released before 1970\n",
      "song: Amanda, ARTIST: Boston Release: Released on or after 1970\n",
      "song: Cool The Engines, ARTIST: Boston Release: Released before 1970\n",
      "song: Don't Look Back, ARTIST: Boston Release: Released on or after 1970\n",
      "song: Feelin' Satisfied, ARTIST: Boston Release: Released before 1970\n",
      "song: Foreplay (Long Time), ARTIST: Boston Release: Released on or after 1970\n",
      "song: Hitch A Ride, ARTIST: Boston Release: Released on or after 1970\n",
      "song: Let Me Take You Home Tonight, ARTIST: Boston Release: Released on or after 1970\n",
      "song: More Than a Feeling, ARTIST: Boston Release: Released on or after 1970\n",
      "song: Party, ARTIST: Boston Release: Released before 1970\n",
      "song: Peace of Mind, ARTIST: Boston Release: Released on or after 1970\n",
      "song: Rock & Roll Band, ARTIST: Boston Release: Released on or after 1970\n",
      "song: Smokin', ARTIST: Boston Release: Released on or after 1970\n",
      "song: Something About You, ARTIST: Boston Release: Released before 1970\n",
      "song: The Journey/It's Easy, ARTIST: Boston Release: Released before 1970\n",
      "song: Used To Bad News, ARTIST: Boston Release: Released before 1970\n",
      "song: We're Ready, ARTIST: Boston Release: Released before 1970\n",
      "song: Lido Shuffle, ARTIST: Boz Scaggs Release: Released on or after 1970\n",
      "song: Lowdown, ARTIST: Boz Scaggs Release: Released on or after 1970\n",
      "song: Tarkio Road, ARTIST: Brewer & Shipley Release: Released before 1970\n",
      "song: The Way It Is, ARTIST: Bruce Hornsby & The Range Release: Released on or after 1970\n",
      "song: Atlantic City, ARTIST: Bruce Springsteen Release: Released on or after 1970\n",
      "song: Backstreets, ARTIST: Bruce Springsteen Release: Released on or after 1970\n",
      "song: Badlands, ARTIST: Bruce Springsteen Release: Released on or after 1970\n",
      "song: Blinded By the Light, ARTIST: Bruce Springsteen Release: Released on or after 1970\n",
      "song: Born In the U.S.A., ARTIST: Bruce Springsteen Release: Released on or after 1970\n",
      "song: Born To Run, ARTIST: Bruce Springsteen Release: Released on or after 1970\n",
      "song: Cover Me, ARTIST: Bruce Springsteen Release: Released on or after 1970\n",
      "song: Dancing In the Dark, ARTIST: Bruce Springsteen Release: Released on or after 1970\n",
      "song: Glory Days, ARTIST: Bruce Springsteen Release: Released on or after 1970\n",
      "song: Growin' Up, ARTIST: Bruce Springsteen Release: Released on or after 1970\n",
      "song: Hungry Heart, ARTIST: Bruce Springsteen Release: Released on or after 1970\n",
      "song: I'm On Fire, ARTIST: Bruce Springsteen Release: Released on or after 1970\n",
      "song: It's Hard to Be a Saint in the City, ARTIST: Bruce Springsteen Release: Released on or after 1970\n",
      "song: Jersey Girl, ARTIST: Bruce Springsteen Release: Released before 1970\n",
      "song: Jungleland, ARTIST: Bruce Springsteen Release: Released on or after 1970\n",
      "song: Pink Cadillac, ARTIST: Bruce Springsteen Release: Released on or after 1970\n",
      "song: Prove It All Night, ARTIST: Bruce Springsteen Release: Released on or after 1970\n",
      "song: Racing in the Streets, ARTIST: Bruce Springsteen Release: Released on or after 1970\n",
      "song: Rosalita (Come Out Tonight), ARTIST: Bruce Springsteen Release: Released on or after 1970\n",
      "song: She's The One, ARTIST: Bruce Springsteen Release: Released on or after 1970\n",
      "song: Spirit In The Night, ARTIST: Bruce Springsteen Release: Released on or after 1970\n",
      "song: Tenth Avenue Freeze-Out, ARTIST: Bruce Springsteen Release: Released on or after 1970\n",
      "song: Thunder Road, ARTIST: Bruce Springsteen Release: Released on or after 1970\n",
      "song: Cuts Like a Knife, ARTIST: Bryan Adams Release: Released on or after 1970\n",
      "song: Heaven, ARTIST: Bryan Adams Release: Released on or after 1970\n",
      "song: Run to You, ARTIST: Bryan Adams Release: Released on or after 1970\n",
      "song: Somebody, ARTIST: Bryan Adams Release: Released on or after 1970\n",
      "song: Summer Of '69, ARTIST: Bryan Adams Release: Released on or after 1970\n",
      "song: Sorry, ARTIST: Buckcherry Release: Released on or after 1970\n",
      "song: For What It's Worth, ARTIST: Buffalo Springfield Release: Released before 1970\n",
      "song: Mr. Soul, ARTIST: Buffalo Springfield Release: Released before 1970\n",
      "song: Rock & Roll Woman, ARTIST: Buffalo Springfield Release: Released before 1970\n",
      "song: Comedown, ARTIST: Bush Release: Released on or after 1970\n",
      "song: Machinehead, ARTIST: Bush Release: Released on or after 1970\n",
      "song: Far Behind, ARTIST: Candlebox Release: Released on or after 1970\n",
      "song: Goin' up the Country, ARTIST: Canned Heat Release: Released before 1970\n",
      "song: On the Road Again, ARTIST: Canned Heat Release: Released before 1970\n",
      "song: IT'S TOO LATE, ARTIST: Carole King Release: Released on or after 1970\n",
      "song: Oh Very Young, ARTIST: Cat Stevens Release: Released before 1970\n",
      "song: WILD WORLD, ARTIST: Cat Stevens Release: Released on or after 1970\n",
      "song: In America, ARTIST: Charlie Daniels Band Release: Released on or after 1970\n",
      "song: Long Haired Country Boy, ARTIST: Charlie Daniels Band Release: Released on or after 1970\n",
      "song: The Devil Went Down To Georgia, ARTIST: Charlie Daniels Band Release: Released on or after 1970\n",
      "song: The Legend Of Wooley Swamp, ARTIST: Charlie Daniels Band Release: Released before 1970\n",
      "song: The South's Gonna Do It Again, ARTIST: Charlie Daniels Band Release: Released on or after 1970\n",
      "song: Uneasy Rider, ARTIST: Charlie Daniels Band Release: Released on or after 1970\n",
      "song: Ain't That a Shame, ARTIST: Cheap Trick Release: Released before 1970\n",
      "song: Dream Police, ARTIST: Cheap Trick Release: Released before 1970\n",
      "song: I Want You to Want Me, ARTIST: Cheap Trick Release: Released on or after 1970\n",
      "song: She's Tight, ARTIST: Cheap Trick Release: Released before 1970\n",
      "song: Surrender, ARTIST: Cheap Trick Release: Released on or after 1970\n",
      "song: Take Out The Gunman, ARTIST: Chevelle Release: Released on or after 1970\n",
      "song: 25 Or 6 To 4, ARTIST: Chicago Release: Released on or after 1970\n",
      "song: Beginnings, ARTIST: Chicago Release: Released before 1970\n",
      "song: Feeling Stronger Every, ARTIST: Chicago Release: Released on or after 1970\n",
      "song: I'm a Man, ARTIST: Chicago Release: Released before 1970\n",
      "song: JUST YOU AND ME, ARTIST: Chicago Release: Released before 1970\n",
      "song: Make Me Smile, ARTIST: Chicago Release: Released on or after 1970\n",
      "song: Questions 67 and 68, ARTIST: Chicago Release: Released before 1970\n",
      "song: Saturday In the Park, ARTIST: Chicago Release: Released on or after 1970\n",
      "song: South California Purples, ARTIST: Chicago Release: Released before 1970\n",
      "song: JOHNNY B. GOODE, ARTIST: Chuck Berry Release: Released before 1970\n",
      "song: Coming Home, ARTIST: Cinderella Release: Released on or after 1970\n",
      "song: Don't Know What You Got, ARTIST: Cinderella Release: Released on or after 1970\n",
      "song: Gypsy Road, ARTIST: Cinderella Release: Released on or after 1970\n",
      "song: Nobody's Fool, ARTIST: Cinderella Release: Released on or after 1970\n",
      "song: Somebody Save Me, ARTIST: Cinderella Release: Released on or after 1970\n",
      "song: Better Off Without You, ARTIST: Clarks Release: Released before 1970\n",
      "song: Born Too Late, ARTIST: Clarks Release: Released before 1970\n",
      "song: Cigarette, ARTIST: Clarks Release: Released before 1970\n",
      "song: Hey You, ARTIST: Clarks Release: Released before 1970\n",
      "song: Maybe, ARTIST: Clarks Release: Released before 1970\n",
      "song: Penny On The Floor, ARTIST: Clarks Release: Released before 1970\n",
      "song: The River, ARTIST: Clarks Release: Released before 1970\n",
      "song: December, ARTIST: Collective Soul Release: Released before 1970\n",
      "song: Shine, ARTIST: Collective Soul Release: Released on or after 1970\n",
      "song: The World I Know, ARTIST: Collective Soul Release: Released on or after 1970\n",
      "song: Hot Rod Lincoln, ARTIST: Commander Cody Release: Released on or after 1970\n",
      "song: Monkey Bars, ARTIST: Coney Hatch Release: Released before 1970\n",
      "song: Mr. Jones, ARTIST: Counting Crows Release: Released on or after 1970\n",
      "song: Low, ARTIST: Cracker Release: Released on or after 1970\n",
      "song: Badge, ARTIST: Cream Release: Released before 1970\n",
      "song: Born Under A Bad Sign, ARTIST: Cream Release: Released before 1970\n",
      "song: Crossroads, ARTIST: Cream Release: Released before 1970\n",
      "song: I'm So Glad, ARTIST: Cream Release: Released before 1970\n",
      "song: Sunshine of Your Love, ARTIST: Cream Release: Released before 1970\n",
      "song: Tales Of Brave Ulysses, ARTIST: Cream Release: Released before 1970\n",
      "song: White Room, ARTIST: Cream Release: Released before 1970\n",
      "song: Higher, ARTIST: Creed Release: Released on or after 1970\n",
      "song: My Sacrifice, ARTIST: Creed Release: Released before 1970\n",
      "song: With Arms Wide Open, ARTIST: Creed Release: Released on or after 1970\n",
      "song: Bad Moon Rising, ARTIST: Creedence Clearwater Revival Release: Released before 1970\n",
      "song: Born On the Bayou, ARTIST: Creedence Clearwater Revival Release: Released before 1970\n",
      "song: Commotion, ARTIST: Creedence Clearwater Revival Release: Released before 1970\n",
      "song: Down On the Corner, ARTIST: Creedence Clearwater Revival Release: Released before 1970\n",
      "song: Fortunate Son, ARTIST: Creedence Clearwater Revival Release: Released on or after 1970\n",
      "song: Green River, ARTIST: Creedence Clearwater Revival Release: Released before 1970\n",
      "song: Have You Ever Seen the Rain?, ARTIST: Creedence Clearwater Revival Release: Released on or after 1970\n",
      "song: I Heard It Through the Grapevine, ARTIST: Creedence Clearwater Revival Release: Released before 1970\n",
      "song: Lodi, ARTIST: Creedence Clearwater Revival Release: Released before 1970\n",
      "song: Lookin' Out My Back Door, ARTIST: Creedence Clearwater Revival Release: Released on or after 1970\n",
      "song: Proud Mary, ARTIST: Creedence Clearwater Revival Release: Released before 1970\n",
      "song: Run Through the Jungle, ARTIST: Creedence Clearwater Revival Release: Released on or after 1970\n",
      "song: Suzie Q, ARTIST: Creedence Clearwater Revival Release: Released before 1970\n",
      "song: Sweet Hitch Hiker, ARTIST: Creedence Clearwater Revival Release: Released on or after 1970\n",
      "song: The Midnight Special, ARTIST: Creedence Clearwater Revival Release: Released before 1970\n",
      "song: Travelin' Band, ARTIST: Creedence Clearwater Revival Release: Released on or after 1970\n",
      "song: Up Around the Bend, ARTIST: Creedence Clearwater Revival Release: Released on or after 1970\n",
      "song: Who'll Stop the Rain, ARTIST: Creedence Clearwater Revival Release: Released on or after 1970\n",
      "song: Fire Woman, ARTIST: Crosby, Stills & Nash Release: Released before 1970\n",
      "song: Helplessly Hoping, ARTIST: Crosby, Stills & Nash Release: Released before 1970\n",
      "song: Long Time Gone, ARTIST: Crosby, Stills & Nash Release: Released before 1970\n",
      "song: Southern Cross, ARTIST: Crosby, Stills & Nash Release: Released on or after 1970\n",
      "song: Suite: Judy Blue Eyes, ARTIST: Crosby, Stills & Nash Release: Released before 1970\n",
      "song: Carry On, ARTIST: Crosby, Stills, Nash & Young Release: Released on or after 1970\n",
      "song: Ohio, ARTIST: Crosby, Stills, Nash & Young Release: Released on or after 1970\n",
      "song: Woodstock, ARTIST: Crosby, Stills, Nash & Young Release: Released on or after 1970\n",
      "song: (I Just) Died in Your Arms, ARTIST: Cutting Crew Release: Released on or after 1970\n",
      "song: High Enough, ARTIST: Damn Yankees Release: Released on or after 1970\n",
      "song: I HEAR YOU KNOCKING, ARTIST: Dave Edmunds Release: Released on or after 1970\n",
      "song: Headkeeper, ARTIST: Dave Mason Release: Released before 1970\n",
      "song: Only You Know And I Know, ARTIST: Dave Mason Release: Released before 1970\n",
      "song: We Just Disagree, ARTIST: Dave Mason Release: Released on or after 1970\n",
      "song: Welcome To The Boomtown, ARTIST: David & David Release: Released on or after 1970\n",
      "song: Changes, ARTIST: David Bowie Release: Released on or after 1970\n",
      "song: China Girl, ARTIST: David Bowie Release: Released on or after 1970\n",
      "song: Diamond Dogs, ARTIST: David Bowie Release: Released on or after 1970\n",
      "song: Fame, ARTIST: David Bowie Release: Released on or after 1970\n",
      "song: Fashion, ARTIST: David Bowie Release: Released on or after 1970\n",
      "song: Friday on My Mind, ARTIST: David Bowie Release: Released before 1970\n",
      "song: Golden Years, ARTIST: David Bowie Release: Released on or after 1970\n",
      "song: Heroes, ARTIST: David Bowie Release: Released on or after 1970\n",
      "song: Jean Genie, ARTIST: David Bowie Release: Released before 1970\n",
      "song: Let's Dance, ARTIST: David Bowie Release: Released on or after 1970\n",
      "song: Modern Love, ARTIST: David Bowie Release: Released on or after 1970\n",
      "song: Panic in Detroit, ARTIST: David Bowie Release: Released before 1970\n",
      "song: Rebel Rebel, ARTIST: David Bowie Release: Released on or after 1970\n",
      "song: Space Oddity, ARTIST: David Bowie Release: Released before 1970\n",
      "song: Starman, ARTIST: David Bowie Release: Released on or after 1970\n",
      "song: Stay, ARTIST: David Bowie Release: Released before 1970\n",
      "song: Suffragette City, ARTIST: David Bowie Release: Released on or after 1970\n",
      "song: Young Americans, ARTIST: David Bowie Release: Released on or after 1970\n",
      "song: Ziggy Stardust, ARTIST: David Bowie Release: Released on or after 1970\n",
      "song: Rock On, ARTIST: David Essex Release: Released on or after 1970\n",
      "song: There's No Way Out Of Here, ARTIST: David Essex Release: Released before 1970\n",
      "song: There's No Way Out Of Here, ARTIST: David Gilmour Release: Released before 1970\n",
      "song: Frenchette, ARTIST: David Johansen Release: Released before 1970\n",
      "song: California Girls, ARTIST: David Lee Roth Release: Released before 1970\n",
      "song: Just A Gigolo / I Ain't Got Nobody, ARTIST: David Lee Roth Release: Released on or after 1970\n",
      "song: Yankee Rose, ARTIST: David Lee Roth Release: Released on or after 1970\n",
      "song: Burn, ARTIST: Deep Purple Release: Released on or after 1970\n",
      "song: Child In Time, ARTIST: Deep Purple Release: Released on or after 1970\n",
      "song: Highway Star, ARTIST: Deep Purple Release: Released on or after 1970\n",
      "song: Hush, ARTIST: Deep Purple Release: Released before 1970\n",
      "song: Kentucky Woman, ARTIST: Deep Purple Release: Released before 1970\n",
      "song: Knocking At Your Backdoo, ARTIST: Deep Purple Release: Released on or after 1970\n",
      "song: Lazy, ARTIST: Deep Purple Release: Released on or after 1970\n",
      "song: Perfect Strangers, ARTIST: Deep Purple Release: Released before 1970\n",
      "song: Smoke On The Water, ARTIST: Deep Purple Release: Released on or after 1970\n",
      "song: Space Truckin', ARTIST: Deep Purple Release: Released before 1970\n",
      "song: Woman From Tokyo, ARTIST: Deep Purple Release: Released before 1970\n",
      "song: Animal, ARTIST: Def Leppard Release: Released on or after 1970\n",
      "song: Armageddon It, ARTIST: Def Leppard Release: Released on or after 1970\n",
      "song: Bringin' On The Heartbreak, ARTIST: Def Leppard Release: Released before 1970\n",
      "song: Foolin', ARTIST: Def Leppard Release: Released before 1970\n",
      "song: Hysteria, ARTIST: Def Leppard Release: Released on or after 1970\n",
      "song: Love Bites, ARTIST: Def Leppard Release: Released on or after 1970\n",
      "song: On Through The Night, ARTIST: Def Leppard Release: Released before 1970\n",
      "song: Photograph, ARTIST: Def Leppard Release: Released on or after 1970\n",
      "song: Pour Some Sugar On Me, ARTIST: Def Leppard Release: Released on or after 1970\n",
      "song: Rock of Ages, ARTIST: Def Leppard Release: Released on or after 1970\n",
      "song: Rock Rock, ARTIST: Def Leppard Release: Released before 1970\n",
      "song: Rocket, ARTIST: Def Leppard Release: Released on or after 1970\n",
      "song: Too Late for Love, ARTIST: Def Leppard Release: Released before 1970\n",
      "song: Enjoy the Silence, ARTIST: Depeche Mode Release: Released on or after 1970\n",
      "song: Bell Bottom Blues, ARTIST: Derek & The Dominos Release: Released on or after 1970\n",
      "song: Have You Ever Loved a Woman, ARTIST: Derek & The Dominos Release: Released before 1970\n",
      "song: Layla, ARTIST: Derek & The Dominos Release: Released on or after 1970\n",
      "song: Recognition, ARTIST: Detective Release: Released before 1970\n",
      "song: ANGELOS, ARTIST: Dick Siegel Release: Released before 1970\n",
      "song: Holy Diver, ARTIST: Dio Release: Released before 1970\n",
      "song: Rainbow In the Dark, ARTIST: Dio Release: Released before 1970\n",
      "song: The Last In Line, ARTIST: Dio Release: Released before 1970\n",
      "song: Brothers In Arms, ARTIST: Dire Straits Release: Released on or after 1970\n",
      "song: Down To The Waterline, ARTIST: Dire Straits Release: Released on or after 1970\n",
      "song: Expresso Love, ARTIST: Dire Straits Release: Released on or after 1970\n",
      "song: Industrial Disease, ARTIST: Dire Straits Release: Released on or after 1970\n",
      "song: Lady Writer, ARTIST: Dire Straits Release: Released on or after 1970\n",
      "song: Money for Nothing, ARTIST: Dire Straits Release: Released on or after 1970\n",
      "song: Romeo And Juliet, ARTIST: Dire Straits Release: Released on or after 1970\n",
      "song: So Far Away, ARTIST: Dire Straits Release: Released on or after 1970\n",
      "song: Solid Rock, ARTIST: Dire Straits Release: Released before 1970\n",
      "song: Sultans of Swing, ARTIST: Dire Straits Release: Released on or after 1970\n",
      "song: Walk of Life, ARTIST: Dire Straits Release: Released on or after 1970\n",
      "song: Counting Blue Cars, ARTIST: Dishwalla Release: Released on or after 1970\n",
      "song: Drift Away, ARTIST: Dobie Gray Release: Released on or after 1970\n",
      "song: Alone Again, ARTIST: Dokken Release: Released before 1970\n",
      "song: In My Dreams, ARTIST: Dokken Release: Released before 1970\n",
      "song: Into The Fire, ARTIST: Dokken Release: Released before 1970\n",
      "song: Heavy Metal, ARTIST: Don Felder Release: Released on or after 1970\n",
      "song: All She Wants to Do Is Dance, ARTIST: Don Henley Release: Released on or after 1970\n",
      "song: Dirty Laundry, ARTIST: Don Henley Release: Released on or after 1970\n",
      "song: Sunset Grill, ARTIST: Don Henley Release: Released on or after 1970\n",
      "song: The Boys Of Summer, ARTIST: Don Henley Release: Released on or after 1970\n",
      "song: The Heart of the Matter, ARTIST: Don Henley Release: Released on or after 1970\n",
      "song: The Last Worthless Evening, ARTIST: Don Henley Release: Released before 1970\n",
      "song: American Pie, ARTIST: Don McLean Release: Released on or after 1970\n",
      "song: Ah! Leah!, ARTIST: Donnie Iris Release: Released on or after 1970\n",
      "song: Love Is Like A Rock, ARTIST: Donnie Iris Release: Released on or after 1970\n",
      "song: Season of the Witch, ARTIST: Donovan Release: Released before 1970\n",
      "song: Sunshine Superman, ARTIST: Donovan Release: Released before 1970\n",
      "song: COVER OF THE ROLLING STONE, ARTIST: Dr. Hook & the Medicine Show Release: Released before 1970\n",
      "song: Right Place Wrong Time, ARTIST: Dr. John Release: Released on or after 1970\n",
      "song: Anything, Anything, ARTIST: Dramarama Release: Released before 1970\n",
      "song: Hey, Hey (What Can I Do?), ARTIST: Led Zeppelin Release: Released on or after 1970\n",
      "song: Rio, ARTIST: Duran Duran Release: Released on or after 1970\n",
      "song: Already Gone, ARTIST: Eagles Release: Released on or after 1970\n",
      "song: Desperado, ARTIST: Eagles Release: Released on or after 1970\n",
      "song: Heartache Tonight, ARTIST: Eagles Release: Released on or after 1970\n",
      "song: Hotel California, ARTIST: Eagles Release: Released on or after 1970\n",
      "song: I Can't Tell You Why, ARTIST: Eagles Release: Released on or after 1970\n",
      "song: In The City, ARTIST: Eagles Release: Released on or after 1970\n",
      "song: Life in the Fast Lane, ARTIST: Eagles Release: Released on or after 1970\n",
      "song: Lyin' Eyes, ARTIST: Eagles Release: Released on or after 1970\n",
      "song: New Kid In Town, ARTIST: Eagles Release: Released on or after 1970\n",
      "song: One of These Nights, ARTIST: Eagles Release: Released on or after 1970\n",
      "song: Peaceful Easy Feeling, ARTIST: Eagles Release: Released on or after 1970\n",
      "song: Seven Bridges Road, ARTIST: Eagles Release: Released on or after 1970\n",
      "song: Take It Easy, ARTIST: Eagles Release: Released on or after 1970\n",
      "song: Take It to the Limit, ARTIST: Eagles Release: Released on or after 1970\n",
      "song: Tequila Sunrise, ARTIST: Eagles Release: Released on or after 1970\n",
      "song: The Best of My Love, ARTIST: Eagles Release: Released on or after 1970\n",
      "song: The Long Run, ARTIST: Eagles Release: Released on or after 1970\n",
      "song: Those Shoes, ARTIST: Eagles Release: Released on or after 1970\n",
      "song: Victim of Love, ARTIST: Eagles Release: Released on or after 1970\n",
      "song: Witchy Woman, ARTIST: Eagles Release: Released on or after 1970\n",
      "song: Baby Hold On, ARTIST: Eddie Money Release: Released on or after 1970\n",
      "song: Gimme Some Water, ARTIST: Eddie Money Release: Released before 1970\n",
      "song: Shakin', ARTIST: Eddie Money Release: Released before 1970\n",
      "song: Take Me Home Tonight, ARTIST: Eddie Money Release: Released on or after 1970\n",
      "song: Think I'm In Love, ARTIST: Eddie Money Release: Released before 1970\n",
      "song: Two Tickets To Paradise, ARTIST: Eddie Money Release: Released before 1970\n",
      "song: Frankenstein, ARTIST: Edgar Winter Group Release: Released before 1970\n",
      "song: Free Ride, ARTIST: Edgar Winter Group Release: Released on or after 1970\n",
      "song: WAR, ARTIST: Edwin Starr Release: Released on or after 1970\n",
      "song: CAN'T GET IT OUT OF MY HEAD, ARTIST: Electric Light Orchestra Release: Released on or after 1970\n",
      "song: Do Ya, ARTIST: Electric Light Orchestra Release: Released before 1970\n",
      "song: Don't Bring Me Down, ARTIST: Electric Light Orchestra Release: Released on or after 1970\n",
      "song: Evil Woman, ARTIST: Electric Light Orchestra Release: Released on or after 1970\n",
      "song: Fire On High, ARTIST: Electric Light Orchestra Release: Released on or after 1970\n",
      "song: Livin' Thing, ARTIST: Electric Light Orchestra Release: Released on or after 1970\n",
      "song: Roll Over Beethoven, ARTIST: Electric Light Orchestra Release: Released before 1970\n",
      "song: Strange Magic, ARTIST: Electric Light Orchestra Release: Released on or after 1970\n",
      "song: Sweet Talkin' Woman, ARTIST: Electric Light Orchestra Release: Released on or after 1970\n",
      "song: Telephone Line, ARTIST: Electric Light Orchestra Release: Released before 1970\n",
      "song: Turn To Stone, ARTIST: Electric Light Orchestra Release: Released on or after 1970\n",
      "song: All The Girls Love Alice, ARTIST: Elton John Release: Released on or after 1970\n",
      "song: Bennie And The Jets, ARTIST: Elton John Release: Released on or after 1970\n",
      "song: Candle in the Wind, ARTIST: Elton John Release: Released on or after 1970\n",
      "song: Captain Fantastic, ARTIST: Elton John Release: Released on or after 1970\n",
      "song: Crocodile Rock, ARTIST: Elton John Release: Released on or after 1970\n",
      "song: DANIEL, ARTIST: Elton John Release: Released on or after 1970\n",
      "song: Don't Let The Sun Go Down On Me, ARTIST: Elton John Release: Released on or after 1970\n",
      "song: Funeral for a Friend (Love Lies Bleeding), ARTIST: Elton John Release: Released on or after 1970\n",
      "song: Goodbye Yellow Brick Road, ARTIST: Elton John Release: Released on or after 1970\n",
      "song: Harmony, ARTIST: Elton John Release: Released on or after 1970\n",
      "song: Honky Cat, ARTIST: Elton John Release: Released on or after 1970\n",
      "song: Levon, ARTIST: Elton John Release: Released before 1970\n",
      "song: Madman Across The Water, ARTIST: Elton John Release: Released on or after 1970\n",
      "song: Rocket Man, ARTIST: Elton John Release: Released on or after 1970\n",
      "song: Saturday Night's Alright for Fighting, ARTIST: Elton John Release: Released on or after 1970\n",
      "song: Someone Saved My Life Tonight, ARTIST: Elton John Release: Released on or after 1970\n",
      "song: Take Me to the Pilot, ARTIST: Elton John Release: Released before 1970\n",
      "song: Teacher I Need You, ARTIST: Elton John Release: Released before 1970\n",
      "song: THE BITCH IS BACK, ARTIST: Elton John Release: Released on or after 1970\n",
      "song: Tiny Dancer, ARTIST: Elton John Release: Released on or after 1970\n",
      "song: Where To Now St. Peter, ARTIST: Elton John Release: Released on or after 1970\n",
      "song: Your Song, ARTIST: Elton John Release: Released on or after 1970\n",
      "song: Fooled around and Fell in Love, ARTIST: Elvin Bishop Release: Released on or after 1970\n",
      "song: Alison, ARTIST: Elvis Costello Release: Released on or after 1970\n",
      "song: Pump It Up, ARTIST: Elvis Costello Release: Released on or after 1970\n",
      "song: Veronica, ARTIST: Elvis Costello Release: Released on or after 1970\n",
      "song: From the Beginning, ARTIST: Emerson, Lake & Palmer Release: Released on or after 1970\n",
      "song: Hoedown, ARTIST: Emerson, Lake & Palmer Release: Released before 1970\n",
      "song: Karn Evil 9, ARTIST: Emerson, Lake & Palmer Release: Released on or after 1970\n",
      "song: Lucky Man, ARTIST: Emerson, Lake & Palmer Release: Released on or after 1970\n",
      "song: Still You Turn Me On, ARTIST: Emerson, Lake & Palmer Release: Released on or after 1970\n",
      "song: After Midnight, ARTIST: Eric Clapton Release: Released on or after 1970\n",
      "song: Bad Love, ARTIST: Eric Clapton Release: Released on or after 1970\n",
      "song: Call Me the Breeze, ARTIST: Eric Clapton Release: Released before 1970\n",
      "song: Cocaine, ARTIST: Eric Clapton Release: Released on or after 1970\n",
      "song: Don't Think Twice, It's Alright, ARTIST: Eric Clapton Release: Released before 1970\n",
      "song: Forever Man, ARTIST: Eric Clapton Release: Released on or after 1970\n",
      "song: I Can't Stand It, ARTIST: Eric Clapton Release: Released on or after 1970\n",
      "song: I Shot The Sheriff, ARTIST: Eric Clapton Release: Released on or after 1970\n",
      "song: I've Got a Rock 'N' Roll Heart, ARTIST: Eric Clapton Release: Released before 1970\n",
      "song: It's In The Way That You Use It, ARTIST: Eric Clapton Release: Released on or after 1970\n",
      "song: Knockin' On Heaven's Door, ARTIST: Eric Clapton Release: Released before 1970\n",
      "song: Lay Down Sally, ARTIST: Eric Clapton Release: Released on or after 1970\n",
      "song: Layla, ARTIST: Eric Clapton Release: Released before 1970\n",
      "song: Let It Grow, ARTIST: Eric Clapton Release: Released on or after 1970\n",
      "song: Let It Rain, ARTIST: Eric Clapton Release: Released on or after 1970\n",
      "song: Pretending, ARTIST: Eric Clapton Release: Released on or after 1970\n",
      "song: She's Waiting, ARTIST: Eric Clapton Release: Released on or after 1970\n",
      "song: Tears In Heaven, ARTIST: Eric Clapton Release: Released before 1970\n",
      "song: The Core, ARTIST: Eric Clapton Release: Released on or after 1970\n",
      "song: Willie and the Hand Jive, ARTIST: Eric Clapton Release: Released before 1970\n",
      "song: Wonderful Tonight, ARTIST: Eric Clapton Release: Released on or after 1970\n",
      "song: Cliffs Of Dover, ARTIST: Eric Johnson Release: Released on or after 1970\n",
      "song: The Final Countdown, ARTIST: Europe Release: Released on or after 1970\n",
      "song: Sweet Dreams (Are Made of This), ARTIST: Eurythmics Release: Released on or after 1970\n",
      "song: Inside Out, ARTIST: Eve 6 Release: Released before 1970\n",
      "song: Santa Monica, ARTIST: Everclear Release: Released on or after 1970\n",
      "song: The Boys Are Back In Town, ARTIST: Everclear Release: Released before 1970\n",
      "song: What It's Like, ARTIST: Everlast Release: Released on or after 1970\n",
      "song: More Than Words, ARTIST: Extreme Release: Released on or after 1970\n",
      "song: Mutha (Don't Wanna Go To School Today), ARTIST: Extreme Release: Released before 1970\n",
      "song: Ooh La La, ARTIST: Faces Release: Released on or after 1970\n",
      "song: Stay With Me, ARTIST: Faces Release: Released on or after 1970\n",
      "song: Epic, ARTIST: Faith No More Release: Released on or after 1970\n",
      "song: House Of Pain, ARTIST: Faster Pussycat Release: Released on or after 1970\n",
      "song: All The Kings Horses, ARTIST: Firm Release: Released before 1970\n",
      "song: Signs, ARTIST: Five Man Electrical Band Release: Released on or after 1970\n",
      "song: Blue Letter, ARTIST: Fleetwood Mac Release: Released before 1970\n",
      "song: Don't Stop, ARTIST: Fleetwood Mac Release: Released on or after 1970\n",
      "song: Dreams, ARTIST: Fleetwood Mac Release: Released on or after 1970\n",
      "song: Go Your Own Way, ARTIST: Fleetwood Mac Release: Released on or after 1970\n",
      "song: Gold Dust Woman, ARTIST: Fleetwood Mac Release: Released on or after 1970\n",
      "song: Gypsy, ARTIST: Fleetwood Mac Release: Released on or after 1970\n",
      "song: Hold Me, ARTIST: Fleetwood Mac Release: Released on or after 1970\n",
      "song: Hypnotized, ARTIST: Fleetwood Mac Release: Released on or after 1970\n",
      "song: I Don't Want To Know, ARTIST: Fleetwood Mac Release: Released on or after 1970\n",
      "song: I'm So Afraid, ARTIST: Fleetwood Mac Release: Released before 1970\n",
      "song: Landslide, ARTIST: Fleetwood Mac Release: Released on or after 1970\n",
      "song: Little Lies, ARTIST: Fleetwood Mac Release: Released on or after 1970\n",
      "song: Monday Morning, ARTIST: Fleetwood Mac Release: Released on or after 1970\n",
      "song: Never Going Back Again, ARTIST: Fleetwood Mac Release: Released on or after 1970\n",
      "song: Oh Well, ARTIST: Fleetwood Mac Release: Released before 1970\n",
      "song: Rhiannon, ARTIST: Fleetwood Mac Release: Released on or after 1970\n",
      "song: Sara, ARTIST: Fleetwood Mac Release: Released on or after 1970\n",
      "song: Say You Love Me, ARTIST: Fleetwood Mac Release: Released before 1970\n",
      "song: Second Hand News, ARTIST: Fleetwood Mac Release: Released on or after 1970\n",
      "song: Sentimental Lady, ARTIST: Fleetwood Mac Release: Released before 1970\n",
      "song: The Chain, ARTIST: Fleetwood Mac Release: Released on or after 1970\n",
      "song: Tusk, ARTIST: Fleetwood Mac Release: Released on or after 1970\n",
      "song: World Turning, ARTIST: Fleetwood Mac Release: Released before 1970\n",
      "song: You Make Loving Fun, ARTIST: Fleetwood Mac Release: Released on or after 1970\n",
      "song: Hocus Pocus, ARTIST: Focus Release: Released on or after 1970\n",
      "song: Dreamer, ARTIST: Foghat Release: Released before 1970\n",
      "song: Fool For The City, ARTIST: Foghat Release: Released on or after 1970\n",
      "song: I Just Want To Make Love To You, ARTIST: Foghat Release: Released before 1970\n",
      "song: Slow Ride, ARTIST: Foghat Release: Released on or after 1970\n",
      "song: All My Life, ARTIST: Foo Fighters Release: Released on or after 1970\n",
      "song: Baker Street, ARTIST: Foo Fighters Release: Released before 1970\n",
      "song: Best of You, ARTIST: Foo Fighters Release: Released on or after 1970\n",
      "song: Everlong, ARTIST: Foo Fighters Release: Released on or after 1970\n",
      "song: Learn To Fly, ARTIST: Foo Fighters Release: Released on or after 1970\n",
      "song: Monkey Wrench, ARTIST: Foo Fighters Release: Released on or after 1970\n",
      "song: My Hero, ARTIST: Foo Fighters Release: Released on or after 1970\n",
      "song: The Pretender, ARTIST: Foo Fighters Release: Released on or after 1970\n",
      "song: These Days, ARTIST: Foo Fighters Release: Released on or after 1970\n",
      "song: Times Like These, ARTIST: Foo Fighters Release: Released on or after 1970\n",
      "song: Blue Morning, Blue Day, ARTIST: Foreigner Release: Released before 1970\n",
      "song: Cold As Ice, ARTIST: Foreigner Release: Released on or after 1970\n",
      "song: Dirty White Boy, ARTIST: Foreigner Release: Released on or after 1970\n",
      "song: Double Vision, ARTIST: Foreigner Release: Released on or after 1970\n",
      "song: Feels Like the First Time, ARTIST: Foreigner Release: Released on or after 1970\n",
      "song: Head Games, ARTIST: Foreigner Release: Released before 1970\n",
      "song: Hot Blooded, ARTIST: Foreigner Release: Released on or after 1970\n",
      "song: I Want to Know What Love Is, ARTIST: Foreigner Release: Released on or after 1970\n",
      "song: Juke Box Hero, ARTIST: Foreigner Release: Released on or after 1970\n",
      "song: Long, Long Way From Home, ARTIST: Foreigner Release: Released before 1970\n",
      "song: Love Has Taken Its Toll, ARTIST: Foreigner Release: Released before 1970\n",
      "song: Starrider, ARTIST: Foreigner Release: Released before 1970\n",
      "song: That Was Yesterday, ARTIST: Foreigner Release: Released on or after 1970\n",
      "song: Urgent, ARTIST: Foreigner Release: Released on or after 1970\n",
      "song: Waiting for a Girl Like You, ARTIST: Foreigner Release: Released on or after 1970\n",
      "song: Women, ARTIST: Foreigner Release: Released before 1970\n",
      "song: Joe's Garage, ARTIST: Frank Zappa Release: Released on or after 1970\n",
      "song: Peaches En Regalia, ARTIST: Frank Zappa Release: Released before 1970\n",
      "song: All Right Now, ARTIST: Free Release: Released on or after 1970\n",
      "song: Hemorrhage, ARTIST: Free Release: Released before 1970\n",
      "song: Wishing Well, ARTIST: Free Release: Released on or after 1970\n",
      "song: Maggot Brain, ARTIST: Funkadelic Release: Released on or after 1970\n",
      "song: CARS, ARTIST: Gary Numan Release: Released on or after 1970\n",
      "song: Dream Weaver, ARTIST: Gary Wright Release: Released on or after 1970\n",
      "song: Love Is Alive, ARTIST: Gary Wright Release: Released before 1970\n",
      "song: A Trick of the Tail, ARTIST: Genesis Release: Released on or after 1970\n",
      "song: Abacab, ARTIST: Genesis Release: Released on or after 1970\n",
      "song: Behind The Lines, ARTIST: Genesis Release: Released before 1970\n",
      "song: Carpet Crawlers, ARTIST: Genesis Release: Released before 1970\n",
      "song: Follow You Follow Me, ARTIST: Genesis Release: Released on or after 1970\n",
      "song: Home by the Sea/Second Home by the Sea, ARTIST: Genesis Release: Released on or after 1970\n",
      "song: Just A Job To Do, ARTIST: Genesis Release: Released before 1970\n",
      "song: Land Of Confusion, ARTIST: Genesis Release: Released on or after 1970\n",
      "song: Mama, ARTIST: Genesis Release: Released on or after 1970\n",
      "song: Man On The Corner, ARTIST: Genesis Release: Released on or after 1970\n",
      "song: Misunderstanding, ARTIST: Genesis Release: Released on or after 1970\n",
      "song: No Reply At All, ARTIST: Genesis Release: Released on or after 1970\n",
      "song: That's All, ARTIST: Genesis Release: Released on or after 1970\n",
      "song: The Lamb Lies Down On Broadway, ARTIST: Genesis Release: Released on or after 1970\n",
      "song: Tonight Tonight (live), ARTIST: Genesis Release: Released on or after 1970\n",
      "song: Turn It On Again, ARTIST: Genesis Release: Released on or after 1970\n",
      "song: Give Me Love, ARTIST: George Harrison Release: Released on or after 1970\n",
      "song: GOT MY MIND SET ON YOU, ARTIST: George Harrison Release: Released on or after 1970\n",
      "song: My Sweet Lord, ARTIST: George Harrison Release: Released on or after 1970\n",
      "song: Bad to the Bone, ARTIST: George Thorogood Release: Released on or after 1970\n",
      "song: Delaware Slide, ARTIST: George Thorogood Release: Released before 1970\n",
      "song: Get A Haircut, ARTIST: George Thorogood Release: Released before 1970\n",
      "song: I Drink Alone, ARTIST: George Thorogood Release: Released on or after 1970\n",
      "song: It Wasn't Me, ARTIST: George Thorogood Release: Released before 1970\n",
      "song: Move It On Over, ARTIST: George Thorogood Release: Released before 1970\n",
      "song: One Bourbon, One Scotch, One Beer, ARTIST: George Thorogood Release: Released before 1970\n",
      "song: Who Do You Love, ARTIST: George Thorogood Release: Released before 1970\n",
      "song: Keep Your Hands To Yourself, ARTIST: Georgia Satellites Release: Released on or after 1970\n",
      "song: Baker Street, ARTIST: Gerry Rafferty Release: Released on or after 1970\n",
      "song: Right Down the Line, ARTIST: Gerry Rafferty Release: Released on or after 1970\n",
      "song: Found Out About You, ARTIST: Gin Blossoms Release: Released on or after 1970\n",
      "song: Hey Jealousy, ARTIST: Gin Blossoms Release: Released on or after 1970\n",
      "song: Smuggler's Blues, ARTIST: Glenn Frey Release: Released on or after 1970\n",
      "song: You Belong to the City, ARTIST: Glenn Frey Release: Released on or after 1970\n",
      "song: Marakesh Express, ARTIST: Gold Star Ballroom Orchestra Release: Released before 1970\n",
      "song: Are You Receiving Me, ARTIST: Golden Earring Release: Released on or after 1970\n",
      "song: Radar Love, ARTIST: Golden Earring Release: Released on or after 1970\n",
      "song: Twilight Zone, ARTIST: Golden Earring Release: Released on or after 1970\n",
      "song: Sundown, ARTIST: Gordon Lightfoot Release: Released on or after 1970\n",
      "song: Soulshine, ARTIST: Gov't Mule Release: Released before 1970\n",
      "song: Bad Time, ARTIST: Grand Funk Railroad Release: Released on or after 1970\n",
      "song: Closer To Home (I'm Your Captain), ARTIST: Grand Funk Railroad Release: Released on or after 1970\n",
      "song: Loco-Motion, ARTIST: Grand Funk Railroad Release: Released on or after 1970\n",
      "song: Shinin' On, ARTIST: Grand Funk Railroad Release: Released on or after 1970\n",
      "song: Some Kind of Wonderful, ARTIST: Grand Funk Railroad Release: Released on or after 1970\n",
      "song: We're an American Band, ARTIST: Grand Funk Railroad Release: Released on or after 1970\n",
      "song: Alabama Getaway, ARTIST: Grateful Dead Release: Released before 1970\n",
      "song: Black-Throated Wind, ARTIST: Grateful Dead Release: Released before 1970\n",
      "song: Casey Jones, ARTIST: Grateful Dead Release: Released on or after 1970\n",
      "song: CHINA TOWN SHUFFLE , ARTIST: Grateful Dead Release: Released before 1970\n",
      "song: Friend Of The Devil, ARTIST: Grateful Dead Release: Released on or after 1970\n",
      "song: Hell in a Bucket, ARTIST: Grateful Dead Release: Released before 1970\n",
      "song: Loser, ARTIST: Grateful Dead Release: Released before 1970\n",
      "song: Me and Bobby McGee, ARTIST: Grateful Dead Release: Released before 1970\n",
      "song: NOT FADEAWAY/GOING /AWAY, ARTIST: Grateful Dead Release: Released before 1970\n",
      "song: Scarlet Begonias, ARTIST: Grateful Dead Release: Released before 1970\n",
      "song: Shakedown Street, ARTIST: Grateful Dead Release: Released before 1970\n",
      "song: Sugar Magnolia, ARTIST: Grateful Dead Release: Released on or after 1970\n",
      "song: Touch of Grey, ARTIST: Grateful Dead Release: Released on or after 1970\n",
      "song: Truckin', ARTIST: Grateful Dead Release: Released on or after 1970\n",
      "song: Turn On Your Lovelight, ARTIST: Grateful Dead Release: Released before 1970\n",
      "song: U.S. Blues, ARTIST: Grateful Dead Release: Released before 1970\n",
      "song: Uncle John's Band, ARTIST: Grateful Dead Release: Released before 1970\n",
      "song: Mista Bone, ARTIST: Great White Release: Released before 1970\n",
      "song: Once Bitten, Twice Shy, ARTIST: Great White Release: Released on or after 1970\n",
      "song: Rock Me, ARTIST: Great White Release: Released before 1970\n",
      "song: Rollin' Stoned, ARTIST: Great White Release: Released before 1970\n",
      "song: Save Your Love, ARTIST: Great White Release: Released before 1970\n",
      "song: Basket Case, ARTIST: Green Day Release: Released on or after 1970\n",
      "song: Boulevard Of Broken Dreams, ARTIST: Green Day Release: Released on or after 1970\n",
      "song: Brain Stew/Jaded, ARTIST: Green Day Release: Released on or after 1970\n",
      "song: Good Riddance (Time Of Your Life), ARTIST: Green Day Release: Released on or after 1970\n",
      "song: Holiday (Live), ARTIST: Green Day Release: Released on or after 1970\n",
      "song: Holiday / Boulevard of Broken Dreams, ARTIST: Green Day Release: Released on or after 1970\n",
      "song: Longview, ARTIST: Green Day Release: Released on or after 1970\n",
      "song: When I Come Around, ARTIST: Green Day Release: Released on or after 1970\n",
      "song: The Break Up Song, ARTIST: Greg Kihn Band Release: Released on or after 1970\n",
      "song: I'm No Angel, ARTIST: Gregg Allman Release: Released on or after 1970\n",
      "song: Midnight Rider, ARTIST: Gregg Allman Release: Released on or after 1970\n",
      "song: American Woman, ARTIST: Guess Who Release: Released on or after 1970\n",
      "song: Friends Of Mine, ARTIST: Guess Who Release: Released before 1970\n",
      "song: No Sugar Tonight / New Mother Nature, ARTIST: Guess Who Release: Released on or after 1970\n",
      "song: No Time, ARTIST: Guess Who Release: Released before 1970\n",
      "song: THESE EYES, ARTIST: Guess Who Release: Released before 1970\n",
      "song: Civil War, ARTIST: Guns N' Roses Release: Released on or after 1970\n",
      "song: Don't Cry, ARTIST: Guns N' Roses Release: Released before 1970\n",
      "song: Knockin' On Heaven's Door, ARTIST: Guns N' Roses Release: Released before 1970\n",
      "song: Live and Let Die, ARTIST: Guns N' Roses Release: Released before 1970\n",
      "song: Mr. Brownstone, ARTIST: Guns N' Roses Release: Released on or after 1970\n",
      "song: My Michelle, ARTIST: Guns N' Roses Release: Released on or after 1970\n",
      "song: November Rain, ARTIST: Guns N' Roses Release: Released on or after 1970\n",
      "song: Paradise City, ARTIST: Guns N' Roses Release: Released on or after 1970\n",
      "song: Patience, ARTIST: Guns N' Roses Release: Released on or after 1970\n",
      "song: Sweet Child O' Mine, ARTIST: Guns N' Roses Release: Released on or after 1970\n",
      "song: Used To Love Her, ARTIST: Guns N' Roses Release: Released on or after 1970\n",
      "song: Welcome to the Jungle, ARTIST: Guns N' Roses Release: Released on or after 1970\n",
      "song: You Could Be Mine, ARTIST: Guns N' Roses Release: Released before 1970\n",
      "song: AS FAR AS YOU CAN SEE (AS MU, ARTIST: Gypsy Release: Released before 1970\n",
      "song: Axel F Theme, ARTIST: Harold Faltermeyer Release: Released on or after 1970\n",
      "song: Cat's In The Cradle, ARTIST: Harry Chapin Release: Released on or after 1970\n",
      "song: W*O*L*D*, ARTIST: Harry Chapin Release: Released on or after 1970\n",
      "song: Jump into the Fire, ARTIST: Harry Nilsson Release: Released before 1970\n",
      "song: Never Been Any Reason, ARTIST: Head East Release: Released on or after 1970\n",
      "song: All I Wanna Do Is Make Love to You, ARTIST: Heart Release: Released before 1970\n",
      "song: Alone, ARTIST: Heart Release: Released on or after 1970\n",
      "song: Barracuda, ARTIST: Heart Release: Released on or after 1970\n",
      "song: Bebe le Strange, ARTIST: Heart Release: Released before 1970\n",
      "song: Crazy On You, ARTIST: Heart Release: Released on or after 1970\n",
      "song: Dog & Butterfly, ARTIST: Heart Release: Released before 1970\n",
      "song: Dreamboat Annie, ARTIST: Heart Release: Released on or after 1970\n",
      "song: Even It Up, ARTIST: Heart Release: Released before 1970\n",
      "song: Heartless, ARTIST: Heart Release: Released before 1970\n",
      "song: How Can I Refuse, ARTIST: Heart Release: Released on or after 1970\n",
      "song: If Looks Could Kill, ARTIST: Heart Release: Released before 1970\n",
      "song: Kick It Out, ARTIST: Heart Release: Released before 1970\n",
      "song: Little Queen, ARTIST: Heart Release: Released before 1970\n",
      "song: Love Alive, ARTIST: Heart Release: Released before 1970\n",
      "song: Magic Man, ARTIST: Heart Release: Released on or after 1970\n",
      "song: Mistral Wind, ARTIST: Heart Release: Released before 1970\n",
      "song: Never, ARTIST: Heart Release: Released before 1970\n",
      "song: Nothin' at All, ARTIST: Heart Release: Released before 1970\n",
      "song: Rock And Roll, ARTIST: Heart Release: Released before 1970\n",
      "song: Stairway To Heaven, ARTIST: Heart Release: Released before 1970\n",
      "song: Straight On, ARTIST: Heart Release: Released on or after 1970\n",
      "song: Tell It Like It Is, ARTIST: Heart Release: Released before 1970\n",
      "song: What About Love?, ARTIST: Heart Release: Released before 1970\n",
      "song: Who Will You Run To, ARTIST: Heart Release: Released before 1970\n",
      "song: House Of Living, ARTIST: Heartsfield Release: Released before 1970\n",
      "song: Sangre Por Sangre, ARTIST: HellYeah Release: Released before 1970\n",
      "song: Grey Ghost, ARTIST: Henry Paul Band Release: Released on or after 1970\n",
      "song: Long Cool Woman, ARTIST: Hollies Release: Released on or after 1970\n",
      "song: New Girl Now, ARTIST: Honeymoon Suite Release: Released before 1970\n",
      "song: ALL YOU ZOMBIES, ARTIST: Hooters Release: Released on or after 1970\n",
      "song: AND WE DANCED, ARTIST: Hooters Release: Released on or after 1970\n",
      "song: I Want A New Drug, ARTIST: Huey Lewis & The News Release: Released on or after 1970\n",
      "song: 30 Days In the Hole, ARTIST: Humble Pie Release: Released on or after 1970\n",
      "song: Lust for Life, ARTIST: Iggy Pop Release: Released on or after 1970\n",
      "song: The Passenger, ARTIST: Iggy Pop Release: Released on or after 1970\n",
      "song: Radioactive, ARTIST: Imagine Dragons Release: Released on or after 1970\n",
      "song: Devil Inside, ARTIST: INXS Release: Released on or after 1970\n",
      "song: Need You Tonight, ARTIST: INXS Release: Released on or after 1970\n",
      "song: New Sensation, ARTIST: INXS Release: Released before 1970\n",
      "song: What You Need, ARTIST: INXS Release: Released on or after 1970\n",
      "song: In A Gadda Da Vida, ARTIST: Iron Butterfly Release: Released before 1970\n",
      "song: Flight Of Icarus, ARTIST: Iron Maiden Release: Released on or after 1970\n",
      "song: Run To The Hills, ARTIST: Iron Maiden Release: Released on or after 1970\n",
      "song: The Number Of The Beast, ARTIST: Iron Maiden Release: Released on or after 1970\n",
      "song: The Trooper, ARTIST: Iron Maiden Release: Released on or after 1970\n",
      "song: Wasted Years, ARTIST: Iron Maiden Release: Released on or after 1970\n",
      "song: Centerfold, ARTIST: J. Geils Band Release: Released on or after 1970\n",
      "song: Freeze-frame, ARTIST: J. Geils Band Release: Released on or after 1970\n",
      "song: Give It To Me, ARTIST: J. Geils Band Release: Released on or after 1970\n",
      "song: Houseparty, ARTIST: J. Geils Band Release: Released before 1970\n",
      "song: Looking For A Love, ARTIST: J. Geils Band Release: Released before 1970\n",
      "song: Love Stinks, ARTIST: J. Geils Band Release: Released before 1970\n",
      "song: Must of Got Lost, ARTIST: J. Geils Band Release: Released before 1970\n",
      "song: Night Time, ARTIST: J. Geils Band Release: Released before 1970\n",
      "song: Whammer Jammer, ARTIST: J. Geils Band Release: Released before 1970\n",
      "song: Boulevard, ARTIST: Jackson Browne Release: Released before 1970\n",
      "song: Doctor My Eyes, ARTIST: Jackson Browne Release: Released on or after 1970\n",
      "song: Load Out/Stay, ARTIST: Jackson Browne Release: Released on or after 1970\n",
      "song: Redneck Friend, ARTIST: Jackson Browne Release: Released on or after 1970\n",
      "song: Running On Empty, ARTIST: Jackson Browne Release: Released on or after 1970\n",
      "song: Somebody's Baby, ARTIST: Jackson Browne Release: Released on or after 1970\n",
      "song: Take It Easy, ARTIST: Jackson Browne Release: Released before 1970\n",
      "song: The Load-out/stay, ARTIST: Jackson Browne Release: Released on or after 1970\n",
      "song: The Road and the Sky, ARTIST: Jackson Browne Release: Released on or after 1970\n",
      "song: Funk #49, ARTIST: James Gang Release: Released on or after 1970\n",
      "song: Walk Away, ARTIST: James Gang Release: Released before 1970\n",
      "song: YOU'VE GOT A FRIEND, ARTIST: JAMES TAYLOR Release: Released on or after 1970\n",
      "song: Been Caught Stealing, ARTIST: Jane's Addiction Release: Released on or after 1970\n",
      "song: Jane Says, ARTIST: Jane's Addiction Release: Released on or after 1970\n",
      "song: Get It While You Can, ARTIST: Janis Joplin Release: Released on or after 1970\n",
      "song: Me and Bobby McGee, ARTIST: Janis Joplin Release: Released on or after 1970\n",
      "song: Move Over, ARTIST: Janis Joplin Release: Released on or after 1970\n",
      "song: Piece of My Heart, ARTIST: Janis Joplin Release: Released before 1970\n",
      "song: Summertime, ARTIST: Janis Joplin Release: Released before 1970\n",
      "song: Shakedown Cruise, ARTIST: Jay Ferguson Release: Released before 1970\n",
      "song: Thunder Island, ARTIST: Jay Ferguson Release: Released on or after 1970\n",
      "song: Freeway Jam, ARTIST: Jeff Beck Release: Released on or after 1970\n",
      "song: Rice Pudding, ARTIST: Jeff Beck Release: Released before 1970\n",
      "song: Somebody to Love, ARTIST: Jefferson Airplane Release: Released before 1970\n",
      "song: White Rabbit, ARTIST: Jefferson Airplane Release: Released before 1970\n",
      "song: Find Your Way Back, ARTIST: Jefferson Starship Release: Released before 1970\n",
      "song: Jane, ARTIST: Jefferson Starship Release: Released on or after 1970\n",
      "song: Ride the Tiger, ARTIST: Jefferson Starship Release: Released before 1970\n",
      "song: We Built This City, ARTIST: Jefferson Starship Release: Released on or after 1970\n",
      "song: Right Here Right Now, ARTIST: Jesus Jones Release: Released on or after 1970\n",
      "song: Are You Gonna Be My Girl, ARTIST: Jet Release: Released on or after 1970\n",
      "song: Cold Hard Bitch, ARTIST: Jet Release: Released on or after 1970\n",
      "song: Aqualung, ARTIST: Jethro Tull Release: Released on or after 1970\n",
      "song: Bungle In The Jungle, ARTIST: Jethro Tull Release: Released on or after 1970\n",
      "song: Cross-eyed Mary, ARTIST: Jethro Tull Release: Released on or after 1970\n",
      "song: Hymn 43, ARTIST: Jethro Tull Release: Released before 1970\n",
      "song: Living In The Past, ARTIST: Jethro Tull Release: Released before 1970\n",
      "song: Locomotive Breath, ARTIST: Jethro Tull Release: Released on or after 1970\n",
      "song: Nothing Is Easy, ARTIST: Jethro Tull Release: Released before 1970\n",
      "song: Teacher, ARTIST: Jethro Tull Release: Released on or after 1970\n",
      "song: Thick As A Brick, ARTIST: Jethro Tull Release: Released before 1970\n",
      "song: Too Old To Rock 'n' Roll, ARTIST: Jethro Tull Release: Released before 1970\n",
      "song: TIME IN A BOTTLE, ARTIST: Jim Croce Release: Released on or after 1970\n",
      "song: All Along the Watchtower, ARTIST: Jimi Hendrix Release: Released before 1970\n",
      "song: Angel, ARTIST: Jimi Hendrix Release: Released on or after 1970\n",
      "song: Are You Experienced?, ARTIST: Jimi Hendrix Release: Released before 1970\n",
      "song: Crosstown Traffic, ARTIST: Jimi Hendrix Release: Released before 1970\n",
      "song: Dolly Dagger, ARTIST: Jimi Hendrix Release: Released on or after 1970\n",
      "song: Fire, ARTIST: Jimi Hendrix Release: Released before 1970\n",
      "song: Foxey Lady, ARTIST: Jimi Hendrix Release: Released before 1970\n",
      "song: Hey Joe, ARTIST: Jimi Hendrix Release: Released before 1970\n",
      "song: If 6 Was 9, ARTIST: Jimi Hendrix Release: Released before 1970\n",
      "song: Like a Rolling Stone, ARTIST: Jimi Hendrix Release: Released before 1970\n",
      "song: Little Wing, ARTIST: Jimi Hendrix Release: Released before 1970\n",
      "song: Manic Depression, ARTIST: Jimi Hendrix Release: Released before 1970\n",
      "song: Purple Haze, ARTIST: Jimi Hendrix Release: Released before 1970\n",
      "song: Red House, ARTIST: Jimi Hendrix Release: Released before 1970\n",
      "song: Stone Free, ARTIST: Jimi Hendrix Release: Released before 1970\n",
      "song: The Wind Cries Mary, ARTIST: Jimi Hendrix Release: Released before 1970\n",
      "song: Third Stone From The Sun, ARTIST: Jimi Hendrix Release: Released before 1970\n",
      "song: Voodoo Child (Slight Return), ARTIST: Jimi Hendrix Release: Released before 1970\n",
      "song: Margaritaville, ARTIST: Jimmy Buffett Release: Released on or after 1970\n",
      "song: Son of a Son of a Sailor, ARTIST: Jimmy Buffett Release: Released on or after 1970\n",
      "song: Why Don't We Get Drunk, ARTIST: Jimmy Buffett Release: Released on or after 1970\n",
      "song: Bad Reputation, ARTIST: Joan Jett Release: Released on or after 1970\n",
      "song: Crimson And Clover, ARTIST: Joan Jett Release: Released before 1970\n",
      "song: I Hate Myself For Loving You, ARTIST: Joan Jett Release: Released on or after 1970\n",
      "song: I Love Rock 'n Roll, ARTIST: Joan Jett Release: Released on or after 1970\n",
      "song: Cry Me a River, ARTIST: Joe Cocker Release: Released before 1970\n",
      "song: Feelin' Alright, ARTIST: Joe Cocker Release: Released before 1970\n",
      "song: The Letter, ARTIST: Joe Cocker Release: Released before 1970\n",
      "song: With A Little Help From My Friends, ARTIST: Joe Cocker Release: Released before 1970\n",
      "song: You Can Leave Your Hat On (Live), ARTIST: Joe Cocker Release: Released before 1970\n",
      "song: Is She Really Going Out With Him?, ARTIST: Joe Jackson Release: Released on or after 1970\n",
      "song: Always With Me, Always With You, ARTIST: Joe Satriani Release: Released before 1970\n",
      "song: Summer Song, ARTIST: Joe Satriani Release: Released before 1970\n",
      "song: A Life Of Illusion, ARTIST: Joe Walsh Release: Released on or after 1970\n",
      "song: All Night Long, ARTIST: Joe Walsh Release: Released on or after 1970\n",
      "song: Analog Man, ARTIST: Joe Walsh Release: Released on or after 1970\n",
      "song: Funk #49, ARTIST: Joe Walsh Release: Released on or after 1970\n",
      "song: In the City, ARTIST: Joe Walsh Release: Released on or after 1970\n",
      "song: Life's Been Good, ARTIST: Joe Walsh Release: Released before 1970\n",
      "song: Ordinary Average Guy, ARTIST: Joe Walsh Release: Released on or after 1970\n",
      "song: Rocky Mountain Way, ARTIST: Joe Walsh Release: Released on or after 1970\n",
      "song: The Confessor, ARTIST: Joe Walsh Release: Released before 1970\n",
      "song: Turn To Stone, ARTIST: Joe Walsh Release: Released before 1970\n",
      "song: On the Dark Side, ARTIST: John Cafferty Release: Released on or after 1970\n",
      "song: Centerfield, ARTIST: John Fogerty Release: Released on or after 1970\n",
      "song: The Old Man Down The Road, ARTIST: John Fogerty Release: Released on or after 1970\n",
      "song: #9 Dream, ARTIST: John Lennon Release: Released on or after 1970\n",
      "song: Imagine, ARTIST: John Lennon Release: Released on or after 1970\n",
      "song: Instant Karma, ARTIST: John Lennon Release: Released on or after 1970\n",
      "song: Mind Games, ARTIST: John Lennon Release: Released before 1970\n",
      "song: Watching the Wheels, ARTIST: John Lennon Release: Released on or after 1970\n",
      "song: Woman, ARTIST: John Lennon Release: Released on or after 1970\n",
      "song: Again Tonight, ARTIST: John Mellencamp Release: Released before 1970\n",
      "song: Ain't Even Done With the Night, ARTIST: John Mellencamp Release: Released before 1970\n",
      "song: Authority Song, ARTIST: John Mellencamp Release: Released on or after 1970\n",
      "song: Check It Out, ARTIST: John Mellencamp Release: Released before 1970\n",
      "song: Cherry Bomb, ARTIST: John Mellencamp Release: Released before 1970\n",
      "song: Crumblin' Down, ARTIST: John Mellencamp Release: Released on or after 1970\n",
      "song: Hurts So Good, ARTIST: John Mellencamp Release: Released on or after 1970\n",
      "song: I Need A Lover, ARTIST: John Mellencamp Release: Released on or after 1970\n",
      "song: Jack & Diane, ARTIST: John Mellencamp Release: Released on or after 1970\n",
      "song: Lonely Ol' Night, ARTIST: John Mellencamp Release: Released on or after 1970\n",
      "song: Paper in Fire, ARTIST: John Mellencamp Release: Released on or after 1970\n",
      "song: Pink Houses, ARTIST: John Mellencamp Release: Released on or after 1970\n",
      "song: R.O.C.K. In the U.S.A., ARTIST: John Mellencamp Release: Released on or after 1970\n",
      "song: Rain On The Scarecrow, ARTIST: John Mellencamp Release: Released on or after 1970\n",
      "song: Small Town, ARTIST: John Mellencamp Release: Released on or after 1970\n",
      "song: What If I Came Knocking, ARTIST: John Mellencamp Release: Released before 1970\n",
      "song: Illegal Smile, ARTIST: John Prine Release: Released before 1970\n",
      "song: I CAN SEE CLEARLY NOW, ARTIST: Johnny Nash Release: Released on or after 1970\n",
      "song: Brickyard Road, ARTIST: Johnny Van Zant Release: Released on or after 1970\n",
      "song: Shanty, ARTIST: Jonathan Edwards Release: Released before 1970\n",
      "song: Roadrunner, ARTIST: Jonathan Richman Release: Released on or after 1970\n",
      "song: Any Way You Want It, ARTIST: Journey Release: Released on or after 1970\n",
      "song: City of the Angels, ARTIST: Journey Release: Released before 1970\n",
      "song: Don't Stop Believin', ARTIST: Journey Release: Released on or after 1970\n",
      "song: Escape, ARTIST: Journey Release: Released before 1970\n",
      "song: Faithfully, ARTIST: Journey Release: Released on or after 1970\n",
      "song: Feeling That Way, ARTIST: Journey Release: Released on or after 1970\n",
      "song: Just the Same Way, ARTIST: Journey Release: Released before 1970\n",
      "song: Lights, ARTIST: Journey Release: Released on or after 1970\n",
      "song: Look Into The Future, ARTIST: Journey Release: Released before 1970\n",
      "song: Lovin', Touchin' Squeezin', ARTIST: Journey Release: Released on or after 1970\n",
      "song: Only the Young, ARTIST: Journey Release: Released on or after 1970\n",
      "song: Open Arms, ARTIST: Journey Release: Released on or after 1970\n",
      "song: Send Her My Love, ARTIST: Journey Release: Released on or after 1970\n",
      "song: Separate Ways (Worlds Apart), ARTIST: Journey Release: Released on or after 1970\n",
      "song: Stone In Love, ARTIST: Journey Release: Released before 1970\n",
      "song: Wheel in the Sky, ARTIST: Journey Release: Released on or after 1970\n",
      "song: Who's Crying Now, ARTIST: Journey Release: Released on or after 1970\n",
      "song: Breaking The Law, ARTIST: Judas Priest Release: Released on or after 1970\n",
      "song: Diamonds And Rust, ARTIST: Judas Priest Release: Released before 1970\n",
      "song: Electric Eye, ARTIST: Judas Priest Release: Released on or after 1970\n",
      "song: Heading Out To The Highway, ARTIST: Judas Priest Release: Released before 1970\n",
      "song: Hot Rockin', ARTIST: Judas Priest Release: Released before 1970\n",
      "song: Living After Midnight, ARTIST: Judas Priest Release: Released on or after 1970\n",
      "song: The Ripper, ARTIST: Judas Priest Release: Released on or after 1970\n",
      "song: Turbo Lover, ARTIST: Judas Priest Release: Released before 1970\n",
      "song: You've Got Another Thing Comin', ARTIST: Judas Priest Release: Released before 1970\n",
      "song: Simple Man, ARTIST: Junkyard Release: Released before 1970\n",
      "song: Carry On Wayward Son, ARTIST: Kansas Release: Released on or after 1970\n",
      "song: Dust In The Wind, ARTIST: Kansas Release: Released on or after 1970\n",
      "song: Play the Game Tonight, ARTIST: Kansas Release: Released on or after 1970\n",
      "song: Point of Know Return, ARTIST: Kansas Release: Released on or after 1970\n",
      "song: I'm Alright, ARTIST: Kenny Loggins Release: Released on or after 1970\n",
      "song: Just Dropped In, ARTIST: Kenny Loggins Release: Released before 1970\n",
      "song: Blue On Black, ARTIST: Kenny Wayne Shepherd Release: Released before 1970\n",
      "song: Somehow, Somewhere, Someway, ARTIST: Kenny Wayne Shepherd Release: Released before 1970\n",
      "song: All Summer Long, ARTIST: Kid Rock Release: Released on or after 1970\n",
      "song: Cowboy, ARTIST: Kid Rock Release: Released on or after 1970\n",
      "song: Let's Ride, ARTIST: Kid Rock Release: Released on or after 1970\n",
      "song: If I Say, ARTIST: Kingofthehill Release: Released before 1970\n",
      "song: Sex On Fire, ARTIST: Kings of Leon Release: Released on or after 1970\n",
      "song: Use Somebody, ARTIST: Kings of Leon Release: Released on or after 1970\n",
      "song: Beth, ARTIST: Kiss Release: Released on or after 1970\n",
      "song: Calling Dr. Love, ARTIST: Kiss Release: Released on or after 1970\n",
      "song: Christeen Sixteen, ARTIST: Kiss Release: Released before 1970\n",
      "song: Cold Gin, ARTIST: Kiss Release: Released on or after 1970\n",
      "song: Detroit Rock City, ARTIST: Kiss Release: Released on or after 1970\n",
      "song: Heaven's On Fire, ARTIST: Kiss Release: Released before 1970\n",
      "song: Lick It Up, ARTIST: Kiss Release: Released on or after 1970\n",
      "song: Rock And Roll All Nite, ARTIST: Kiss Release: Released on or after 1970\n",
      "song: Shout It out Loud, ARTIST: Kiss Release: Released before 1970\n",
      "song: Strutter, ARTIST: Kiss Release: Released on or after 1970\n",
      "song: Tears Are Falling, ARTIST: Kiss Release: Released before 1970\n",
      "song: Long Stick Goes Boom, ARTIST: Krokus Release: Released before 1970\n",
      "song: Screaming In The Night, ARTIST: Krokus Release: Released before 1970\n",
      "song: Stayed Awake All Night, ARTIST: Krokus Release: Released before 1970\n",
      "song: Sex Action, ARTIST: L.A. Guns Release: Released before 1970\n",
      "song: Key To The Rhyme, ARTIST: Lake Release: Released before 1970\n",
      "song: All My Love, ARTIST: Led Zeppelin Release: Released on or after 1970\n",
      "song: Babe I'm Gonna Leave You, ARTIST: Led Zeppelin Release: Released before 1970\n",
      "song: Black Dog, ARTIST: Led Zeppelin Release: Released on or after 1970\n",
      "song: Black Mountain Side, ARTIST: Led Zeppelin Release: Released before 1970\n",
      "song: Bonzo's Montreaux, ARTIST: Led Zeppelin Release: Released on or after 1970\n",
      "song: Boogie With Stu, ARTIST: Led Zeppelin Release: Released on or after 1970\n",
      "song: Bring It On Home, ARTIST: Led Zeppelin Release: Released before 1970\n",
      "song: Bron-y-aur Stomp, ARTIST: Led Zeppelin Release: Released on or after 1970\n",
      "song: Celebration Day, ARTIST: Led Zeppelin Release: Released on or after 1970\n",
      "song: Communication Breakdown, ARTIST: Led Zeppelin Release: Released before 1970\n",
      "song: Custard Pie, ARTIST: Led Zeppelin Release: Released on or after 1970\n",
      "song: D'Yer Mak'er, ARTIST: Led Zeppelin Release: Released on or after 1970\n",
      "song: Dancing Days, ARTIST: Led Zeppelin Release: Released on or after 1970\n",
      "song: Darlene, ARTIST: Led Zeppelin Release: Released on or after 1970\n",
      "song: Dazed and Confused, ARTIST: Led Zeppelin Release: Released before 1970\n",
      "song: Down By The Seaside, ARTIST: Led Zeppelin Release: Released on or after 1970\n",
      "song: Fool In the Rain, ARTIST: Led Zeppelin Release: Released on or after 1970\n",
      "song: For Your Life, ARTIST: Led Zeppelin Release: Released on or after 1970\n",
      "song: Four Sticks, ARTIST: Led Zeppelin Release: Released on or after 1970\n",
      "song: Friends, ARTIST: Led Zeppelin Release: Released on or after 1970\n",
      "song: Gallows Pole, ARTIST: Led Zeppelin Release: Released on or after 1970\n",
      "song: Going to California, ARTIST: Led Zeppelin Release: Released on or after 1970\n",
      "song: Good Times Bad Times, ARTIST: Led Zeppelin Release: Released before 1970\n",
      "song: Hats Off To {roy} Harper, ARTIST: Led Zeppelin Release: Released on or after 1970\n",
      "song: Heartbreaker/living Loving Maid {she's Just A Woman}, ARTIST: Led Zeppelin Release: Released before 1970\n",
      "song: Hey Hey What Can I Do, ARTIST: Led Zeppelin Release: Released on or after 1970\n",
      "song: Hot Dog, ARTIST: Led Zeppelin Release: Released on or after 1970\n",
      "song: Houses of the Holy, ARTIST: Led Zeppelin Release: Released on or after 1970\n",
      "song: How Many More Times, ARTIST: Led Zeppelin Release: Released before 1970\n",
      "song: I Can't Quit You Baby, ARTIST: Led Zeppelin Release: Released before 1970\n",
      "song: Immigrant Song, ARTIST: Led Zeppelin Release: Released on or after 1970\n",
      "song: In My Time of Dying, ARTIST: Led Zeppelin Release: Released on or after 1970\n",
      "song: In the Evening, ARTIST: Led Zeppelin Release: Released on or after 1970\n",
      "song: In the Light, ARTIST: Led Zeppelin Release: Released on or after 1970\n",
      "song: Kashmir, ARTIST: Led Zeppelin Release: Released on or after 1970\n",
      "song: Living Loving Maid (She's Just a Woman), ARTIST: Led Zeppelin Release: Released before 1970\n",
      "song: Misty Mountain Hop, ARTIST: Led Zeppelin Release: Released on or after 1970\n",
      "song: Moby Dick, ARTIST: Led Zeppelin Release: Released before 1970\n",
      "song: NIGHT FLIGHT, ARTIST: Led Zeppelin Release: Released on or after 1970\n",
      "song: No Quarter, ARTIST: Led Zeppelin Release: Released on or after 1970\n",
      "song: Nobody's Fault But Mine, ARTIST: Led Zeppelin Release: Released before 1970\n",
      "song: Out On The Tiles, ARTIST: Led Zeppelin Release: Released on or after 1970\n",
      "song: Over the Hills and Far Away, ARTIST: Led Zeppelin Release: Released on or after 1970\n",
      "song: Ramble On, ARTIST: Led Zeppelin Release: Released before 1970\n",
      "song: Rock and Roll, ARTIST: Led Zeppelin Release: Released on or after 1970\n",
      "song: Royal Orleans, ARTIST: Led Zeppelin Release: Released on or after 1970\n",
      "song: Since I've Been Loving You, ARTIST: Led Zeppelin Release: Released on or after 1970\n",
      "song: South Bound Saurez, ARTIST: Led Zeppelin Release: Released on or after 1970\n",
      "song: Stairway to Heaven, ARTIST: Led Zeppelin Release: Released on or after 1970\n",
      "song: TANGERINE, ARTIST: Led Zeppelin Release: Released on or after 1970\n",
      "song: Ten Years Gone, ARTIST: Led Zeppelin Release: Released on or after 1970\n",
      "song: Thank You, ARTIST: Led Zeppelin Release: Released before 1970\n",
      "song: That's the Way, ARTIST: Led Zeppelin Release: Released on or after 1970\n",
      "song: The Battle Of Evermore, ARTIST: Led Zeppelin Release: Released on or after 1970\n",
      "song: The Crunge, ARTIST: Led Zeppelin Release: Released on or after 1970\n",
      "song: The Lemon Song, ARTIST: Led Zeppelin Release: Released before 1970\n",
      "song: The Ocean, ARTIST: Led Zeppelin Release: Released on or after 1970\n",
      "song: The Rain Song, ARTIST: Led Zeppelin Release: Released on or after 1970\n",
      "song: The Rover, ARTIST: Led Zeppelin Release: Released on or after 1970\n",
      "song: The Song Remains the Same, ARTIST: Led Zeppelin Release: Released on or after 1970\n",
      "song: THE WANTON SONG, ARTIST: Led Zeppelin Release: Released on or after 1970\n",
      "song: Trampled Under Foot, ARTIST: Led Zeppelin Release: Released on or after 1970\n",
      "song: Traveling Riverside Blues, ARTIST: Led Zeppelin Release: Released on or after 1970\n",
      "song: What Is and What Should Never Be, ARTIST: Led Zeppelin Release: Released before 1970\n",
      "song: When The Levee Breaks, ARTIST: Led Zeppelin Release: Released on or after 1970\n",
      "song: Whole Lotta Love, ARTIST: Led Zeppelin Release: Released before 1970\n",
      "song: You Shook Me, ARTIST: Led Zeppelin Release: Released before 1970\n",
      "song: Your Time Is Gonna Come, ARTIST: Led Zeppelin Release: Released before 1970\n",
      "song: Do You Know What I Mean, ARTIST: Lee Michaels Release: Released before 1970\n",
      "song: Woman, ARTIST: Legs Diamond Release: Released before 1970\n",
      "song: American Woman, ARTIST: Lenny Kravitz Release: Released on or after 1970\n",
      "song: Are You Gonna Go My Way, ARTIST: Lenny Kravitz Release: Released on or after 1970\n",
      "song: Fly Away, ARTIST: Lenny Kravitz Release: Released on or after 1970\n",
      "song: Stranger In A Strange Land, ARTIST: Leon Russell Release: Released before 1970\n",
      "song: My Own Worst Enemy, ARTIST: Lit Release: Released on or after 1970\n",
      "song: Close My Eyes Forever, ARTIST: Lita Ford Release: Released on or after 1970\n",
      "song: Kiss Me Deadly, ARTIST: Lita Ford Release: Released on or after 1970\n",
      "song: All That You Dream, ARTIST: Little Feat Release: Released before 1970\n",
      "song: Dixie Chicken, ARTIST: Little Feat Release: Released on or after 1970\n",
      "song: I Alone, ARTIST: Live Release: Released before 1970\n",
      "song: Lightning Crashes, ARTIST: Live Release: Released on or after 1970\n",
      "song: Cult Of Personality, ARTIST: Living Colour Release: Released on or after 1970\n",
      "song: Bound for the Floor, ARTIST: Local H Release: Released on or after 1970\n",
      "song: Conquistador, ARTIST: London Symphony Orchestra Release: Released before 1970\n",
      "song: Midnight Blue, ARTIST: Lou Gramm Release: Released before 1970\n",
      "song: Sweet Jane (Live), ARTIST: Lou Reed Release: Released on or after 1970\n",
      "song: Walk On The Wild Side, ARTIST: Lou Reed Release: Released on or after 1970\n",
      "song: Lovin' Every Minute of It, ARTIST: Loverboy Release: Released before 1970\n",
      "song: The Kid Is Hot Tonite, ARTIST: Loverboy Release: Released on or after 1970\n",
      "song: Turn Me Loose, ARTIST: Loverboy Release: Released on or after 1970\n",
      "song: Working for the Weekend, ARTIST: Loverboy Release: Released on or after 1970\n",
      "song: Wicked Sensation, ARTIST: Lynch Mob Release: Released before 1970\n",
      "song: Call Me the Breeze, ARTIST: Lynyrd Skynyrd Release: Released on or after 1970\n",
      "song: Dixie/Sweet Home Alabama, ARTIST: Lynyrd Skynyrd Release: Released on or after 1970\n",
      "song: Don't Ask Me No Questions, ARTIST: Lynyrd Skynyrd Release: Released on or after 1970\n",
      "song: Free Bird, ARTIST: Lynyrd Skynyrd Release: Released on or after 1970\n",
      "song: Gimme Back My Bullets, ARTIST: Lynyrd Skynyrd Release: Released on or after 1970\n",
      "song: Gimme Three Steps, ARTIST: Lynyrd Skynyrd Release: Released on or after 1970\n",
      "song: I Know a Little, ARTIST: Lynyrd Skynyrd Release: Released on or after 1970\n",
      "song: Saturday Night Special, ARTIST: Lynyrd Skynyrd Release: Released on or after 1970\n",
      "song: Simple Man, ARTIST: Lynyrd Skynyrd Release: Released on or after 1970\n",
      "song: Sweet Home Alabama, ARTIST: Lynyrd Skynyrd Release: Released on or after 1970\n",
      "song: That Smell, ARTIST: Lynyrd Skynyrd Release: Released on or after 1970\n",
      "song: The Ballad Of Curtis Loew, ARTIST: Lynyrd Skynyrd Release: Released on or after 1970\n",
      "song: Tuesday's Gone, ARTIST: Lynyrd Skynyrd Release: Released on or after 1970\n",
      "song: What's Your Name, ARTIST: Lynyrd Skynyrd Release: Released on or after 1970\n",
      "song: You Got That Right, ARTIST: Lynyrd Skynyrd Release: Released before 1970\n",
      "song: Merry-Go-Round, ARTIST: Mama's Pride Release: Released before 1970\n",
      "song: Blinded by the Light, ARTIST: Manfred Mann Release: Released on or after 1970\n",
      "song: Do Wah Diddy Diddy, ARTIST: Manfred Mann Release: Released before 1970\n",
      "song: Sex and Candy, ARTIST: Marcy Playground Release: Released before 1970\n",
      "song: Paradise By The Dashboard Light, ARTIST: Meat Loaf Release: Released on or after 1970\n",
      "song: TWO OUT OF THREE AIN'T BAD, ARTIST: Meat Loaf Release: Released on or after 1970\n",
      "song: You Took The Words Right Out Of My Mouth, ARTIST: Meat Loaf Release: Released on or after 1970\n",
      "song: I'm the Only One, ARTIST: Melissa Etheridge Release: Released on or after 1970\n",
      "song: Down Under, ARTIST: Men At Work Release: Released on or after 1970\n",
      "song: Who Can It Be Now?, ARTIST: Men At Work Release: Released on or after 1970\n",
      "song: Breadfan, ARTIST: Metallica Release: Released on or after 1970\n",
      "song: Enter Sandman, ARTIST: Metallica Release: Released on or after 1970\n",
      "song: Fade To Black, ARTIST: Metallica Release: Released on or after 1970\n",
      "song: For Whom The Bell Tolls, ARTIST: Metallica Release: Released on or after 1970\n",
      "song: Fuel, ARTIST: Metallica Release: Released on or after 1970\n",
      "song: Harvester Of Sorrow, ARTIST: Metallica Release: Released on or after 1970\n",
      "song: Hero of the Day, ARTIST: Metallica Release: Released on or after 1970\n",
      "song: Lords of Summer (First Pass Version), ARTIST: Metallica Release: Released before 1970\n",
      "song: Master of Puppets, ARTIST: Metallica Release: Released on or after 1970\n",
      "song: No Leaf Clover, ARTIST: Metallica Release: Released on or after 1970\n",
      "song: Nothing Else Matters, ARTIST: Metallica Release: Released on or after 1970\n",
      "song: One, ARTIST: Metallica Release: Released on or after 1970\n",
      "song: Sad But True, ARTIST: Metallica Release: Released on or after 1970\n",
      "song: Seek & Destroy, ARTIST: Metallica Release: Released on or after 1970\n",
      "song: The Memory Remains, ARTIST: Metallica Release: Released on or after 1970\n",
      "song: The Unforgiven, ARTIST: Metallica Release: Released on or after 1970\n",
      "song: Turn The Page, ARTIST: Metallica Release: Released before 1970\n",
      "song: Until It Sleeps, ARTIST: Metallica Release: Released on or after 1970\n",
      "song: Wherever I May Roam, ARTIST: Metallica Release: Released on or after 1970\n",
      "song: Whiskey In The Jar, ARTIST: Metallica Release: Released before 1970\n",
      "song: Cruisin', ARTIST: Michael Nesmith Release: Released before 1970\n",
      "song: Drinkin' in the Driveway, ARTIST: Michael Stanley Release: Released before 1970\n",
      "song: He Can't Love You, ARTIST: Michael Stanley Release: Released before 1970\n",
      "song: Let's Get the Show on the Road, ARTIST: Michael Stanley Release: Released before 1970\n",
      "song: My Town, ARTIST: Michael Stanley Release: Released before 1970\n",
      "song: Rosewood Bitters, ARTIST: Michael Stanley Release: Released before 1970\n",
      "song: Strike up the Band, ARTIST: Michael Stanley Release: Released before 1970\n",
      "song: Beds Are Burning, ARTIST: Midnight Oil Release: Released on or after 1970\n",
      "song: Devil With the Blue Dress On, ARTIST: Mitch Ryder Release: Released before 1970\n",
      "song: I Melt With You, ARTIST: Modern English Release: Released on or after 1970\n",
      "song: Sugar Boogie, ARTIST: Molkie Cole Release: Released before 1970\n",
      "song: Dreams I'll Never See, ARTIST: Molly Hatchet Release: Released before 1970\n",
      "song: Flirtin' With Disaster, ARTIST: Molly Hatchet Release: Released before 1970\n",
      "song: What Do All The People Know, ARTIST: Monroes Release: Released before 1970\n",
      "song: Bad Motor Scooter, ARTIST: Montrose Release: Released on or after 1970\n",
      "song: Rock Candy, ARTIST: Montrose Release: Released on or after 1970\n",
      "song: Space Station #5, ARTIST: Montrose Release: Released on or after 1970\n",
      "song: Don't Go Away Mad (Just Go Away), ARTIST: Motley Crue Release: Released on or after 1970\n",
      "song: Dr. Feelgood, ARTIST: Motley Crue Release: Released on or after 1970\n",
      "song: Girls, Girls, Girls, ARTIST: Motley Crue Release: Released on or after 1970\n",
      "song: Home Sweet Home, ARTIST: Motley Crue Release: Released on or after 1970\n",
      "song: Kickstart My Heart, ARTIST: Motley Crue Release: Released on or after 1970\n",
      "song: Looks That Kill, ARTIST: Motley Crue Release: Released before 1970\n",
      "song: Piece of Your Action, ARTIST: Motley Crue Release: Released before 1970\n",
      "song: Same Ol' Situation, ARTIST: Motley Crue Release: Released on or after 1970\n",
      "song: Shout at the Devil, ARTIST: Motley Crue Release: Released on or after 1970\n",
      "song: Smokin' in the Boys Room, ARTIST: Motley Crue Release: Released before 1970\n",
      "song: Wild Side, ARTIST: Motley Crue Release: Released on or after 1970\n",
      "song: All the Young Dudes, ARTIST: Mott the Hoople Release: Released on or after 1970\n",
      "song: Mississippi Queen, ARTIST: Mountain Release: Released on or after 1970\n",
      "song: Moon Rider, ARTIST: Moxy Release: Released before 1970\n",
      "song: Addicted To That Rush, ARTIST: Mr. Big Release: Released before 1970\n",
      "song: In the Summertime, ARTIST: Mungo Jerry Release: Released on or after 1970\n",
      "song: Hair Of The Dog, ARTIST: Nazareth Release: Released on or after 1970\n",
      "song: Love Hurts, ARTIST: Nazareth Release: Released on or after 1970\n",
      "song: Cinnamon Girl, ARTIST: Neil Young Release: Released before 1970\n",
      "song: Down by the River, ARTIST: Neil Young Release: Released before 1970\n",
      "song: Everybody Knows This Is Nowhere, ARTIST: Neil Young Release: Released before 1970\n",
      "song: Heart of Gold, ARTIST: Neil Young Release: Released on or after 1970\n",
      "song: Hey Hey, My My, ARTIST: Neil Young Release: Released on or after 1970\n",
      "song: Like a Hurricane, ARTIST: Neil Young Release: Released on or after 1970\n",
      "song: My My, Hey Hey, ARTIST: Neil Young Release: Released on or after 1970\n",
      "song: Old Man, ARTIST: Neil Young Release: Released on or after 1970\n",
      "song: Powderfinger, ARTIST: Neil Young Release: Released on or after 1970\n",
      "song: Rockin' In the Free World, ARTIST: Neil Young Release: Released on or after 1970\n",
      "song: Southern Man, ARTIST: Neil Young Release: Released on or after 1970\n",
      "song: Sugar Mountain, ARTIST: Neil Young Release: Released before 1970\n",
      "song: The Needle and the Damage Done, ARTIST: Neil Young Release: Released on or after 1970\n",
      "song: When You Dance I Can Really Love, ARTIST: Neil Young Release: Released before 1970\n",
      "song: Show Me The Way, ARTIST: Nektar Release: Released before 1970\n",
      "song: How You Remind Me, ARTIST: Nickelback Release: Released on or after 1970\n",
      "song: Photograph, ARTIST: Nickelback Release: Released on or after 1970\n",
      "song: Rockstar, ARTIST: Nickelback Release: Released on or after 1970\n",
      "song: Someday (Single Mix), ARTIST: Nickelback Release: Released before 1970\n",
      "song: (You Can Still) Rock in America, ARTIST: Night Ranger Release: Released on or after 1970\n",
      "song: Don't Tell Me You Love Me, ARTIST: Night Ranger Release: Released on or after 1970\n",
      "song: Rumors In The Air, ARTIST: Night Ranger Release: Released before 1970\n",
      "song: Sister Christian, ARTIST: Night Ranger Release: Released on or after 1970\n",
      "song: When You Close Your Eyes, ARTIST: Night Ranger Release: Released on or after 1970\n",
      "song: About a Girl, ARTIST: Nirvana Release: Released on or after 1970\n",
      "song: All Apologies, ARTIST: Nirvana Release: Released on or after 1970\n",
      "song: Come As You Are, ARTIST: Nirvana Release: Released on or after 1970\n",
      "song: Dumb, ARTIST: Nirvana Release: Released on or after 1970\n",
      "song: In Bloom, ARTIST: Nirvana Release: Released on or after 1970\n",
      "song: Lithium, ARTIST: Nirvana Release: Released on or after 1970\n",
      "song: On a Plain, ARTIST: Nirvana Release: Released on or after 1970\n",
      "song: Polly, ARTIST: Nirvana Release: Released on or after 1970\n",
      "song: Smells Like Teen Spirit, ARTIST: Nirvana Release: Released on or after 1970\n",
      "song: The Man Who Sold the World, ARTIST: Nirvana Release: Released before 1970\n",
      "song: Spirit In The Sky, ARTIST: Norman Greenbaum Release: Released before 1970\n",
      "song: This Is The Time, ARTIST: Nothing More Release: Released before 1970\n",
      "song: Wonderwall, ARTIST: Oasis Release: Released on or after 1970\n",
      "song: STILL THE ONE, ARTIST: Orleans Release: Released on or after 1970\n",
      "song: (Sittin' On) The Dock of the Bay, ARTIST: Otis Redding Release: Released before 1970\n",
      "song: If You Wanna Get to Heaven, ARTIST: Ozark Mountain Daredevils Release: Released on or after 1970\n",
      "song: Jackie Blue, ARTIST: Ozark Mountain Daredevils Release: Released on or after 1970\n",
      "song: Bark At The Moon, ARTIST: Ozzy Osbourne Release: Released on or after 1970\n",
      "song: Changes, ARTIST: Ozzy Osbourne Release: Released before 1970\n",
      "song: Crazy Train, ARTIST: Ozzy Osbourne Release: Released on or after 1970\n",
      "song: Diary Of A Madman, ARTIST: Ozzy Osbourne Release: Released on or after 1970\n",
      "song: Flying High Again, ARTIST: Ozzy Osbourne Release: Released on or after 1970\n",
      "song: Goodbye To Romance, ARTIST: Ozzy Osbourne Release: Released on or after 1970\n",
      "song: I Don't Know, ARTIST: Ozzy Osbourne Release: Released on or after 1970\n",
      "song: Mama, I'm Coming Home, ARTIST: Ozzy Osbourne Release: Released on or after 1970\n",
      "song: Mr. Crowley, ARTIST: Ozzy Osbourne Release: Released on or after 1970\n",
      "song: Mr. Tinkertrain, ARTIST: Ozzy Osbourne Release: Released on or after 1970\n",
      "song: No More Tears, ARTIST: Ozzy Osbourne Release: Released on or after 1970\n",
      "song: Over the Mountain, ARTIST: Ozzy Osbourne Release: Released on or after 1970\n",
      "song: Perry Mason, ARTIST: Ozzy Osbourne Release: Released on or after 1970\n",
      "song: Purple Haze, ARTIST: Ozzy Osbourne Release: Released before 1970\n",
      "song: Road To Nowhere, ARTIST: Ozzy Osbourne Release: Released on or after 1970\n",
      "song: Rocky Mountain Way, ARTIST: Ozzy Osbourne Release: Released before 1970\n",
      "song: See You on the Other Side, ARTIST: Ozzy Osbourne Release: Released before 1970\n",
      "song: Shot in the Dark, ARTIST: Ozzy Osbourne Release: Released on or after 1970\n",
      "song: Time After Time, ARTIST: Ozzy Osbourne Release: Released before 1970\n",
      "song: Fire and Ice, ARTIST: Pat Benatar Release: Released before 1970\n",
      "song: Heartbreaker, ARTIST: Pat Benatar Release: Released on or after 1970\n",
      "song: Hell Is for Children, ARTIST: Pat Benatar Release: Released on or after 1970\n",
      "song: Hit Me With Your Best Shot, ARTIST: Pat Benatar Release: Released on or after 1970\n",
      "song: Invincible, ARTIST: Pat Benatar Release: Released on or after 1970\n",
      "song: Love Is A Battlefield, ARTIST: Pat Benatar Release: Released on or after 1970\n",
      "song: Shadows Of The Night, ARTIST: Pat Benatar Release: Released on or after 1970\n",
      "song: Treat Me Right, ARTIST: Pat Benatar Release: Released before 1970\n",
      "song: We Belong, ARTIST: Pat Benatar Release: Released on or after 1970\n",
      "song: You Better Run, ARTIST: Pat Benatar Release: Released on or after 1970\n",
      "song: Boom Boom/, ARTIST: Pat Travers Release: Released before 1970\n",
      "song: Snortin Whiskey, ARTIST: Pat Travers Release: Released before 1970\n",
      "song: The Back Seat Of My Car, ARTIST: Paul McCartney & Linda McCartney Release: Released on or after 1970\n",
      "song: Too Many People, ARTIST: Paul McCartney & Linda McCartney Release: Released on or after 1970\n",
      "song: Uncle Albert/Admiral Halsey, ARTIST: Paul McCartney & Linda McCartney Release: Released on or after 1970\n",
      "song: Another Day, ARTIST: Paul McCartney & Wings Release: Released before 1970\n",
      "song: Band on the Run, ARTIST: Paul McCartney & Wings Release: Released on or after 1970\n",
      "song: Birthday (Live), ARTIST: Paul McCartney & Wings Release: Released before 1970\n",
      "song: Coming Up, ARTIST: Paul McCartney & Wings Release: Released on or after 1970\n",
      "song: Day Tripper, ARTIST: Paul McCartney & Wings Release: Released before 1970\n",
      "song: Helen Wheels, ARTIST: Paul McCartney & Wings Release: Released on or after 1970\n",
      "song: Hello Goodbye, ARTIST: Paul McCartney & Wings Release: Released before 1970\n",
      "song: Helter Skelter, ARTIST: Paul McCartney & Wings Release: Released before 1970\n",
      "song: Hey Jude (Live), ARTIST: Paul McCartney & Wings Release: Released before 1970\n",
      "song: Hi Hi Hi, ARTIST: Paul McCartney & Wings Release: Released before 1970\n",
      "song: Jet, ARTIST: Paul McCartney & Wings Release: Released on or after 1970\n",
      "song: Junior's Farm, ARTIST: Paul McCartney & Wings Release: Released on or after 1970\n",
      "song: Let 'Em In, ARTIST: Paul McCartney & Wings Release: Released before 1970\n",
      "song: Let Me Roll It, ARTIST: Paul McCartney & Wings Release: Released on or after 1970\n",
      "song: Listen To What The Man Says, ARTIST: Paul McCartney & Wings Release: Released before 1970\n",
      "song: Live and Let Die, ARTIST: Paul McCartney & Wings Release: Released on or after 1970\n",
      "song: Maybe I'm Amazed, ARTIST: Paul McCartney & Wings Release: Released on or after 1970\n",
      "song: My Love, ARTIST: Paul McCartney & Wings Release: Released on or after 1970\n",
      "song: Nineteen Hundred and Eighty Five, ARTIST: Paul McCartney & Wings Release: Released before 1970\n",
      "song: Silly Love Songs, ARTIST: Paul McCartney & Wings Release: Released on or after 1970\n",
      "song: Uncle Albert/Admiral Halsey, ARTIST: Paul McCartney & Wings Release: Released on or after 1970\n",
      "song: Venus and Mars/Rock Show, ARTIST: Paul McCartney & Wings Release: Released on or after 1970\n",
      "song: With a Little Luck, ARTIST: Paul McCartney & Wings Release: Released before 1970\n",
      "song: 50 Ways to Leave Your Lover, ARTIST: Paul Simon Release: Released on or after 1970\n",
      "song: Kodachrome, ARTIST: Paul Simon Release: Released on or after 1970\n",
      "song: Loves Me Like a Rock, ARTIST: Paul Simon Release: Released on or after 1970\n",
      "song: Me And Julio Down By The Schoolyard, ARTIST: Paul Simon Release: Released on or after 1970\n",
      "song: You Can Call Me Al, ARTIST: Paul Simon Release: Released on or after 1970\n",
      "song: Alive, ARTIST: Pearl Jam Release: Released on or after 1970\n",
      "song: Better Man, ARTIST: Pearl Jam Release: Released on or after 1970\n",
      "song: Black, ARTIST: Pearl Jam Release: Released on or after 1970\n",
      "song: Daughter, ARTIST: Pearl Jam Release: Released on or after 1970\n",
      "song: Dissident, ARTIST: Pearl Jam Release: Released on or after 1970\n",
      "song: Elderly Woman Behind the Counter in a Small Town, ARTIST: Pearl Jam Release: Released on or after 1970\n",
      "song: Even Flow, ARTIST: Pearl Jam Release: Released on or after 1970\n",
      "song: Jeremy, ARTIST: Pearl Jam Release: Released on or after 1970\n",
      "song: Last Kiss, ARTIST: Pearl Jam Release: Released on or after 1970\n",
      "song: Lightning Bolt, ARTIST: Pearl Jam Release: Released on or after 1970\n",
      "song: Not for You, ARTIST: Pearl Jam Release: Released on or after 1970\n",
      "song: Sirens, ARTIST: Pearl Jam Release: Released on or after 1970\n",
      "song: Yellow Ledbetter, ARTIST: Pearl Jam Release: Released on or after 1970\n",
      "song: GONNA GET YA, ARTIST: Pete Townshend Release: Released before 1970\n",
      "song: Let My Love Open the Door, ARTIST: Pete Townshend Release: Released on or after 1970\n",
      "song: Rough Boys, ARTIST: Pete Townshend Release: Released on or after 1970\n",
      "song: Baby, I Love Your Way, ARTIST: Peter Frampton Release: Released on or after 1970\n",
      "song: Do You Feel Like We Do, ARTIST: Peter Frampton Release: Released on or after 1970\n",
      "song: Show Me the Way, ARTIST: Peter Frampton Release: Released on or after 1970\n",
      "song: Something's Happening/, ARTIST: Peter Frampton Release: Released before 1970\n",
      "song: Big Time, ARTIST: Peter Gabriel Release: Released on or after 1970\n",
      "song: Games Without Frontiers, ARTIST: Peter Gabriel Release: Released on or after 1970\n",
      "song: In Your Eyes, ARTIST: Peter Gabriel Release: Released on or after 1970\n",
      "song: Red Rain, ARTIST: Peter Gabriel Release: Released on or after 1970\n",
      "song: SHOCK THE MONKEY, ARTIST: Peter Gabriel Release: Released on or after 1970\n",
      "song: Sledgehammer, ARTIST: Peter Gabriel Release: Released on or after 1970\n",
      "song: Solsbury Hill, ARTIST: Peter Gabriel Release: Released on or after 1970\n",
      "song: Don't Lose My Number, ARTIST: Phil Collins Release: Released before 1970\n",
      "song: I Don't Care Anymore, ARTIST: Phil Collins Release: Released before 1970\n",
      "song: In the Air Tonight, ARTIST: Phil Collins Release: Released on or after 1970\n",
      "song: Another Brick In The Wall, ARTIST: Pink Floyd Release: Released on or after 1970\n",
      "song: Another Brick in the Wall, Pt. 2, ARTIST: Pink Floyd Release: Released on or after 1970\n",
      "song: Any Colour You Like, ARTIST: Pink Floyd Release: Released on or after 1970\n",
      "song: Arnold Layne, ARTIST: Pink Floyd Release: Released before 1970\n",
      "song: Astronomy Domine, ARTIST: Pink Floyd Release: Released before 1970\n",
      "song: Brain Damage, ARTIST: Pink Floyd Release: Released on or after 1970\n",
      "song: Brain Damage /Eclipse, ARTIST: Pink Floyd Release: Released on or after 1970\n",
      "song: Breathe, ARTIST: Pink Floyd Release: Released on or after 1970\n",
      "song: Careful With That Axe, Eugene, ARTIST: Pink Floyd Release: Released before 1970\n",
      "song: Comfortably Numb, ARTIST: Pink Floyd Release: Released on or after 1970\n",
      "song: Dogs, ARTIST: Pink Floyd Release: Released on or after 1970\n",
      "song: Empty Spaces, ARTIST: Pink Floyd Release: Released on or after 1970\n",
      "song: Empty Spaces/young Lust, ARTIST: Pink Floyd Release: Released on or after 1970\n",
      "song: Fearless, ARTIST: Pink Floyd Release: Released on or after 1970\n",
      "song: Goodbye Blue Sky, ARTIST: Pink Floyd Release: Released on or after 1970\n",
      "song: Have a Cigar, ARTIST: Pink Floyd Release: Released on or after 1970\n",
      "song: Hey You, ARTIST: Pink Floyd Release: Released on or after 1970\n",
      "song: Keep Talking, ARTIST: Pink Floyd Release: Released on or after 1970\n",
      "song: Learning to Fly, ARTIST: Pink Floyd Release: Released on or after 1970\n",
      "song: Money, ARTIST: Pink Floyd Release: Released on or after 1970\n",
      "song: Mother, ARTIST: Pink Floyd Release: Released on or after 1970\n",
      "song: On The Turning Away, ARTIST: Pink Floyd Release: Released on or after 1970\n",
      "song: One Of These Days, ARTIST: Pink Floyd Release: Released on or after 1970\n",
      "song: One Slip, ARTIST: Pink Floyd Release: Released on or after 1970\n",
      "song: Run Like Hell, ARTIST: Pink Floyd Release: Released on or after 1970\n",
      "song: See Emily Play, ARTIST: Pink Floyd Release: Released before 1970\n",
      "song: Set The Controls For The Heart Of The Sun, ARTIST: Pink Floyd Release: Released before 1970\n",
      "song: Shine On You Crazy Diamond, ARTIST: Pink Floyd Release: Released on or after 1970\n",
      "song: Speak to Me/Breathe, ARTIST: Pink Floyd Release: Released on or after 1970\n",
      "song: Take It Back, ARTIST: Pink Floyd Release: Released on or after 1970\n",
      "song: The Dogs Of War, ARTIST: Pink Floyd Release: Released on or after 1970\n",
      "song: The Great Gig In the Sky, ARTIST: Pink Floyd Release: Released on or after 1970\n",
      "song: The Happiest Days Of Our Lives/another Brick In The Wall, ARTIST: Pink Floyd Release: Released on or after 1970\n",
      "song: Time, ARTIST: Pink Floyd Release: Released on or after 1970\n",
      "song: Time/Gig in The Sky, ARTIST: Pink Floyd Release: Released on or after 1970\n",
      "song: Us and Them, ARTIST: Pink Floyd Release: Released on or after 1970\n",
      "song: Welcome To The Machine, ARTIST: Pink Floyd Release: Released on or after 1970\n",
      "song: Wish You Were Here, ARTIST: Pink Floyd Release: Released on or after 1970\n",
      "song: Young Lust, ARTIST: Pink Floyd Release: Released on or after 1970\n",
      "song: Every Rose Has Its Thorn, ARTIST: Poison Release: Released on or after 1970\n",
      "song: Look What The Cat Dragged In, ARTIST: Poison Release: Released before 1970\n",
      "song: Nothin' But A Good Time, ARTIST: Poison Release: Released on or after 1970\n",
      "song: Something To Believe In, ARTIST: Poison Release: Released on or after 1970\n",
      "song: Talk Dirty To Me, ARTIST: Poison Release: Released on or after 1970\n",
      "song: A Salty Dog, ARTIST: Procol Harum Release: Released before 1970\n",
      "song: A Whiter Shade of Pale, ARTIST: Procol Harum Release: Released before 1970\n",
      "song: Blurry, ARTIST: Puddle of Mudd Release: Released on or after 1970\n",
      "song: Amie, ARTIST: Pure Prairie League Release: Released before 1970\n",
      "song: Another One Bites the Dust, ARTIST: Queen Release: Released on or after 1970\n",
      "song: Bicycle Race, ARTIST: Queen Release: Released on or after 1970\n",
      "song: Bicycle Race/fat Bottomed Girls, ARTIST: Queen Release: Released on or after 1970\n",
      "song: Bohemian Rhapsody, ARTIST: Queen Release: Released on or after 1970\n",
      "song: Crazy Little Thing Called Love, ARTIST: Queen Release: Released on or after 1970\n",
      "song: Don't Stop Me Now, ARTIST: Queen Release: Released on or after 1970\n",
      "song: Fat Bottomed Girls, ARTIST: Queen Release: Released on or after 1970\n",
      "song: It's Late, ARTIST: Queen Release: Released before 1970\n",
      "song: Keep Yourself Alive, ARTIST: Queen Release: Released on or after 1970\n",
      "song: Killer Queen, ARTIST: Queen Release: Released on or after 1970\n",
      "song: One Vision, ARTIST: Queen Release: Released on or after 1970\n",
      "song: Somebody To Love, ARTIST: Queen Release: Released on or after 1970\n",
      "song: THESE ARE THE DAYS OF OUR LI, ARTIST: Queen Release: Released on or after 1970\n",
      "song: Tie Your Mother Down, ARTIST: Queen Release: Released on or after 1970\n",
      "song: Under Pressure, ARTIST: Queen Release: Released on or after 1970\n",
      "song: We Are the Champions, ARTIST: Queen Release: Released on or after 1970\n",
      "song: We Will Rock You, ARTIST: Queen Release: Released on or after 1970\n",
      "song: We Will Rock You/We Are The Champions, ARTIST: Queen Release: Released on or after 1970\n",
      "song: You're My Best Friend, ARTIST: Queen Release: Released on or after 1970\n",
      "song: Under Pressure, ARTIST: Queen / David Bowie Release: Released on or after 1970\n",
      "song: No One Knows, ARTIST: Queens of the Stone Age Release: Released on or after 1970\n",
      "song: Another Rainy Night, ARTIST: Queensryche Release: Released on or after 1970\n",
      "song: Eyes Of A Stranger, ARTIST: Queensryche Release: Released before 1970\n",
      "song: I Don't Believe In Love, ARTIST: Queensryche Release: Released before 1970\n",
      "song: Jet City Woman, ARTIST: Queensryche Release: Released on or after 1970\n",
      "song: Silent Lucidity, ARTIST: Queensryche Release: Released on or after 1970\n",
      "song: Fresh Air, ARTIST: Quicksilver Messenger Service Release: Released before 1970\n",
      "song: Pride of Man, ARTIST: Quicksilver Messenger Service Release: Released before 1970\n",
      "song: Bang Your Head, ARTIST: Quiet Riot Release: Released before 1970\n",
      "song: Cum On Feel the Noize, ARTIST: Quiet Riot Release: Released before 1970\n",
      "song: Metal Health, ARTIST: Quiet Riot Release: Released on or after 1970\n",
      "song: It's the End of the World As We Know It (And I Feel Fine), ARTIST: R.E.M. Release: Released on or after 1970\n",
      "song: Losing My Religion, ARTIST: R.E.M. Release: Released on or after 1970\n",
      "song: Man On the Moon, ARTIST: R.E.M. Release: Released on or after 1970\n",
      "song: Orange Crush, ARTIST: R.E.M. Release: Released on or after 1970\n",
      "song: Stand, ARTIST: R.E.M. Release: Released on or after 1970\n",
      "song: The One I Love, ARTIST: R.E.M. Release: Released on or after 1970\n",
      "song: Man On The Silver Mountain, ARTIST: Rainbow Release: Released on or after 1970\n",
      "song: Since You Been Gone, ARTIST: Rainbow Release: Released on or after 1970\n",
      "song: Stone Cold, ARTIST: Rainbow Release: Released on or after 1970\n",
      "song: Street Of Dreams, ARTIST: Rainbow Release: Released before 1970\n",
      "song: Black Betty, ARTIST: Ram Jam Release: Released on or after 1970\n",
      "song: Back for More, ARTIST: Ratt Release: Released before 1970\n",
      "song: Round and Round, ARTIST: Ratt Release: Released on or after 1970\n",
      "song: Way Cool Jr., ARTIST: Ratt Release: Released before 1970\n",
      "song: Breaking the Girl, ARTIST: Red Hot Chili Peppers Release: Released on or after 1970\n",
      "song: By the Way, ARTIST: Red Hot Chili Peppers Release: Released on or after 1970\n",
      "song: Californication, ARTIST: Red Hot Chili Peppers Release: Released on or after 1970\n",
      "song: Dani California, ARTIST: Red Hot Chili Peppers Release: Released on or after 1970\n",
      "song: Give It Away, ARTIST: Red Hot Chili Peppers Release: Released on or after 1970\n",
      "song: Scar Tissue, ARTIST: Red Hot Chili Peppers Release: Released on or after 1970\n",
      "song: Soul to Squeeze, ARTIST: Red Hot Chili Peppers Release: Released on or after 1970\n",
      "song: Under the Bridge, ARTIST: Red Hot Chili Peppers Release: Released on or after 1970\n",
      "song: Lunatic Fringe, ARTIST: Red Rider Release: Released on or after 1970\n",
      "song: Back On The Road Again, ARTIST: REO Speedwagon Release: Released before 1970\n",
      "song: Don't Let Him Go, ARTIST: REO Speedwagon Release: Released before 1970\n",
      "song: Golden Country, ARTIST: REO Speedwagon Release: Released before 1970\n",
      "song: I Can't Fight This Feeling, ARTIST: REO Speedwagon Release: Released on or after 1970\n",
      "song: Keep On Loving You, ARTIST: REO Speedwagon Release: Released on or after 1970\n",
      "song: Keep Pushin'  1977, ARTIST: REO Speedwagon Release: Released before 1970\n",
      "song: Like You Do, ARTIST: REO Speedwagon Release: Released before 1970\n",
      "song: Ridin' the Storm Out, ARTIST: REO Speedwagon Release: Released before 1970\n",
      "song: Roll With the Changes, ARTIST: REO Speedwagon Release: Released before 1970\n",
      "song: Take It on the Run, ARTIST: REO Speedwagon Release: Released on or after 1970\n",
      "song: Time For Me To Fly, ARTIST: REO Speedwagon Release: Released before 1970\n",
      "song: Rock And Roll, Hoochie Koo, ARTIST: Rick Derringer Release: Released on or after 1970\n",
      "song: Jessie's Girl, ARTIST: Rick Springfield Release: Released on or after 1970\n",
      "song: Back Off Boogaloo, ARTIST: Ringo Starr Release: Released on or after 1970\n",
      "song: Early 1970 [*], ARTIST: Ringo Starr Release: Released on or after 1970\n",
      "song: It Don't Come Easy, ARTIST: Ringo Starr Release: Released on or after 1970\n",
      "song: No No Song, ARTIST: Ringo Starr Release: Released on or after 1970\n",
      "song: Photograph, ARTIST: Ringo Starr Release: Released on or after 1970\n",
      "song: Your're Sixteen, ARTIST: Ringo Starr Release: Released on or after 1970\n",
      "song: Addicted to Love, ARTIST: Robert Palmer Release: Released on or after 1970\n",
      "song: Bad Case Of Lovin' You, ARTIST: Robert Palmer Release: Released on or after 1970\n",
      "song: Simply Irresistible, ARTIST: Robert Palmer Release: Released on or after 1970\n",
      "song: Big Log, ARTIST: Robert Plant Release: Released on or after 1970\n",
      "song: In The Mood, ARTIST: Robert Plant Release: Released on or after 1970\n",
      "song: Little By Little, ARTIST: Robert Plant Release: Released before 1970\n",
      "song: No Easy Way Out, ARTIST: Robert Tepper Release: Released before 1970\n",
      "song: Bridge of Sighs, ARTIST: Robin Trower Release: Released on or after 1970\n",
      "song: Little Bit of Sympathy, ARTIST: Robin Trower Release: Released before 1970\n",
      "song: Too Rolling Stoned, ARTIST: Robin Trower Release: Released before 1970\n",
      "song: Oh, Well, ARTIST: Rockets Release: Released before 1970\n",
      "song: Tired Of Toein' The Line, ARTIST: Rocky Burnette Release: Released before 1970\n",
      "song: Every Picture Tells A Story, ARTIST: Rod Stewart Release: Released on or after 1970\n",
      "song: Hot Legs, ARTIST: Rod Stewart Release: Released before 1970\n",
      "song: I Know I'm Losing You, ARTIST: Rod Stewart Release: Released before 1970\n",
      "song: Maggie May, ARTIST: Rod Stewart Release: Released on or after 1970\n",
      "song: Reason to Believe, ARTIST: Rod Stewart Release: Released on or after 1970\n",
      "song: Stay with Me, ARTIST: Rod Stewart Release: Released before 1970\n",
      "song: The First Cut Is The Deepest, ARTIST: Rod Stewart Release: Released on or after 1970\n",
      "song: Tonight's the Night (Gonna Be Alright), ARTIST: Rod Stewart Release: Released on or after 1970\n",
      "song: You Wear It Well, ARTIST: Rod Stewart Release: Released on or after 1970\n",
      "song: You're In My Heart (The Final Acclaim), ARTIST: Rod Stewart Release: Released on or after 1970\n",
      "song: Free Me, ARTIST: Roger Daltry Release: Released before 1970\n",
      "song: Had a Dream (Sleeping With the Enemy), ARTIST: Roger Hodgson Release: Released before 1970\n",
      "song: The Logical Song, ARTIST: Roger Hodgson Release: Released on or after 1970\n",
      "song: (I Can't Get No) Satisfaction, ARTIST: Rolling Stones Release: Released before 1970\n",
      "song: 19th Nervous Breakdown, ARTIST: Rolling Stones Release: Released before 1970\n",
      "song: Ain't Too Proud to Beg, ARTIST: Rolling Stones Release: Released on or after 1970\n",
      "song: Almost Hear You Sigh, ARTIST: Rolling Stones Release: Released on or after 1970\n",
      "song: Angie, ARTIST: Rolling Stones Release: Released on or after 1970\n",
      "song: Beast Of Burden, ARTIST: Rolling Stones Release: Released on or after 1970\n",
      "song: Bitch, ARTIST: Rolling Stones Release: Released on or after 1970\n",
      "song: Brown Sugar, ARTIST: Rolling Stones Release: Released on or after 1970\n",
      "song: Can't You Hear Me Knocking, ARTIST: Rolling Stones Release: Released on or after 1970\n",
      "song: CAROL, ARTIST: Rolling Stones Release: Released before 1970\n",
      "song: Da Da Doo Ron Ron, ARTIST: Rolling Stones Release: Released before 1970\n",
      "song: Dance Little Sister, ARTIST: Rolling Stones Release: Released on or after 1970\n",
      "song: Doo Doo Doo Doo Doo (Heartbreaker), ARTIST: Rolling Stones Release: Released on or after 1970\n",
      "song: Doom And Gloom, ARTIST: Rolling Stones Release: Released on or after 1970\n",
      "song: Emotional Rescue, ARTIST: Rolling Stones Release: Released on or after 1970\n",
      "song: Fortune Teller, ARTIST: Rolling Stones Release: Released before 1970\n",
      "song: Get Off My Cloud, ARTIST: Rolling Stones Release: Released before 1970\n",
      "song: Get Off Of My Cloud, ARTIST: Rolling Stones Release: Released before 1970\n",
      "song: Gimme Shelter, ARTIST: Rolling Stones Release: Released before 1970\n",
      "song: Hand of Fate, ARTIST: Rolling Stones Release: Released on or after 1970\n",
      "song: Hang Fire, ARTIST: Rolling Stones Release: Released on or after 1970\n",
      "song: Happy, ARTIST: Rolling Stones Release: Released on or after 1970\n",
      "song: Heartbreaker, ARTIST: Rolling Stones Release: Released on or after 1970\n",
      "song: Honky Tonk Women, ARTIST: Rolling Stones Release: Released before 1970\n",
      "song: IT'S ALL OVER NOW, ARTIST: Rolling Stones Release: Released before 1970\n",
      "song: It's Only Rock 'n Roll, ARTIST: Rolling Stones Release: Released on or after 1970\n",
      "song: Jumpin' Jack Flash, ARTIST: Rolling Stones Release: Released before 1970\n",
      "song: Just My Imagination, ARTIST: Rolling Stones Release: Released before 1970\n",
      "song: Let It Bleed, ARTIST: Rolling Stones Release: Released before 1970\n",
      "song: Let's Spend the Night Together, ARTIST: Rolling Stones Release: Released before 1970\n",
      "song: Like A Rolling Stone, ARTIST: Rolling Stones Release: Released before 1970\n",
      "song: Little Queenie, ARTIST: Rolling Stones Release: Released before 1970\n",
      "song: Midnight Rambler, ARTIST: Rolling Stones Release: Released before 1970\n",
      "song: Miss You, ARTIST: Rolling Stones Release: Released on or after 1970\n",
      "song: Monkey Man, ARTIST: Rolling Stones Release: Released before 1970\n",
      "song: Mother's Little Helper, ARTIST: Rolling Stones Release: Released before 1970\n",
      "song: Paint It Black, ARTIST: Rolling Stones Release: Released before 1970\n",
      "song: Shattered, ARTIST: Rolling Stones Release: Released on or after 1970\n",
      "song: She's a Rainbow, ARTIST: Rolling Stones Release: Released before 1970\n",
      "song: She's So Cold, ARTIST: Rolling Stones Release: Released before 1970\n",
      "song: Start Me Up, ARTIST: Rolling Stones Release: Released on or after 1970\n",
      "song: Street Fighting Man, ARTIST: Rolling Stones Release: Released before 1970\n",
      "song: Sympathy For The Devil, ARTIST: Rolling Stones Release: Released before 1970\n",
      "song: THE LAST TIME, ARTIST: Rolling Stones Release: Released before 1970\n",
      "song: THE SPIDER AND THE FLY, ARTIST: Rolling Stones Release: Released before 1970\n",
      "song: TIME IS ON MY SIDE, ARTIST: Rolling Stones Release: Released before 1970\n",
      "song: Time Waits for No One, ARTIST: Rolling Stones Release: Released on or after 1970\n",
      "song: Tumbling Dice, ARTIST: Rolling Stones Release: Released on or after 1970\n",
      "song: Under My Thumb, ARTIST: Rolling Stones Release: Released before 1970\n",
      "song: UNDERCOVER OF THE NIGHT, ARTIST: Rolling Stones Release: Released on or after 1970\n",
      "song: Waiting on a Friend, ARTIST: Rolling Stones Release: Released on or after 1970\n",
      "song: Wild Horses, ARTIST: Rolling Stones Release: Released on or after 1970\n",
      "song: You Can't Always Get What You Want, ARTIST: Rolling Stones Release: Released before 1970\n",
      "song: YOU GOT THE SILVER, ARTIST: Rolling Stones Release: Released before 1970\n",
      "song: YOU GOTTA MOVE, ARTIST: Rolling Stones Release: Released on or after 1970\n",
      "song: Bullfrog Blues, ARTIST: Rory Gallagher Release: Released before 1970\n",
      "song: Cry Sister, ARTIST: Royal Bliss Release: Released before 1970\n",
      "song: 2112: Overture / The Temples of Syrinx (Chronicles Version), ARTIST: Rush Release: Released on or after 1970\n",
      "song: Closer to the Heart, ARTIST: Rush Release: Released on or after 1970\n",
      "song: Entre Nous, ARTIST: Rush Release: Released on or after 1970\n",
      "song: Finding My Way, ARTIST: Rush Release: Released before 1970\n",
      "song: Fly By Night, ARTIST: Rush Release: Released on or after 1970\n",
      "song: Freewill, ARTIST: Rush Release: Released on or after 1970\n",
      "song: In The Mood, ARTIST: Rush Release: Released on or after 1970\n",
      "song: Limelight, ARTIST: Rush Release: Released on or after 1970\n",
      "song: New World Man, ARTIST: Rush Release: Released on or after 1970\n",
      "song: Red Barchetta, ARTIST: Rush Release: Released on or after 1970\n",
      "song: Show Don't Tell, ARTIST: Rush Release: Released on or after 1970\n",
      "song: Subdivisions, ARTIST: Rush Release: Released on or after 1970\n",
      "song: Summertime Blues, ARTIST: Rush Release: Released before 1970\n",
      "song: Test For Echo, ARTIST: Rush Release: Released on or after 1970\n",
      "song: The Spirit of Radio, ARTIST: Rush Release: Released on or after 1970\n",
      "song: The Trees, ARTIST: Rush Release: Released on or after 1970\n",
      "song: Time Stand Still (live), ARTIST: Rush Release: Released on or after 1970\n",
      "song: Tom Sawyer, ARTIST: Rush Release: Released on or after 1970\n",
      "song: Working Man, ARTIST: Rush Release: Released on or after 1970\n",
      "song: YYZ, ARTIST: Rush Release: Released on or after 1970\n",
      "song: Voices, ARTIST: Russ Ballard Release: Released on or after 1970\n",
      "song: On The Loose, ARTIST: Saga Release: Released before 1970\n",
      "song: SOUL MAN, ARTIST: Sam & Dave Release: Released before 1970\n",
      "song: Can't Get Loose, ARTIST: Sammy Hagar Release: Released before 1970\n",
      "song: Heavy Metal, ARTIST: Sammy Hagar Release: Released on or after 1970\n",
      "song: I Can't Drive 55, ARTIST: Sammy Hagar Release: Released on or after 1970\n",
      "song: I'll Fall In Love Again, ARTIST: Sammy Hagar Release: Released before 1970\n",
      "song: Plain Jane, ARTIST: Sammy Hagar Release: Released before 1970\n",
      "song: Red, ARTIST: Sammy Hagar Release: Released on or after 1970\n",
      "song: There's Only One Way to Rock, ARTIST: Sammy Hagar Release: Released on or after 1970\n",
      "song: Three Lock Box, ARTIST: Sammy Hagar Release: Released before 1970\n",
      "song: Trans Am (Highway Wonderland), ARTIST: Sammy Hagar Release: Released on or after 1970\n",
      "song: Turn Up The Music  1977, ARTIST: Sammy Hagar Release: Released before 1970\n",
      "song: Black Magic Woman, ARTIST: Santana Release: Released on or after 1970\n",
      "song: Europa, ARTIST: Santana Release: Released on or after 1970\n",
      "song: Evil Ways, ARTIST: Santana Release: Released before 1970\n",
      "song: Jingo, ARTIST: Santana Release: Released before 1970\n",
      "song: No One to Depend On, ARTIST: Santana Release: Released on or after 1970\n",
      "song: Oye Como Va, ARTIST: Santana Release: Released on or after 1970\n",
      "song: Put Your Lights On (feat. Everlast), ARTIST: Santana Release: Released on or after 1970\n",
      "song: Smooth, ARTIST: Santana Release: Released on or after 1970\n",
      "song: Soul Sacrifice, ARTIST: Santana Release: Released before 1970\n",
      "song: Well All Right, ARTIST: Santana Release: Released before 1970\n",
      "song: Winning, ARTIST: Santana Release: Released before 1970\n",
      "song: The Warrior, ARTIST: Scandal Release: Released on or after 1970\n",
      "song: 3 Strange Days, ARTIST: School Of Fish Release: Released before 1970\n",
      "song: Big City Nights, ARTIST: Scorpions Release: Released on or after 1970\n",
      "song: Blackout, ARTIST: Scorpions Release: Released on or after 1970\n",
      "song: Don't Believe Her, ARTIST: Scorpions Release: Released before 1970\n",
      "song: Holiday, ARTIST: Scorpions Release: Released before 1970\n",
      "song: Loving You Sunday Morning, ARTIST: Scorpions Release: Released before 1970\n",
      "song: No One Like You, ARTIST: Scorpions Release: Released on or after 1970\n",
      "song: Rock You Like a Hurricane, ARTIST: Scorpions Release: Released on or after 1970\n",
      "song: Still Loving You, ARTIST: Scorpions Release: Released on or after 1970\n",
      "song: The Zoo, ARTIST: Scorpions Release: Released on or after 1970\n",
      "song: Wind Of Change, ARTIST: Scorpions Release: Released on or after 1970\n",
      "song: Remedy, ARTIST: Seether Release: Released on or after 1970\n",
      "song: Words As Weapons, ARTIST: Seether Release: Released before 1970\n",
      "song: God Save The Queen, ARTIST: Sex Pistols Release: Released on or after 1970\n",
      "song: No Turning Back, ARTIST: Sherbs Release: Released before 1970\n",
      "song: 45, ARTIST: Shinedown Release: Released on or after 1970\n",
      "song: America, ARTIST: Simon & Garfunkel Release: Released before 1970\n",
      "song: Cecilia, ARTIST: Simon & Garfunkel Release: Released on or after 1970\n",
      "song: Mrs. Robinson, ARTIST: Simon & Garfunkel Release: Released before 1970\n",
      "song: The Sounds Of Silence, ARTIST: Simon & Garfunkel Release: Released before 1970\n",
      "song: Don't You, ARTIST: Simple Minds Release: Released on or after 1970\n",
      "song: 18 And Life, ARTIST: Skid Row Release: Released on or after 1970\n",
      "song: I Remember You, ARTIST: Skid Row Release: Released on or after 1970\n",
      "song: Youth Gone Wild, ARTIST: Skid Row Release: Released on or after 1970\n"
     ]
    },
    {
     "name": "stdout",
     "output_type": "stream",
     "text": [
      "song: Fly To The Angels, ARTIST: Slaughter Release: Released on or after 1970\n",
      "song: All Star, ARTIST: Smash Mouth Release: Released on or after 1970\n",
      "song: 1979, ARTIST: Smashing Pumpkins Release: Released on or after 1970\n",
      "song: Bullet With Butterfly Wings, ARTIST: Smashing Pumpkins Release: Released on or after 1970\n",
      "song: Landslide, ARTIST: Smashing Pumpkins Release: Released before 1970\n",
      "song: Today, ARTIST: Smashing Pumpkins Release: Released on or after 1970\n",
      "song: Driver's Seat, ARTIST: Sniff 'n' the Tears Release: Released on or after 1970\n",
      "song: Tainted Love, ARTIST: Soft Cell Release: Released on or after 1970\n",
      "song: Black Hole Sun, ARTIST: Soundgarden Release: Released on or after 1970\n",
      "song: Burden in My Hand, ARTIST: Soundgarden Release: Released on or after 1970\n",
      "song: Fell On Black Days, ARTIST: Soundgarden Release: Released on or after 1970\n",
      "song: Spoonman, ARTIST: Soundgarden Release: Released on or after 1970\n",
      "song: Havin' A Party, ARTIST: Southside Johnny Release: Released before 1970\n",
      "song: The Fever, ARTIST: Southside Johnny Release: Released before 1970\n",
      "song: GIMME SOME LOVIN', ARTIST: Spencer Davis Group Release: Released before 1970\n",
      "song: Two Princes, ARTIST: Spin Doctors Release: Released on or after 1970\n",
      "song: Black Coffee In Bed, ARTIST: Squeeze Release: Released on or after 1970\n",
      "song: Pulling Mussels, ARTIST: Squeeze Release: Released on or after 1970\n",
      "song: Tempted, ARTIST: Squeeze Release: Released on or after 1970\n",
      "song: It's Been Awhile, ARTIST: Staind Release: Released on or after 1970\n",
      "song: My Demons, ARTIST: Starset Release: Released before 1970\n",
      "song: Stuck In the Middle With You, ARTIST: Stealers Wheel Release: Released on or after 1970\n",
      "song: Black Cow, ARTIST: Steely Dan Release: Released on or after 1970\n",
      "song: Deacon Blues, ARTIST: Steely Dan Release: Released on or after 1970\n",
      "song: Dirty Work, ARTIST: Steely Dan Release: Released on or after 1970\n",
      "song: Do It Again, ARTIST: Steely Dan Release: Released on or after 1970\n",
      "song: Fm {no Static At All}, ARTIST: Steely Dan Release: Released on or after 1970\n",
      "song: Hey Nineteen, ARTIST: Steely Dan Release: Released on or after 1970\n",
      "song: Peg, ARTIST: Steely Dan Release: Released on or after 1970\n",
      "song: Reelin' in the Years, ARTIST: Steely Dan Release: Released on or after 1970\n",
      "song: Rikki Don't Lose That Number, ARTIST: Steely Dan Release: Released on or after 1970\n",
      "song: Love the One You're With, ARTIST: Stephen Stills Release: Released on or after 1970\n",
      "song: Treetop Flyer, ARTIST: Stephen Stills Release: Released before 1970\n",
      "song: Born to Be Wild, ARTIST: Steppenwolf Release: Released before 1970\n",
      "song: Magic Carpet Ride, ARTIST: Steppenwolf Release: Released before 1970\n",
      "song: Copperhead Road, ARTIST: Steve Earle Release: Released on or after 1970\n",
      "song: Abracadabra, ARTIST: Steve Miller Band Release: Released on or after 1970\n",
      "song: Fly Like an Eagle, ARTIST: Steve Miller Band Release: Released on or after 1970\n",
      "song: Jet Airliner, ARTIST: Steve Miller Band Release: Released on or after 1970\n",
      "song: Jungle Love, ARTIST: Steve Miller Band Release: Released on or after 1970\n",
      "song: Living in the U.S.A., ARTIST: Steve Miller Band Release: Released before 1970\n",
      "song: Mercury Blues, ARTIST: Steve Miller Band Release: Released before 1970\n",
      "song: Rock 'N Me, ARTIST: Steve Miller Band Release: Released on or after 1970\n",
      "song: Space Cowboy, ARTIST: Steve Miller Band Release: Released before 1970\n",
      "song: Swingtown, ARTIST: Steve Miller Band Release: Released before 1970\n",
      "song: Take the Money and Run, ARTIST: Steve Miller Band Release: Released on or after 1970\n",
      "song: The Joker, ARTIST: Steve Miller Band Release: Released on or after 1970\n",
      "song: The Stake, ARTIST: Steve Miller Band Release: Released before 1970\n",
      "song: Threshold/Jet Airliner, ARTIST: Steve Miller Band Release: Released before 1970\n",
      "song: True Fine Love, ARTIST: Steve Miller Band Release: Released before 1970\n",
      "song: Your Cash Ain't Nothin But Trash, ARTIST: Steve Miller Band Release: Released before 1970\n",
      "song: Oh Sherrie, ARTIST: Steve Perry Release: Released on or after 1970\n",
      "song: Back In the High Life Again, ARTIST: Steve Winwood Release: Released on or after 1970\n",
      "song: Higher Love, ARTIST: Steve Winwood Release: Released on or after 1970\n",
      "song: Roll With It, ARTIST: Steve Winwood Release: Released on or after 1970\n",
      "song: While You See a Chance, ARTIST: Steve Winwood Release: Released on or after 1970\n",
      "song: Love The One You'Re With, ARTIST: Steven Stills Release: Released on or after 1970\n",
      "song: Edge of Seventeen, ARTIST: Stevie Nicks Release: Released on or after 1970\n",
      "song: Leather and Lace, ARTIST: Stevie Nicks Release: Released on or after 1970\n",
      "song: Stand Back, ARTIST: Stevie Nicks Release: Released on or after 1970\n",
      "song: Stop Draggin' My Heart Around, ARTIST: Stevie Nicks Release: Released on or after 1970\n",
      "song: Stop Draggin' My Heart Around, ARTIST: Stevie Nicks w/ Tom Petty and the Heartbreakers Release: Released on or after 1970\n",
      "song: Cold Shot, ARTIST: Stevie Ray Vaughan Release: Released before 1970\n",
      "song: Couldn't Stand the Weather, ARTIST: Stevie Ray Vaughan Release: Released before 1970\n",
      "song: Crossfire, ARTIST: Stevie Ray Vaughan Release: Released on or after 1970\n",
      "song: Life by the Drop, ARTIST: Stevie Ray Vaughan Release: Released before 1970\n",
      "song: Little Wing, ARTIST: Stevie Ray Vaughan Release: Released before 1970\n",
      "song: Look At Little Sister, ARTIST: Stevie Ray Vaughan Release: Released before 1970\n",
      "song: Pride And Joy, ARTIST: Stevie Ray Vaughan Release: Released on or after 1970\n",
      "song: Scuttle Buttin', ARTIST: Stevie Ray Vaughan Release: Released on or after 1970\n",
      "song: Superstition [Live], ARTIST: Stevie Ray Vaughan Release: Released before 1970\n",
      "song: Taxman, ARTIST: Stevie Ray Vaughan Release: Released before 1970\n",
      "song: Texas Flood, ARTIST: Stevie Ray Vaughan Release: Released on or after 1970\n",
      "song: The House Is Rockin', ARTIST: Stevie Ray Vaughan Release: Released on or after 1970\n",
      "song: The Sky Is Crying, ARTIST: Stevie Ray Vaughan Release: Released before 1970\n",
      "song: Tightrope, ARTIST: Stevie Ray Vaughan Release: Released before 1970\n",
      "song: Voodoo Chile {slight Return}, ARTIST: Stevie Ray Vaughan Release: Released before 1970\n",
      "song: Superstition, ARTIST: Stevie Wonder Release: Released on or after 1970\n",
      "song: Fortress Around Your Heart, ARTIST: Sting Release: Released on or after 1970\n",
      "song: If You Love Somebody Set Them Free, ARTIST: Sting Release: Released before 1970\n",
      "song: Big Empty, ARTIST: Stone Temple Pilots Release: Released on or after 1970\n",
      "song: Creep, ARTIST: Stone Temple Pilots Release: Released on or after 1970\n",
      "song: Interstate Love Song, ARTIST: Stone Temple Pilots Release: Released on or after 1970\n",
      "song: Lady Picture Show, ARTIST: Stone Temple Pilots Release: Released before 1970\n",
      "song: Plush, ARTIST: Stone Temple Pilots Release: Released on or after 1970\n",
      "song: Sex Type Thing, ARTIST: Stone Temple Pilots Release: Released before 1970\n",
      "song: Trippin' on a Hole in a Paper Heart, ARTIST: Stone Temple Pilots Release: Released before 1970\n",
      "song: Vasoline, ARTIST: Stone Temple Pilots Release: Released on or after 1970\n",
      "song: Rock This Town, ARTIST: Stray Cats Release: Released before 1970\n",
      "song: Stray Cat Strut, ARTIST: Stray Cats Release: Released before 1970\n",
      "song: To Hell With the Devil, ARTIST: Stryper Release: Released on or after 1970\n",
      "song: The Isle Of Debris, ARTIST: Stu Nunnery Release: Released before 1970\n",
      "song: Blue Collar Man, ARTIST: Styx Release: Released on or after 1970\n",
      "song: Come Sail Away, ARTIST: Styx Release: Released on or after 1970\n",
      "song: Crystal Ball, ARTIST: Styx Release: Released before 1970\n",
      "song: Fooling Yourself, ARTIST: Styx Release: Released on or after 1970\n",
      "song: Lady, ARTIST: Styx Release: Released on or after 1970\n",
      "song: Light Up, ARTIST: Styx Release: Released on or after 1970\n",
      "song: Lorelei, ARTIST: Styx Release: Released on or after 1970\n",
      "song: Renegade, ARTIST: Styx Release: Released on or after 1970\n",
      "song: Suite Madame Blue, ARTIST: Styx Release: Released on or after 1970\n",
      "song: The Grand Illusion, ARTIST: Styx Release: Released on or after 1970\n",
      "song: Too Much Time On My Hands, ARTIST: Styx Release: Released on or after 1970\n",
      "song: What I Got, ARTIST: Sublime Release: Released on or after 1970\n",
      "song: Wrong Way, ARTIST: Sublime Release: Released on or after 1970\n",
      "song: Fly, ARTIST: Sugar Ray Release: Released before 1970\n",
      "song: Green Eyed Lady, ARTIST: Sugarloaf Release: Released on or after 1970\n",
      "song: Bloody Well Right, ARTIST: Supertramp Release: Released on or after 1970\n",
      "song: Breakfast in America, ARTIST: Supertramp Release: Released on or after 1970\n",
      "song: Dreamer, ARTIST: Supertramp Release: Released on or after 1970\n",
      "song: Give a Little Bit, ARTIST: Supertramp Release: Released on or after 1970\n",
      "song: Goodbye Stranger, ARTIST: Supertramp Release: Released on or after 1970\n",
      "song: Take the Long Way Home, ARTIST: Supertramp Release: Released on or after 1970\n",
      "song: The Logical Song, ARTIST: Supertramp Release: Released on or after 1970\n",
      "song: Eye of the Tiger, ARTIST: Survivor Release: Released on or after 1970\n",
      "song: I Can't Hold Back, ARTIST: Survivor Release: Released before 1970\n",
      "song: Ballroom Blitz, ARTIST: Sweet Release: Released on or after 1970\n",
      "song: Fox On The Run, ARTIST: Sweet Release: Released before 1970\n",
      "song: Love Is Like Oxygen, ARTIST: Sweet Release: Released on or after 1970\n",
      "song: Bang a Gong (Get It On), ARTIST: T. Rex Release: Released on or after 1970\n",
      "song: Jeepster, ARTIST: T. Rex Release: Released on or after 1970\n",
      "song: And She Was, ARTIST: Talking Heads Release: Released on or after 1970\n",
      "song: Burning Down the House, ARTIST: Talking Heads Release: Released on or after 1970\n",
      "song: Life During Wartime, ARTIST: Talking Heads Release: Released on or after 1970\n",
      "song: Once In A Lifetime, ARTIST: Talking Heads Release: Released on or after 1970\n",
      "song: Psycho Killer, ARTIST: Talking Heads Release: Released on or after 1970\n",
      "song: Road To Nowhere, ARTIST: Talking Heads Release: Released before 1970\n",
      "song: Stay Up Late, ARTIST: Talking Heads Release: Released before 1970\n",
      "song: Take Me To The River, ARTIST: Talking Heads Release: Released before 1970\n",
      "song: Wild Wild Life, ARTIST: Talking Heads Release: Released on or after 1970\n",
      "song: I'm Leaving, ARTIST: Taxxi Release: Released before 1970\n",
      "song: Everybody Wants to Rule the World, ARTIST: Tears for Fears Release: Released on or after 1970\n",
      "song: Head Over Heels, ARTIST: Tears for Fears Release: Released on or after 1970\n",
      "song: Shout, ARTIST: Tears for Fears Release: Released on or after 1970\n",
      "song: Cat Scratch Fever, ARTIST: Ted Nugent Release: Released on or after 1970\n",
      "song: Dog Eat Dog, ARTIST: Ted Nugent Release: Released before 1970\n",
      "song: Free for All, ARTIST: Ted Nugent Release: Released on or after 1970\n",
      "song: Great White Buffalo, ARTIST: Ted Nugent Release: Released before 1970\n",
      "song: Stranglehold, ARTIST: Ted Nugent Release: Released on or after 1970\n",
      "song: Wango Tango, ARTIST: Ted Nugent Release: Released before 1970\n",
      "song: Hunger Strike, ARTIST: Temple of the Dog Release: Released on or after 1970\n",
      "song: I'd Love To Change The World, ARTIST: Ten Years After Release: Released on or after 1970\n",
      "song: I'm Goin' Home, ARTIST: Ten Years After Release: Released before 1970\n",
      "song: Little Suzi, ARTIST: Tesla Release: Released before 1970\n",
      "song: Love Song, ARTIST: Tesla Release: Released on or after 1970\n",
      "song: Modern Day Cowboy, ARTIST: Tesla Release: Released before 1970\n",
      "song: Signs, ARTIST: Tesla Release: Released before 1970\n",
      "song: Breakdown, ARTIST: The Alan Parsons Project Release: Released on or after 1970\n",
      "song: Eye In the Sky, ARTIST: The Alan Parsons Project Release: Released on or after 1970\n",
      "song: Games People Play, ARTIST: The Alan Parsons Project Release: Released on or after 1970\n",
      "song: I Wouldn't Want to Be Like You, ARTIST: The Alan Parsons Project Release: Released before 1970\n",
      "song: Rain In the Summertime, ARTIST: The Alarm (IRS) Release: Released before 1970\n",
      "song: Journey to the Center of the Mind, ARTIST: The Amboy Dukes Release: Released before 1970\n",
      "song: Don't Bring Me Down, ARTIST: The Animals Release: Released before 1970\n",
      "song: House Of The Rising Sun, ARTIST: The Animals Release: Released before 1970\n",
      "song: Monterey, ARTIST: The Animals Release: Released before 1970\n",
      "song: San Franciscan Nights, ARTIST: The Animals Release: Released before 1970\n",
      "song: Spill the Wine, ARTIST: The Animals Release: Released before 1970\n",
      "song: Love Shack, ARTIST: The B-52's Release: Released on or after 1970\n",
      "song: Roam, ARTIST: The B-52's Release: Released before 1970\n",
      "song: Back On My Feet Again, ARTIST: The Babys Release: Released before 1970\n",
      "song: Isn't It Time, ARTIST: The Babys Release: Released on or after 1970\n",
      "song: Chest Fever, ARTIST: The Band Release: Released before 1970\n",
      "song: The Night They Drove Old Dixie Down, ARTIST: The Band Release: Released before 1970\n",
      "song: The Weight, ARTIST: The Band Release: Released before 1970\n",
      "song: Up On Cripple Creek, ARTIST: The Band Release: Released before 1970\n",
      "song: Good Vibrations, ARTIST: The Beach Boys Release: Released before 1970\n",
      "song: A Day In The Life, ARTIST: The Beatles Release: Released before 1970\n",
      "song: A Hard Day's Night, ARTIST: The Beatles Release: Released before 1970\n",
      "song: A Saturday Club Xmas/Crimble Medley, ARTIST: The Beatles Release: Released before 1970\n",
      "song: Across The Universe, ARTIST: The Beatles Release: Released on or after 1970\n",
      "song: All My Loving, ARTIST: The Beatles Release: Released before 1970\n",
      "song: All You Need Is Love, ARTIST: The Beatles Release: Released before 1970\n",
      "song: And Your Bird Can Sing, ARTIST: The Beatles Release: Released before 1970\n",
      "song: ANYTIME AT ALL, ARTIST: The Beatles Release: Released before 1970\n",
      "song: Baby You're A Rich Man, ARTIST: The Beatles Release: Released before 1970\n",
      "song: Back In the U.S.S.R., ARTIST: The Beatles Release: Released before 1970\n",
      "song: BAD BOY, ARTIST: The Beatles Release: Released before 1970\n",
      "song: BALLAD OF JOHN AND YOKO, ARTIST: The Beatles Release: Released before 1970\n",
      "song: Birthday, ARTIST: The Beatles Release: Released before 1970\n",
      "song: Blackbird, ARTIST: The Beatles Release: Released before 1970\n",
      "song: Can't Buy Me Love, ARTIST: The Beatles Release: Released before 1970\n",
      "song: Come Together, ARTIST: The Beatles Release: Released before 1970\n",
      "song: Cry For A Shadow, ARTIST: The Beatles Release: Released before 1970\n",
      "song: Day Tripper, ARTIST: The Beatles Release: Released before 1970\n",
      "song: Dear Prudence, ARTIST: The Beatles Release: Released before 1970\n",
      "song: Don't Let Me Down, ARTIST: The Beatles Release: Released before 1970\n",
      "song: Drive My Car, ARTIST: The Beatles Release: Released before 1970\n",
      "song: Eight Days A Week, ARTIST: The Beatles Release: Released before 1970\n",
      "song: Eleanor Rigby, ARTIST: The Beatles Release: Released before 1970\n",
      "song: Everybody's Got Something To Hide Except Me And My Monk, ARTIST: The Beatles Release: Released before 1970\n",
      "song: Fixing A Hole, ARTIST: The Beatles Release: Released before 1970\n",
      "song: From Me To You, ARTIST: The Beatles Release: Released before 1970\n",
      "song: Get Back, ARTIST: The Beatles Release: Released before 1970\n",
      "song: Getting Better, ARTIST: The Beatles Release: Released before 1970\n",
      "song: GIRL, ARTIST: The Beatles Release: Released before 1970\n",
      "song: Golden Slumbers, ARTIST: The Beatles Release: Released before 1970\n",
      "song: Good Day Sunshine, ARTIST: The Beatles Release: Released before 1970\n",
      "song: Got To Get You Into My Life, ARTIST: The Beatles Release: Released before 1970\n",
      "song: Hello Goodbye, ARTIST: The Beatles Release: Released before 1970\n",
      "song: Help!, ARTIST: The Beatles Release: Released before 1970\n",
      "song: Helter Skelter, ARTIST: The Beatles Release: Released before 1970\n",
      "song: Here Comes The Sun, ARTIST: The Beatles Release: Released before 1970\n",
      "song: Hey Jude, ARTIST: The Beatles Release: Released before 1970\n",
      "song: I Am the Walrus, ARTIST: The Beatles Release: Released before 1970\n",
      "song: I Feel Fine, ARTIST: The Beatles Release: Released before 1970\n",
      "song: I Saw Her Standing There, ARTIST: The Beatles Release: Released before 1970\n",
      "song: I Want To Hold Your Hand, ARTIST: The Beatles Release: Released before 1970\n",
      "song: I Want You (She's So Heavy), ARTIST: The Beatles Release: Released before 1970\n",
      "song: I'll Follow The Sun, ARTIST: The Beatles Release: Released before 1970\n",
      "song: I'm A Loser, ARTIST: The Beatles Release: Released before 1970\n",
      "song: I'm Down, ARTIST: The Beatles Release: Released before 1970\n",
      "song: I've Got A Feeling, ARTIST: The Beatles Release: Released on or after 1970\n",
      "song: I've Just Seen A Face, ARTIST: The Beatles Release: Released before 1970\n",
      "song: IN MY LIFE, ARTIST: The Beatles Release: Released before 1970\n",
      "song: IT WON'T BE LONG, ARTIST: The Beatles Release: Released before 1970\n",
      "song: Lady Madonna, ARTIST: The Beatles Release: Released before 1970\n",
      "song: Let It Be, ARTIST: The Beatles Release: Released on or after 1970\n",
      "song: LITTLE CHILD, ARTIST: The Beatles Release: Released before 1970\n",
      "song: Love Me Do, ARTIST: The Beatles Release: Released before 1970\n",
      "song: Lovely Rita, ARTIST: The Beatles Release: Released before 1970\n",
      "song: Lucy In The Sky With Diamonds, ARTIST: The Beatles Release: Released before 1970\n",
      "song: Magical Mystery Tour, ARTIST: The Beatles Release: Released before 1970\n",
      "song: Maxwell's Silver Hammer, ARTIST: The Beatles Release: Released before 1970\n",
      "song: Norwegian Wood, ARTIST: The Beatles Release: Released before 1970\n",
      "song: NOWHERE MAN, ARTIST: The Beatles Release: Released before 1970\n",
      "song: Ob-la-di, Ob-la-da, ARTIST: The Beatles Release: Released before 1970\n",
      "song: OH DARLING, ARTIST: The Beatles Release: Released before 1970\n",
      "song: P.s. I Love You, ARTIST: The Beatles Release: Released before 1970\n",
      "song: Paperback Writer, ARTIST: The Beatles Release: Released before 1970\n",
      "song: Penny Lane, ARTIST: The Beatles Release: Released before 1970\n",
      "song: Please Please Me, ARTIST: The Beatles Release: Released before 1970\n",
      "song: Reprise / Day in the Life, ARTIST: The Beatles Release: Released before 1970\n",
      "song: Revolution, ARTIST: The Beatles Release: Released before 1970\n",
      "song: ROCK AND ROLL MUSIC, ARTIST: The Beatles Release: Released before 1970\n",
      "song: Rocky Raccoon, ARTIST: The Beatles Release: Released before 1970\n",
      "song: Roll Over Beethoven, ARTIST: The Beatles Release: Released before 1970\n",
      "song: Sgt. Pepper Inner Groove, ARTIST: The Beatles Release: Released before 1970\n",
      "song: Sgt. Pepper's Lonely Hearts Club Band, ARTIST: The Beatles Release: Released before 1970\n",
      "song: Sgt. Pepper's Lonely Hearts Club Band (Reprise), ARTIST: The Beatles Release: Released before 1970\n",
      "song: Sgt. Pepper/a Day In The Life, ARTIST: The Beatles Release: Released before 1970\n",
      "song: Sgt. Pepper/with A Little Help From My Friends, ARTIST: The Beatles Release: Released before 1970\n",
      "song: She Loves You, ARTIST: The Beatles Release: Released before 1970\n",
      "song: SHE'S A WOMAN, ARTIST: The Beatles Release: Released before 1970\n",
      "song: She's Leaving Home, ARTIST: The Beatles Release: Released before 1970\n",
      "song: Something, ARTIST: The Beatles Release: Released before 1970\n",
      "song: Strawberry Fields Forever, ARTIST: The Beatles Release: Released before 1970\n",
      "song: Sun King, ARTIST: The Beatles Release: Released before 1970\n",
      "song: The Ballad Of John And Yoko, ARTIST: The Beatles Release: Released before 1970\n",
      "song: THE CONTINUING STORY OF BUNG, ARTIST: The Beatles Release: Released before 1970\n",
      "song: The Fool On The Hill, ARTIST: The Beatles Release: Released before 1970\n",
      "song: The Long And Winding Road, ARTIST: The Beatles Release: Released on or after 1970\n",
      "song: The Word, ARTIST: The Beatles Release: Released before 1970\n",
      "song: Things We Said Today, ARTIST: The Beatles Release: Released before 1970\n",
      "song: Ticket to Ride, ARTIST: The Beatles Release: Released before 1970\n",
      "song: Twist and Shout, ARTIST: The Beatles Release: Released before 1970\n",
      "song: Two Of Us, ARTIST: The Beatles Release: Released on or after 1970\n",
      "song: We Can Work It Out, ARTIST: The Beatles Release: Released before 1970\n",
      "song: When I'm 64, ARTIST: The Beatles Release: Released before 1970\n",
      "song: While My Guitar Gently Weeps, ARTIST: The Beatles Release: Released before 1970\n",
      "song: Wild Honey Pie, ARTIST: The Beatles Release: Released before 1970\n",
      "song: With a Little Help From My Friends, ARTIST: The Beatles Release: Released before 1970\n",
      "song: Yellow Submarine, ARTIST: The Beatles Release: Released before 1970\n",
      "song: Yesterday, ARTIST: The Beatles Release: Released before 1970\n",
      "song: You Never Give Me Your Money, ARTIST: The Beatles Release: Released before 1970\n",
      "song: You're Going To Lose That Girl, ARTIST: The Beatles Release: Released before 1970\n",
      "song: YOUR MOTHER SHOULD KNOW, ARTIST: The Beatles Release: Released before 1970\n",
      "song: A Conspiracy, ARTIST: The Black Crowes Release: Released before 1970\n",
      "song: Gone, ARTIST: The Black Crowes Release: Released before 1970\n",
      "song: Good Friday, ARTIST: The Black Crowes Release: Released before 1970\n",
      "song: Goodbye Daughters of the Revolution, ARTIST: The Black Crowes Release: Released on or after 1970\n",
      "song: Hard To Handle, ARTIST: The Black Crowes Release: Released on or after 1970\n",
      "song: Hotel Illness, ARTIST: The Black Crowes Release: Released before 1970\n",
      "song: Jealous Again, ARTIST: The Black Crowes Release: Released before 1970\n",
      "song: Kickin' My Heart Around, ARTIST: The Black Crowes Release: Released before 1970\n",
      "song: Remedy, ARTIST: The Black Crowes Release: Released on or after 1970\n",
      "song: She Talks To Angels, ARTIST: The Black Crowes Release: Released on or after 1970\n",
      "song: Thorn In My Pride, ARTIST: The Black Crowes Release: Released before 1970\n",
      "song: Twice As Hard, ARTIST: The Black Crowes Release: Released on or after 1970\n",
      "song: Gold On The Ceiling, ARTIST: The Black Keys Release: Released on or after 1970\n",
      "song: Lonely Boy, ARTIST: The Black Keys Release: Released on or after 1970\n",
      "song: Soul Man, ARTIST: The Blues Brothers Release: Released before 1970\n",
      "song: Eight Miles High, ARTIST: The Byrds Release: Released before 1970\n",
      "song: Bye Bye Love, ARTIST: The Cars Release: Released on or after 1970\n",
      "song: Candy-o, ARTIST: The Cars Release: Released before 1970\n",
      "song: Dangerious Type, ARTIST: The Cars Release: Released before 1970\n",
      "song: Drive, ARTIST: The Cars Release: Released on or after 1970\n",
      "song: Good Times Roll, ARTIST: The Cars Release: Released before 1970\n",
      "song: Hello Again, ARTIST: The Cars Release: Released on or after 1970\n",
      "song: It's All I Can Do, ARTIST: The Cars Release: Released before 1970\n",
      "song: Just What I Needed, ARTIST: The Cars Release: Released on or after 1970\n",
      "song: Let's Go, ARTIST: The Cars Release: Released on or after 1970\n",
      "song: Magic, ARTIST: The Cars Release: Released on or after 1970\n",
      "song: Moving In Stereo, ARTIST: The Cars Release: Released on or after 1970\n",
      "song: My Best Friend's Girl, ARTIST: The Cars Release: Released before 1970\n",
      "song: Shake It Up, ARTIST: The Cars Release: Released on or after 1970\n",
      "song: Since You're Gone, ARTIST: The Cars Release: Released before 1970\n",
      "song: Stereo/All Mixed Up, ARTIST: The Cars Release: Released before 1970\n",
      "song: Tonight She Comes, ARTIST: The Cars Release: Released before 1970\n",
      "song: You Might Think, ARTIST: The Cars Release: Released on or after 1970\n",
      "song: You're All I've Got Tonight, ARTIST: The Cars Release: Released before 1970\n",
      "song: Clampdown, ARTIST: The Clash Release: Released on or after 1970\n",
      "song: I Fought The Law, ARTIST: The Clash Release: Released before 1970\n",
      "song: London Calling, ARTIST: The Clash Release: Released on or after 1970\n",
      "song: Rock The Casbah, ARTIST: The Clash Release: Released on or after 1970\n",
      "song: Should I Stay Or Should, ARTIST: The Clash Release: Released on or after 1970\n",
      "song: Train In Vain, ARTIST: The Clash Release: Released on or after 1970\n",
      "song: Fire Woman, ARTIST: The Cult Release: Released on or after 1970\n",
      "song: Another Park, Another Sunday, ARTIST: The Doobie Brothers Release: Released on or after 1970\n",
      "song: Black Water, ARTIST: The Doobie Brothers Release: Released on or after 1970\n",
      "song: China Grove, ARTIST: The Doobie Brothers Release: Released on or after 1970\n",
      "song: It Keeps You Runnin', ARTIST: The Doobie Brothers Release: Released before 1970\n",
      "song: Jesus Is Just Alright, ARTIST: The Doobie Brothers Release: Released on or after 1970\n",
      "song: Listen To The Music, ARTIST: The Doobie Brothers Release: Released on or after 1970\n",
      "song: Livin' On the Fault Line, ARTIST: The Doobie Brothers Release: Released before 1970\n",
      "song: Long Train Runnin', ARTIST: The Doobie Brothers Release: Released on or after 1970\n",
      "song: Natural Thing, ARTIST: The Doobie Brothers Release: Released before 1970\n",
      "song: Rockin' Down The Highway, ARTIST: The Doobie Brothers Release: Released on or after 1970\n",
      "song: South City Midnight Lady, ARTIST: The Doobie Brothers Release: Released before 1970\n",
      "song: Take Me In Your Arms, ARTIST: The Doobie Brothers Release: Released on or after 1970\n",
      "song: Takin' It To The Streets, ARTIST: The Doobie Brothers Release: Released on or after 1970\n",
      "song: UKIAH/THE CAPTAIN AND ME, ARTIST: The Doobie Brothers Release: Released before 1970\n",
      "song: What a Fool Believes, ARTIST: The Doobie Brothers Release: Released on or after 1970\n",
      "song: Wheels Of Fortune, ARTIST: The Doobie Brothers Release: Released before 1970\n",
      "song: Back Door Man, ARTIST: The Doors Release: Released before 1970\n",
      "song: Break On Through, ARTIST: The Doors Release: Released before 1970\n",
      "song: Five To One, ARTIST: The Doors Release: Released before 1970\n",
      "song: Gloria, ARTIST: The Doors Release: Released before 1970\n",
      "song: Hello, I Love You, ARTIST: The Doors Release: Released before 1970\n",
      "song: L.A. Woman, ARTIST: The Doors Release: Released on or after 1970\n",
      "song: Light My Fire, ARTIST: The Doors Release: Released before 1970\n",
      "song: Love Her Madly, ARTIST: The Doors Release: Released on or after 1970\n",
      "song: Love Me Two Times, ARTIST: The Doors Release: Released before 1970\n",
      "song: Moonlight Drive, ARTIST: The Doors Release: Released before 1970\n",
      "song: Peace Frog, ARTIST: The Doors Release: Released on or after 1970\n",
      "song: People Are Strange, ARTIST: The Doors Release: Released before 1970\n",
      "song: Riders On The Storm, ARTIST: The Doors Release: Released on or after 1970\n",
      "song: Roadhouse Blues, ARTIST: The Doors Release: Released before 1970\n",
      "song: Soul Kitchen, ARTIST: The Doors Release: Released before 1970\n",
      "song: The Changeling, ARTIST: The Doors Release: Released on or after 1970\n",
      "song: The Crystal Ship, ARTIST: The Doors Release: Released before 1970\n",
      "song: Touch Me, ARTIST: The Doors Release: Released before 1970\n",
      "song: Twentieth Century Fox, ARTIST: The Doors Release: Released before 1970\n",
      "song: Waiting For The Sun, ARTIST: The Doors Release: Released on or after 1970\n",
      "song: When the Music's Over, ARTIST: The Doors Release: Released before 1970\n",
      "song: Tuff Enuff, ARTIST: The Fabulous Thunderbirds Release: Released before 1970\n",
      "song: Radioactive, ARTIST: The Firm Release: Released on or after 1970\n",
      "song: One Thing Leads To Another, ARTIST: The Fixx Release: Released on or after 1970\n",
      "song: Saved By Zero, ARTIST: The Fixx Release: Released on or after 1970\n",
      "song: Iris, ARTIST: The Goo Goo Dolls Release: Released on or after 1970\n",
      "song: Funk #49, ARTIST: The James Gang Release: Released on or after 1970\n",
      "song: This Beat Goes on/Switching to Glide, ARTIST: The Kings Release: Released before 1970\n",
      "song: A Well Respected Man, ARTIST: The Kinks Release: Released before 1970\n",
      "song: All Day And All Of The Night, ARTIST: The Kinks Release: Released before 1970\n",
      "song: Apeman, ARTIST: The Kinks Release: Released on or after 1970\n",
      "song: Come Dancing, ARTIST: The Kinks Release: Released on or after 1970\n",
      "song: Destroyer, ARTIST: The Kinks Release: Released on or after 1970\n",
      "song: Lola, ARTIST: The Kinks Release: Released on or after 1970\n",
      "song: Sunny Afternoon, ARTIST: The Kinks Release: Released before 1970\n",
      "song: Superman, ARTIST: The Kinks Release: Released before 1970\n",
      "song: Tired of Waiting, ARTIST: The Kinks Release: Released before 1970\n",
      "song: Victoria, ARTIST: The Kinks Release: Released before 1970\n",
      "song: Waterloo Sunset, ARTIST: The Kinks Release: Released before 1970\n",
      "song: You Really Got Me, ARTIST: The Kinks Release: Released before 1970\n",
      "song: My Sharona, ARTIST: The Knack Release: Released on or after 1970\n",
      "song: Mrs. Robinson, ARTIST: The Lemonheads Release: Released before 1970\n",
      "song: Summer In the City, ARTIST: The Lovin' Spoonful Release: Released before 1970\n",
      "song: CALIFORNIA DREAMIN', ARTIST: The Mamas  Release: Released before 1970\n",
      "song: Can't You See, ARTIST: The Marshall Tucker Band Release: Released on or after 1970\n",
      "song: HEARD IT IN A LOVE SONG, ARTIST: The Marshall Tucker Band Release: Released on or after 1970\n",
      "song: Take The Highway, ARTIST: The Marshall Tucker Band Release: Released before 1970\n",
      "song: Gypsy, ARTIST: The Moody Blues Release: Released before 1970\n",
      "song: Question, ARTIST: The Moody Blues Release: Released on or after 1970\n",
      "song: Ride My See Saw, ARTIST: The Moody Blues Release: Released before 1970\n",
      "song: The Story In Your Eyes, ARTIST: The Moody Blues Release: Released on or after 1970\n",
      "song: Your Wildest Dreams, ARTIST: The Moody Blues Release: Released on or after 1970\n",
      "song: Life in the Fast Lane, ARTIST: The New Eagles Release: Released on or after 1970\n",
      "song: Come Out and Play, ARTIST: The Offspring Release: Released on or after 1970\n",
      "song: Self Esteem, ARTIST: The Offspring Release: Released on or after 1970\n",
      "song: The Kids Aren't Alright, ARTIST: The Offspring Release: Released on or after 1970\n",
      "song: Your Love, ARTIST: The Outfield Release: Released on or after 1970\n",
      "song: Green Grass & High Tides, ARTIST: The Outlaws Release: Released on or after 1970\n",
      "song: Can't Stand Losing You, ARTIST: The Police Release: Released on or after 1970\n",
      "song: De Do Do Do, De Da Da Da, ARTIST: The Police Release: Released on or after 1970\n",
      "song: Don't Stand So Close To Me, ARTIST: The Police Release: Released on or after 1970\n",
      "song: Driven to Tears, ARTIST: The Police Release: Released on or after 1970\n",
      "song: Every Breath You Take, ARTIST: The Police Release: Released on or after 1970\n",
      "song: Every Little Thing She Does Is Magic, ARTIST: The Police Release: Released on or after 1970\n",
      "song: Invisible Sun, ARTIST: The Police Release: Released on or after 1970\n",
      "song: King Of Pain, ARTIST: The Police Release: Released on or after 1970\n",
      "song: Message In A Bottle, ARTIST: The Police Release: Released on or after 1970\n",
      "song: Roxanne, ARTIST: The Police Release: Released on or after 1970\n",
      "song: So Lonely, ARTIST: The Police Release: Released on or after 1970\n",
      "song: Spirits In The Material World, ARTIST: The Police Release: Released on or after 1970\n",
      "song: Synchronicity II, ARTIST: The Police Release: Released on or after 1970\n",
      "song: Walking On The Moon, ARTIST: The Police Release: Released on or after 1970\n",
      "song: Wrapped Around Your Finger, ARTIST: The Police Release: Released on or after 1970\n",
      "song: Some Like It Hot, ARTIST: The Power Station Release: Released on or after 1970\n",
      "song: Back On The Chain Gang, ARTIST: The Pretenders Release: Released on or after 1970\n",
      "song: Brass In Pocket, ARTIST: The Pretenders Release: Released on or after 1970\n",
      "song: Don't Get Me Wrong, ARTIST: The Pretenders Release: Released on or after 1970\n",
      "song: Message of Love, ARTIST: The Pretenders Release: Released before 1970\n",
      "song: Middle Of The Road, ARTIST: The Pretenders Release: Released on or after 1970\n",
      "song: My City Was Gone, ARTIST: The Pretenders Release: Released on or after 1970\n",
      "song: Mystery Achievement, ARTIST: The Pretenders Release: Released before 1970\n",
      "song: TALK OF THE TOWN, ARTIST: The Pretenders Release: Released on or after 1970\n",
      "song: Blitzkrieg Bop, ARTIST: The Ramones Release: Released on or after 1970\n",
      "song: Do You Remember Rock 'n' Roll Radio, ARTIST: The Ramones Release: Released on or after 1970\n",
      "song: I Wanna Be Sedated, ARTIST: The Ramones Release: Released on or after 1970\n",
      "song: Rock 'n' Roll High School, ARTIST: The Ramones Release: Released before 1970\n",
      "song: Rockaway Beach, ARTIST: The Ramones Release: Released before 1970\n",
      "song: Teenage Lobotomy, ARTIST: The Ramones Release: Released before 1970\n",
      "song: TALKING IN YOUR SLEEP, ARTIST: The Romantics Release: Released on or after 1970\n",
      "song: What I Like About You, ARTIST: The Romantics Release: Released on or after 1970\n",
      "song: Itchycoo Park, ARTIST: The Small Faces Release: Released before 1970\n",
      "song: A Girl Like You, ARTIST: The Smithereens Release: Released on or after 1970\n",
      "song: I'm A Man, ARTIST: The Spencer Davis Group Release: Released before 1970\n",
      "song: Dirty Water, ARTIST: The Standells Release: Released before 1970\n",
      "song: End of the Line, ARTIST: The Traveling Wilburys Release: Released on or after 1970\n",
      "song: Handle with Care, ARTIST: The Traveling Wilburys Release: Released on or after 1970\n",
      "song: Tweeter and the Monkey Man, ARTIST: The Traveling Wilburys Release: Released before 1970\n",
      "song: She's a Beauty, ARTIST: The Tubes Release: Released on or after 1970\n",
      "song: Talk To Ya Later, ARTIST: The Tubes Release: Released on or after 1970\n",
      "song: One Headlight, ARTIST: The Wallflowers Release: Released on or after 1970\n",
      "song: Seven Nation Army, ARTIST: The White Stripes Release: Released on or after 1970\n",
      "song: 5:15, ARTIST: The Who Release: Released on or after 1970\n",
      "song: ANOTHER TRICKY DAY, ARTIST: The Who Release: Released before 1970\n",
      "song: Athena, ARTIST: The Who Release: Released on or after 1970\n",
      "song: Baba O'Reilly, ARTIST: The Who Release: Released on or after 1970\n",
      "song: Bargain, ARTIST: The Who Release: Released on or after 1970\n",
      "song: Behind Blue Eyes, ARTIST: The Who Release: Released on or after 1970\n",
      "song: Eminence Front, ARTIST: The Who Release: Released on or after 1970\n",
      "song: Getting In Tune, ARTIST: The Who Release: Released before 1970\n",
      "song: Going Mobile, ARTIST: The Who Release: Released on or after 1970\n",
      "song: Happy Jack, ARTIST: The Who Release: Released before 1970\n",
      "song: I Can See For Miles, ARTIST: The Who Release: Released before 1970\n",
      "song: I CAN'T EXPLAIN, ARTIST: The Who Release: Released before 1970\n",
      "song: I'm Free, ARTIST: The Who Release: Released before 1970\n",
      "song: Join Together, ARTIST: The Who Release: Released on or after 1970\n",
      "song: Long Live Rock, ARTIST: The Who Release: Released on or after 1970\n",
      "song: Love Reign O'er Me, ARTIST: The Who Release: Released on or after 1970\n",
      "song: Magic Bus, ARTIST: The Who Release: Released before 1970\n",
      "song: My Generation, ARTIST: The Who Release: Released before 1970\n",
      "song: Pinball Wizard, ARTIST: The Who Release: Released before 1970\n",
      "song: Shakin' All Over, ARTIST: The Who Release: Released before 1970\n",
      "song: Squeeze Box, ARTIST: The Who Release: Released on or after 1970\n",
      "song: Substitute, ARTIST: The Who Release: Released before 1970\n",
      "song: Summertime Blues, ARTIST: The Who Release: Released before 1970\n",
      "song: The Kids Are Alright, ARTIST: The Who Release: Released before 1970\n",
      "song: The Real Me, ARTIST: The Who Release: Released on or after 1970\n",
      "song: THE SEEKER, ARTIST: The Who Release: Released on or after 1970\n",
      "song: THE SONG IS OVER, ARTIST: The Who Release: Released on or after 1970\n",
      "song: We're Not Gonna Take It, ARTIST: The Who Release: Released before 1970\n",
      "song: Who Are You, ARTIST: The Who Release: Released on or after 1970\n",
      "song: Won't Get Fooled Again, ARTIST: The Who Release: Released on or after 1970\n",
      "song: You Better You Bet, ARTIST: The Who Release: Released on or after 1970\n",
      "song: Get Together, ARTIST: The Youngbloods Release: Released on or after 1970\n",
      "song: Jailbreak, ARTIST: Thin Lizzy Release: Released on or after 1970\n",
      "song: The Boys Are Back In Town, ARTIST: Thin Lizzy Release: Released on or after 1970\n",
      "song: The Cowboy Song, ARTIST: Thin Lizzy Release: Released before 1970\n",
      "song: Semi-Charmed Life, ARTIST: Third Eye Blind Release: Released on or after 1970\n",
      "song: Something In the Air, ARTIST: Thunderclap Newman Release: Released before 1970\n",
      "song: Bang the Drum All Day, ARTIST: Todd Rundgren Release: Released on or after 1970\n",
      "song: Hello It's Me, ARTIST: Todd Rundgren Release: Released on or after 1970\n",
      "song: I Saw the Light, ARTIST: Todd Rundgren Release: Released on or after 1970\n",
      "song: We Gotta Get You a Woman, ARTIST: Todd Rundgren Release: Released on or after 1970\n",
      "song: Life Is a Highway, ARTIST: Tom Cochrane Release: Released on or after 1970\n",
      "song: A Face In The Crowd, ARTIST: Tom Petty & The Heartbreakers Release: Released before 1970\n",
      "song: A Woman In Love, ARTIST: Tom Petty & The Heartbreakers Release: Released on or after 1970\n",
      "song: American Dream Plan B, ARTIST: Tom Petty & The Heartbreakers Release: Released before 1970\n",
      "song: American Girl, ARTIST: Tom Petty & The Heartbreakers Release: Released on or after 1970\n",
      "song: Breakdown, ARTIST: Tom Petty & The Heartbreakers Release: Released on or after 1970\n",
      "song: Change of Heart, ARTIST: Tom Petty & The Heartbreakers Release: Released before 1970\n",
      "song: Don't Come Around Here No More, ARTIST: Tom Petty & The Heartbreakers Release: Released on or after 1970\n",
      "song: Don't Do Me Like That, ARTIST: Tom Petty & The Heartbreakers Release: Released on or after 1970\n",
      "song: Even the Losers, ARTIST: Tom Petty & The Heartbreakers Release: Released before 1970\n",
      "song: Fooled Again (I Don't Like It), ARTIST: Tom Petty & The Heartbreakers Release: Released before 1970\n",
      "song: Free Fallin', ARTIST: Tom Petty & The Heartbreakers Release: Released on or after 1970\n",
      "song: Here Comes My Girl, ARTIST: Tom Petty & The Heartbreakers Release: Released on or after 1970\n",
      "song: I Need to Know, ARTIST: Tom Petty & The Heartbreakers Release: Released before 1970\n",
      "song: I Won't Back Down, ARTIST: Tom Petty & The Heartbreakers Release: Released on or after 1970\n",
      "song: Into the Great Wide Open, ARTIST: Tom Petty & The Heartbreakers Release: Released before 1970\n",
      "song: Jammin' Me, ARTIST: Tom Petty & The Heartbreakers Release: Released on or after 1970\n",
      "song: Learning To Fly, ARTIST: Tom Petty & The Heartbreakers Release: Released on or after 1970\n",
      "song: Listen To Your Heart, ARTIST: Tom Petty & The Heartbreakers Release: Released before 1970\n",
      "song: Mary Jane's Last Dance, ARTIST: Tom Petty & The Heartbreakers Release: Released on or after 1970\n",
      "song: Refugee, ARTIST: Tom Petty & The Heartbreakers Release: Released on or after 1970\n",
      "song: Runnin' Down a Dream, ARTIST: Tom Petty & The Heartbreakers Release: Released on or after 1970\n",
      "song: Stop Draggin' My Heart Around, ARTIST: Tom Petty & The Heartbreakers Release: Released on or after 1970\n",
      "song: The Waiting, ARTIST: Tom Petty & The Heartbreakers Release: Released on or after 1970\n",
      "song: U Get Me High, ARTIST: Tom Petty & The Heartbreakers Release: Released before 1970\n",
      "song: Yer So Bad, ARTIST: Tom Petty & The Heartbreakers Release: Released before 1970\n",
      "song: You Don't Know How It Feels, ARTIST: Tom Petty & The Heartbreakers Release: Released on or after 1970\n",
      "song: You Get Me High, ARTIST: Tom Petty & The Heartbreakers Release: Released before 1970\n",
      "song: You Got Lucky, ARTIST: Tom Petty & The Heartbreakers Release: Released on or after 1970\n",
      "song: You Wreck Me, ARTIST: Tom Petty & The Heartbreakers Release: Released on or after 1970\n",
      "song: 867-5309 / Jenny, ARTIST: Tommy Tutone Release: Released on or after 1970\n",
      "song: If You Could Only See, ARTIST: Tonic Release: Released before 1970\n",
      "song: AFRICA, ARTIST: Toto Release: Released on or after 1970\n",
      "song: Hold The Line, ARTIST: Toto Release: Released on or after 1970\n",
      "song: Dear Mr. Fantasy, ARTIST: Traffic Release: Released before 1970\n",
      "song: Empty Pages, ARTIST: Traffic Release: Released before 1970\n",
      "song: Medicated Goo, ARTIST: Traffic Release: Released before 1970\n",
      "song: Medusa, ARTIST: Trapeze Release: Released before 1970\n",
      "song: Fight The Good Fight, ARTIST: Triumph Release: Released before 1970\n",
      "song: Hold On, ARTIST: Triumph Release: Released on or after 1970\n",
      "song: I Can Survive, ARTIST: Triumph Release: Released before 1970\n",
      "song: Lay It On the Line, ARTIST: Triumph Release: Released before 1970\n",
      "song: Magic Power, ARTIST: Triumph Release: Released before 1970\n",
      "song: Happy Together, ARTIST: Turtles Release: Released before 1970\n",
      "song: I Wanna Rock, ARTIST: Twisted Sister Release: Released on or after 1970\n",
      "song: We're Not Gonna Take It, ARTIST: Twisted Sister Release: Released on or after 1970\n",
      "song: Angel Of Harlem, ARTIST: U2 Release: Released on or after 1970\n",
      "song: Bad, ARTIST: U2 Release: Released on or after 1970\n",
      "song: Beautiful Day, ARTIST: U2 Release: Released on or after 1970\n",
      "song: Bullet the Blue Sky, ARTIST: U2 Release: Released on or after 1970\n",
      "song: Desire, ARTIST: U2 Release: Released on or after 1970\n",
      "song: Even Better Than the Real Thing, ARTIST: U2 Release: Released on or after 1970\n",
      "song: I Still Haven't Found What I'm Looking For, ARTIST: U2 Release: Released on or after 1970\n",
      "song: I Will Follow, ARTIST: U2 Release: Released on or after 1970\n",
      "song: MLK/Pride, ARTIST: U2 Release: Released on or after 1970\n",
      "song: Mysterious Ways, ARTIST: U2 Release: Released on or after 1970\n",
      "song: New Year's Day, ARTIST: U2 Release: Released on or after 1970\n",
      "song: One, ARTIST: U2 Release: Released on or after 1970\n",
      "song: Pride (In the Name of Love), ARTIST: U2 Release: Released on or after 1970\n",
      "song: Sunday Bloody Sunday, ARTIST: U2 Release: Released on or after 1970\n",
      "song: Sweetest Thing, ARTIST: U2 Release: Released on or after 1970\n",
      "song: Vertigo, ARTIST: U2 Release: Released on or after 1970\n",
      "song: When Love Comes to Town, ARTIST: U2 Release: Released on or after 1970\n",
      "song: Where the Streets Have No Name, ARTIST: U2 Release: Released on or after 1970\n",
      "song: With Or Without You, ARTIST: U2 Release: Released on or after 1970\n",
      "song: Red Red Wine, ARTIST: UB40 Release: Released on or after 1970\n",
      "song: Lights Out (Live), ARTIST: UFO Release: Released on or after 1970\n",
      "song: Too Hot To Handle, ARTIST: UFO Release: Released before 1970\n",
      "song: Easy Livin', ARTIST: Uriah Heep Release: Released before 1970\n",
      "song: Stealin', ARTIST: Uriah Heep Release: Released on or after 1970\n",
      "song: The Wizard, ARTIST: Uriah Heep Release: Released on or after 1970\n",
      "song: (Oh) Pretty Woman, ARTIST: Van Halen Release: Released on or after 1970\n",
      "song: 1984/jump, ARTIST: Van Halen Release: Released on or after 1970\n",
      "song: Ain't Talkin' 'bout Love, ARTIST: Van Halen Release: Released on or after 1970\n",
      "song: And the Cradle Will Rock..., ARTIST: Van Halen Release: Released on or after 1970\n",
      "song: Atomic Punk, ARTIST: Van Halen Release: Released before 1970\n",
      "song: Beautiful Girls, ARTIST: Van Halen Release: Released on or after 1970\n",
      "song: Best Of Both Worlds, ARTIST: Van Halen Release: Released before 1970\n",
      "song: Black And Blue, ARTIST: Van Halen Release: Released before 1970\n",
      "song: Dance the Night Away, ARTIST: Van Halen Release: Released on or after 1970\n",
      "song: Dancing In the Street, ARTIST: Van Halen Release: Released on or after 1970\n",
      "song: Dreams, ARTIST: Van Halen Release: Released on or after 1970\n",
      "song: Drop Dead Legs, ARTIST: Van Halen Release: Released before 1970\n",
      "song: Eruption - You Really Got Me, ARTIST: Van Halen Release: Released on or after 1970\n",
      "song: Everybody Wants Some!!, ARTIST: Van Halen Release: Released on or after 1970\n",
      "song: Feel Your Love Tonight, ARTIST: Van Halen Release: Released before 1970\n",
      "song: Feels So Good, ARTIST: Van Halen Release: Released before 1970\n",
      "song: Finish What Ya Started, ARTIST: Van Halen Release: Released before 1970\n",
      "song: Hot for Teacher, ARTIST: Van Halen Release: Released on or after 1970\n",
      "song: I'll Wait, ARTIST: Van Halen Release: Released before 1970\n",
      "song: I'm the One, ARTIST: Van Halen Release: Released on or after 1970\n",
      "song: Ice Cream Man, ARTIST: Van Halen Release: Released on or after 1970\n",
      "song: Intruder/ Pretty Woman, ARTIST: Van Halen Release: Released before 1970\n",
      "song: Jamie's Cryin', ARTIST: Van Halen Release: Released on or after 1970\n",
      "song: Jump, ARTIST: Van Halen Release: Released on or after 1970\n",
      "song: Little Dreamer, ARTIST: Van Halen Release: Released before 1970\n",
      "song: Little Guitars, ARTIST: Van Halen Release: Released on or after 1970\n",
      "song: Love Walks In, ARTIST: Van Halen Release: Released on or after 1970\n",
      "song: Mean Street, ARTIST: Van Halen Release: Released before 1970\n",
      "song: Panama, ARTIST: Van Halen Release: Released on or after 1970\n",
      "song: Poundcake, ARTIST: Van Halen Release: Released on or after 1970\n",
      "song: PRETTY WOMAN, ARTIST: Van Halen Release: Released before 1970\n",
      "song: Right Now, ARTIST: Van Halen Release: Released on or after 1970\n",
      "song: Runaround, ARTIST: Van Halen Release: Released before 1970\n",
      "song: Runnin' with the Devil, ARTIST: Van Halen Release: Released on or after 1970\n",
      "song: Somebody Get Me A Doctor, ARTIST: Van Halen Release: Released before 1970\n",
      "song: Summer Nights, ARTIST: Van Halen Release: Released on or after 1970\n",
      "song: Take Your Whiskey Home, ARTIST: Van Halen Release: Released before 1970\n",
      "song: Top Jimmy, ARTIST: Van Halen Release: Released before 1970\n",
      "song: Top of the World, ARTIST: Van Halen Release: Released before 1970\n",
      "song: Unchained, ARTIST: Van Halen Release: Released on or after 1970\n",
      "song: When It's Love, ARTIST: Van Halen Release: Released on or after 1970\n",
      "song: Where Have All the Good Times Gone!, ARTIST: Van Halen Release: Released on or after 1970\n",
      "song: Why Can't This Be Love, ARTIST: Van Halen Release: Released on or after 1970\n",
      "song: You Really Got Me, ARTIST: Van Halen Release: Released on or after 1970\n",
      "song: And It Stoned Me, ARTIST: Van Morrison Release: Released before 1970\n",
      "song: BLUE MONEY, ARTIST: Van Morrison Release: Released before 1970\n",
      "song: Brown Eyed Girl, ARTIST: Van Morrison Release: Released before 1970\n",
      "song: CRAZY LOVE, ARTIST: Van Morrison Release: Released on or after 1970\n",
      "song: Domino, ARTIST: Van Morrison Release: Released on or after 1970\n",
      "song: Gloria, ARTIST: Van Morrison Release: Released before 1970\n",
      "song: Into The Mystic, ARTIST: Van Morrison Release: Released on or after 1970\n",
      "song: Jackie Wilson Said, ARTIST: Van Morrison Release: Released before 1970\n",
      "song: Moondance, ARTIST: Van Morrison Release: Released on or after 1970\n",
      "song: Wild Night, ARTIST: Van Morrison Release: Released on or after 1970\n",
      "song: Blister In the Sun, ARTIST: Violent Femmes Release: Released on or after 1970\n",
      "song: Edge of a Broken Heart, ARTIST: Vixen Release: Released before 1970\n",
      "song: Low Rider, ARTIST: War Release: Released on or after 1970\n",
      "song: Spill the Wine, ARTIST: War Release: Released on or after 1970\n",
      "song: The Cisco Kid, ARTIST: War Release: Released on or after 1970\n",
      "song: Why Can't We Be Friends, ARTIST: War Release: Released on or after 1970\n",
      "song: Cherry Pie, ARTIST: Warrant Release: Released on or after 1970\n",
      "song: Uncle Tom's Cabin, ARTIST: Warrant Release: Released before 1970\n",
      "song: Lawyers, Guns and Money, ARTIST: Warren Zevon Release: Released on or after 1970\n",
      "song: Werewolves of London, ARTIST: Warren Zevon Release: Released on or after 1970\n",
      "song: Buddy Holly, ARTIST: Weezer Release: Released on or after 1970\n",
      "song: Street Corner Serenade, ARTIST: Wet Willie Release: Released before 1970\n",
      "song: Wait, ARTIST: White Lion Release: Released before 1970\n",
      "song: Fool for Your Loving, ARTIST: Whitesnake Release: Released on or after 1970\n",
      "song: Here I Go Again, ARTIST: Whitesnake Release: Released on or after 1970\n",
      "song: Is This Love, ARTIST: Whitesnake Release: Released on or after 1970\n",
      "song: Slide It In, ARTIST: Whitesnake Release: Released on or after 1970\n",
      "song: Slow An' Easy, ARTIST: Whitesnake Release: Released before 1970\n",
      "song: Still of the Night, ARTIST: Whitesnake Release: Released before 1970\n",
      "song: Who Are You?, ARTIST: Why Not Release: Released before 1970\n",
      "song: PLAY THAT FUNKY MUSIC, ARTIST: Wild Cherry Release: Released on or after 1970\n",
      "song: Night Moves, ARTIST: Wildlife Release: Released before 1970\n",
      "song: We've Got Tonight, ARTIST: Wildlife Release: Released before 1970\n",
      "song: Can't Get Enough, ARTIST: Winger Release: Released before 1970\n",
      "song: Headed For A Heartbreak, ARTIST: Winger Release: Released before 1970\n",
      "song: Seventeen, ARTIST: Winger Release: Released before 1970\n",
      "song: Persephone, ARTIST: Wishbone Ash Release: Released on or after 1970\n",
      "song: Summertime Girls, ARTIST: Y&T Release: Released before 1970\n",
      "song: Changes, ARTIST: Yes Release: Released on or after 1970\n",
      "song: I've Seen All Good People, ARTIST: Yes Release: Released on or after 1970\n",
      "song: It Can Happen, ARTIST: Yes Release: Released on or after 1970\n",
      "song: Leave It, ARTIST: Yes Release: Released on or after 1970\n",
      "song: Long Distance Runaround, ARTIST: Yes Release: Released on or after 1970\n",
      "song: Owner of a Lonely Heart, ARTIST: Yes Release: Released on or after 1970\n",
      "song: Roundabout, ARTIST: Yes Release: Released on or after 1970\n",
      "song: Starship Trooper, ARTIST: Yes Release: Released on or after 1970\n",
      "song: Wonderous Stories, ARTIST: Yes Release: Released before 1970\n",
      "song: Yours Is No Disgrace, ARTIST: Yes Release: Released on or after 1970\n",
      "song: Tell Me What You Want, ARTIST: Zebra Release: Released before 1970\n",
      "song: Who's Behind The Door, ARTIST: Zebra Release: Released before 1970\n",
      "song: Time of the Season, ARTIST: Zombies Release: Released before 1970\n",
      "song: A Fool for Your Stockings, ARTIST: ZZ Top Release: Released before 1970\n",
      "song: Arrested For Driving While Blind, ARTIST: ZZ Top Release: Released on or after 1970\n",
      "song: Beer Drinkers & Hell Raisers, ARTIST: ZZ Top Release: Released on or after 1970\n",
      "song: Cheap Sunglasses, ARTIST: ZZ Top Release: Released on or after 1970\n",
      "song: Gimme All Your Lovin, ARTIST: ZZ Top Release: Released on or after 1970\n",
      "song: Got Me Under Pressure, ARTIST: ZZ Top Release: Released on or after 1970\n",
      "song: Heard It On the X, ARTIST: ZZ Top Release: Released on or after 1970\n",
      "song: I Thank You, ARTIST: ZZ Top Release: Released before 1970\n",
      "song: I'm Bad, I'm Nationwide, ARTIST: ZZ Top Release: Released before 1970\n",
      "song: Jesus Just Left Chicago, ARTIST: ZZ Top Release: Released on or after 1970\n",
      "song: Just Got Paid, ARTIST: ZZ Top Release: Released before 1970\n",
      "song: La Grange, ARTIST: ZZ Top Release: Released on or after 1970\n",
      "song: Legs, ARTIST: ZZ Top Release: Released on or after 1970\n",
      "song: My Head's In Mississippi, ARTIST: ZZ Top Release: Released before 1970\n",
      "song: Party On The Patio, ARTIST: ZZ Top Release: Released before 1970\n",
      "song: Pearl Necklace, ARTIST: ZZ Top Release: Released on or after 1970\n",
      "song: Sharp Dressed Man, ARTIST: ZZ Top Release: Released on or after 1970\n",
      "song: She Loves My Automobile, ARTIST: ZZ Top Release: Released before 1970\n",
      "song: Tube Snake Boogie, ARTIST: ZZ Top Release: Released on or after 1970\n",
      "song: Tush, ARTIST: ZZ Top Release: Released on or after 1970\n",
      "song: TV Dinners, ARTIST: ZZ Top Release: Released on or after 1970\n",
      "song: WAITIN' FOR THE BUS/JESUS JUST LEFT CHICAGO, ARTIST: ZZ Top Release: Released on or after 1970\n"
     ]
    },
    {
     "data": {
      "text/plain": [
       "0       None\n",
       "1       None\n",
       "2       None\n",
       "3       None\n",
       "4       None\n",
       "        ... \n",
       "2224    None\n",
       "2225    None\n",
       "2226    None\n",
       "2227    None\n",
       "2228    None\n",
       "Length: 2229, dtype: object"
      ]
     },
     "execution_count": 35,
     "metadata": {},
     "output_type": "execute_result"
    }
   ],
   "source": [
    "rock['Release Year'].replace({'SONGFACTS.COM': np.nan}, inplace=True)\n",
    "rock['Release Year'] = rock['Release Year'].astype('float64')\n",
    "rock.apply(pr_row, axis=1)\n"
   ]
  },
  {
   "cell_type": "markdown",
   "metadata": {
    "colab_type": "text",
    "id": "tk1XfgtkVppj"
   },
   "source": [
    "## Write a function that converts cells in a DataFrame to float and otherwise replaces them with np.nan"
   ]
  },
  {
   "cell_type": "code",
   "execution_count": 52,
   "metadata": {},
   "outputs": [],
   "source": [
    "def to_float(row, cols):\n",
    "    for col in cols:\n",
    "        try:\n",
    "            row[col] = float(row[col])\n",
    "        except ValueError:\n",
    "            #print(f'{row[col]} cannot be converted to float. Assigning np.nan')\n",
    "            row[col] = np.nan\n",
    "    return row\n",
    "    rockl_new = rock.apply(to_float, axis=1, args=(rock.columns,))\n",
    "    \n",
    "    rockl_new.dtypes"
   ]
  },
  {
   "cell_type": "markdown",
   "metadata": {
    "colab_type": "text",
    "id": "EEIsPER2Vppj"
   },
   "source": [
    "## Apply these functions to your dataset"
   ]
  },
  {
   "cell_type": "code",
   "execution_count": 54,
   "metadata": {},
   "outputs": [],
   "source": [
    "rockl_new = rock.apply(to_float, axis=1, args=(rock.columns,))"
   ]
  },
  {
   "cell_type": "markdown",
   "metadata": {
    "colab_type": "text",
    "id": "Jz86dxCFVppk"
   },
   "source": [
    "## Describe the new float-only DataFrame."
   ]
  },
  {
   "cell_type": "code",
   "execution_count": 55,
   "metadata": {},
   "outputs": [
    {
     "data": {
      "text/plain": [
       "Song Clean      float64\n",
       "ARTIST CLEAN    float64\n",
       "Release Year    float64\n",
       "COMBINED        float64\n",
       "First?          float64\n",
       "Year?           float64\n",
       "PlayCount       float64\n",
       "F*G             float64\n",
       "dtype: object"
      ]
     },
     "execution_count": 55,
     "metadata": {},
     "output_type": "execute_result"
    }
   ],
   "source": [
    "rockl_new.dtypes"
   ]
  },
  {
   "cell_type": "markdown",
   "metadata": {
    "colab_type": "text",
    "id": "w2asO3_lDFm8"
   },
   "source": [
    ">\n"
   ]
  },
  {
   "cell_type": "markdown",
   "metadata": {
    "colab_type": "text",
    "id": "MlasiTKgDGdA"
   },
   "source": [
    "\n",
    "\n",
    "---\n",
    "\n",
    "\n",
    "\n",
    "---\n",
    "\n",
    "\n",
    "\n",
    "> > > > > > > > > © 2021 Institute of Data\n",
    "\n",
    "\n",
    "---\n",
    "\n",
    "\n",
    "\n",
    "---\n",
    "\n",
    "\n",
    "\n"
   ]
  }
 ],
 "metadata": {
  "colab": {
   "collapsed_sections": [
    "Q0G5PtA2NQtC",
    "pTkOz1KsNQtK",
    "jS7P3oXQNQtL",
    "kGgcXCzyNQtN",
    "CaWhHAk9NQtQ",
    "ppLnAmKVNQtQ",
    "Kmjox61xNQtW",
    "JZhJ9-XrNQt8",
    "peDZrNJjNQt-",
    "OyKKjxJoNQuB",
    "EJnCB_bqNQuF"
   ],
   "name": "IOD_Lab 3.1.1.ipynb",
   "provenance": []
  },
  "kernelspec": {
   "display_name": "Python 3",
   "language": "python",
   "name": "python3"
  },
  "language_info": {
   "codemirror_mode": {
    "name": "ipython",
    "version": 3
   },
   "file_extension": ".py",
   "mimetype": "text/x-python",
   "name": "python",
   "nbconvert_exporter": "python",
   "pygments_lexer": "ipython3",
   "version": "3.8.8"
  },
  "varInspector": {
   "cols": {
    "lenName": 16,
    "lenType": 16,
    "lenVar": 40
   },
   "kernels_config": {
    "python": {
     "delete_cmd_postfix": "",
     "delete_cmd_prefix": "del ",
     "library": "var_list.py",
     "varRefreshCmd": "print(var_dic_list())"
    },
    "r": {
     "delete_cmd_postfix": ") ",
     "delete_cmd_prefix": "rm(",
     "library": "var_list.r",
     "varRefreshCmd": "cat(var_dic_list()) "
    }
   },
   "types_to_exclude": [
    "module",
    "function",
    "builtin_function_or_method",
    "instance",
    "_Feature"
   ],
   "window_display": false
  }
 },
 "nbformat": 4,
 "nbformat_minor": 1
}

{
 "cells": [
  {
   "cell_type": "markdown",
   "metadata": {
    "colab_type": "text",
    "id": "jZSSKjAWXd3j"
   },
   "source": [
    "<div>\n",
    "<img src=https://www.institutedata.com/wp-content/uploads/2019/10/iod_h_tp_primary_c.svg width=\"300\">\n",
    "</div>"
   ]
  },
  {
   "cell_type": "markdown",
   "metadata": {
    "colab_type": "text",
    "id": "2Ms9riXMXd3k"
   },
   "source": [
    "# Mini Project 1"
   ]
  },
  {
   "cell_type": "markdown",
   "metadata": {
    "colab_type": "text",
    "id": "twocr7v8Xd3l"
   },
   "source": [
    "## Prediction of Consumer Price Index of Australia"
   ]
  },
  {
   "cell_type": "markdown",
   "metadata": {
    "colab_type": "text",
    "id": "0j3ZiTCPXd3m"
   },
   "source": [
    "### Data\n",
    "\n",
    "The Consumer Price Index (CPI) measures household inflation and includes statistics about price change for categories of household expenditure.The CPI data caputured from Australian bureau of statistics (ABS) and contains data from September 1948"
   ]
  },
  {
   "cell_type": "code",
   "execution_count": 1,
   "metadata": {
    "colab": {},
    "colab_type": "code",
    "id": "hejYh49cXd3n"
   },
   "outputs": [],
   "source": [
    "import pandas as pd\n",
    "import numpy as np\n",
    "import pandas as pd\n",
    "import matplotlib.pyplot as plt\n",
    "import seaborn as sns\n"
   ]
  },
  {
   "cell_type": "markdown",
   "metadata": {
    "colab_type": "text",
    "id": "BlumKNPDXd3q"
   },
   "source": [
    "### 1. Explore Data"
   ]
  },
  {
   "cell_type": "markdown",
   "metadata": {
    "colab_type": "text",
    "id": "h1FUHCAnXd3r"
   },
   "source": [
    "Perform EDA on this dataset. "
   ]
  },
  {
   "cell_type": "code",
   "execution_count": 2,
   "metadata": {
    "colab": {},
    "colab_type": "code",
    "id": "C8BX-oTKXd3s",
    "scrolled": true
   },
   "outputs": [
    {
     "data": {
      "text/html": [
       "<div>\n",
       "<style scoped>\n",
       "    .dataframe tbody tr th:only-of-type {\n",
       "        vertical-align: middle;\n",
       "    }\n",
       "\n",
       "    .dataframe tbody tr th {\n",
       "        vertical-align: top;\n",
       "    }\n",
       "\n",
       "    .dataframe thead th {\n",
       "        text-align: right;\n",
       "    }\n",
       "</style>\n",
       "<table border=\"1\" class=\"dataframe\">\n",
       "  <thead>\n",
       "    <tr style=\"text-align: right;\">\n",
       "      <th></th>\n",
       "      <th>Quarter</th>\n",
       "      <th>Sydney</th>\n",
       "      <th>Melbourne</th>\n",
       "      <th>Brisbane</th>\n",
       "      <th>Adelaide</th>\n",
       "      <th>Perth</th>\n",
       "      <th>Hobart</th>\n",
       "      <th>Darwin</th>\n",
       "      <th>Canberra</th>\n",
       "      <th>Australia</th>\n",
       "    </tr>\n",
       "  </thead>\n",
       "  <tbody>\n",
       "    <tr>\n",
       "      <th>0</th>\n",
       "      <td>1/09/1948</td>\n",
       "      <td>3.7</td>\n",
       "      <td>3.8</td>\n",
       "      <td>3.7</td>\n",
       "      <td>3.8</td>\n",
       "      <td>3.7</td>\n",
       "      <td>3.8</td>\n",
       "      <td>3.9</td>\n",
       "      <td>3.9</td>\n",
       "      <td>3.7</td>\n",
       "    </tr>\n",
       "    <tr>\n",
       "      <th>1</th>\n",
       "      <td>1/12/1948</td>\n",
       "      <td>3.7</td>\n",
       "      <td>3.8</td>\n",
       "      <td>3.7</td>\n",
       "      <td>3.9</td>\n",
       "      <td>3.8</td>\n",
       "      <td>3.9</td>\n",
       "      <td>4.1</td>\n",
       "      <td>4.1</td>\n",
       "      <td>3.8</td>\n",
       "    </tr>\n",
       "    <tr>\n",
       "      <th>2</th>\n",
       "      <td>1/03/1949</td>\n",
       "      <td>3.9</td>\n",
       "      <td>3.9</td>\n",
       "      <td>3.8</td>\n",
       "      <td>4.0</td>\n",
       "      <td>3.9</td>\n",
       "      <td>4.0</td>\n",
       "      <td>4.1</td>\n",
       "      <td>4.1</td>\n",
       "      <td>3.9</td>\n",
       "    </tr>\n",
       "    <tr>\n",
       "      <th>3</th>\n",
       "      <td>1/06/1949</td>\n",
       "      <td>3.9</td>\n",
       "      <td>4.0</td>\n",
       "      <td>3.9</td>\n",
       "      <td>4.0</td>\n",
       "      <td>4.0</td>\n",
       "      <td>4.1</td>\n",
       "      <td>4.2</td>\n",
       "      <td>4.2</td>\n",
       "      <td>4.0</td>\n",
       "    </tr>\n",
       "    <tr>\n",
       "      <th>4</th>\n",
       "      <td>1/09/1949</td>\n",
       "      <td>4.0</td>\n",
       "      <td>4.1</td>\n",
       "      <td>4.0</td>\n",
       "      <td>4.1</td>\n",
       "      <td>4.1</td>\n",
       "      <td>4.1</td>\n",
       "      <td>4.3</td>\n",
       "      <td>4.3</td>\n",
       "      <td>4.1</td>\n",
       "    </tr>\n",
       "  </tbody>\n",
       "</table>\n",
       "</div>"
      ],
      "text/plain": [
       "     Quarter  Sydney  Melbourne  Brisbane  Adelaide  Perth  Hobart  Darwin  \\\n",
       "0  1/09/1948     3.7        3.8       3.7       3.8    3.7     3.8     3.9   \n",
       "1  1/12/1948     3.7        3.8       3.7       3.9    3.8     3.9     4.1   \n",
       "2  1/03/1949     3.9        3.9       3.8       4.0    3.9     4.0     4.1   \n",
       "3  1/06/1949     3.9        4.0       3.9       4.0    4.0     4.1     4.2   \n",
       "4  1/09/1949     4.0        4.1       4.0       4.1    4.1     4.1     4.3   \n",
       "\n",
       "   Canberra  Australia  \n",
       "0       3.9        3.7  \n",
       "1       4.1        3.8  \n",
       "2       4.1        3.9  \n",
       "3       4.2        4.0  \n",
       "4       4.3        4.1  "
      ]
     },
     "execution_count": 2,
     "metadata": {},
     "output_type": "execute_result"
    }
   ],
   "source": [
    "# Read CSV first 5 rows\n",
    "cpi = pd.read_csv ('CPIv0.1.csv')\n",
    "cpi.head()"
   ]
  },
  {
   "cell_type": "code",
   "execution_count": 6,
   "metadata": {
    "scrolled": true
   },
   "outputs": [
    {
     "data": {
      "text/html": [
       "<div>\n",
       "<style scoped>\n",
       "    .dataframe tbody tr th:only-of-type {\n",
       "        vertical-align: middle;\n",
       "    }\n",
       "\n",
       "    .dataframe tbody tr th {\n",
       "        vertical-align: top;\n",
       "    }\n",
       "\n",
       "    .dataframe thead th {\n",
       "        text-align: right;\n",
       "    }\n",
       "</style>\n",
       "<table border=\"1\" class=\"dataframe\">\n",
       "  <thead>\n",
       "    <tr style=\"text-align: right;\">\n",
       "      <th></th>\n",
       "      <th>Quarter</th>\n",
       "      <th>Sydney</th>\n",
       "      <th>Melbourne</th>\n",
       "      <th>Brisbane</th>\n",
       "      <th>Adelaide</th>\n",
       "      <th>Perth</th>\n",
       "      <th>Hobart</th>\n",
       "      <th>Darwin</th>\n",
       "      <th>Canberra</th>\n",
       "      <th>Australia</th>\n",
       "    </tr>\n",
       "  </thead>\n",
       "  <tbody>\n",
       "    <tr>\n",
       "      <th>287</th>\n",
       "      <td>1/06/2020</td>\n",
       "      <td>114.7</td>\n",
       "      <td>115.7</td>\n",
       "      <td>113.6</td>\n",
       "      <td>114.6</td>\n",
       "      <td>112.1</td>\n",
       "      <td>115.6</td>\n",
       "      <td>109.0</td>\n",
       "      <td>112.8</td>\n",
       "      <td>114.4</td>\n",
       "    </tr>\n",
       "    <tr>\n",
       "      <th>288</th>\n",
       "      <td>1/09/2020</td>\n",
       "      <td>116.8</td>\n",
       "      <td>116.7</td>\n",
       "      <td>116.2</td>\n",
       "      <td>115.7</td>\n",
       "      <td>114.1</td>\n",
       "      <td>116.7</td>\n",
       "      <td>110.8</td>\n",
       "      <td>115.4</td>\n",
       "      <td>116.2</td>\n",
       "    </tr>\n",
       "    <tr>\n",
       "      <th>289</th>\n",
       "      <td>1/12/2020</td>\n",
       "      <td>118.0</td>\n",
       "      <td>118.4</td>\n",
       "      <td>117.5</td>\n",
       "      <td>116.5</td>\n",
       "      <td>113.0</td>\n",
       "      <td>117.6</td>\n",
       "      <td>111.5</td>\n",
       "      <td>116.3</td>\n",
       "      <td>117.2</td>\n",
       "    </tr>\n",
       "    <tr>\n",
       "      <th>290</th>\n",
       "      <td>1/03/2021</td>\n",
       "      <td>118.5</td>\n",
       "      <td>118.8</td>\n",
       "      <td>118.2</td>\n",
       "      <td>117.2</td>\n",
       "      <td>114.6</td>\n",
       "      <td>118.5</td>\n",
       "      <td>114.4</td>\n",
       "      <td>117.3</td>\n",
       "      <td>117.9</td>\n",
       "    </tr>\n",
       "    <tr>\n",
       "      <th>291</th>\n",
       "      <td>1/06/2021</td>\n",
       "      <td>119.4</td>\n",
       "      <td>119.1</td>\n",
       "      <td>119.2</td>\n",
       "      <td>117.8</td>\n",
       "      <td>116.8</td>\n",
       "      <td>119.8</td>\n",
       "      <td>115.6</td>\n",
       "      <td>118.2</td>\n",
       "      <td>118.8</td>\n",
       "    </tr>\n",
       "  </tbody>\n",
       "</table>\n",
       "</div>"
      ],
      "text/plain": [
       "       Quarter  Sydney  Melbourne  Brisbane  Adelaide  Perth  Hobart  Darwin  \\\n",
       "287  1/06/2020   114.7      115.7     113.6     114.6  112.1   115.6   109.0   \n",
       "288  1/09/2020   116.8      116.7     116.2     115.7  114.1   116.7   110.8   \n",
       "289  1/12/2020   118.0      118.4     117.5     116.5  113.0   117.6   111.5   \n",
       "290  1/03/2021   118.5      118.8     118.2     117.2  114.6   118.5   114.4   \n",
       "291  1/06/2021   119.4      119.1     119.2     117.8  116.8   119.8   115.6   \n",
       "\n",
       "     Canberra  Australia  \n",
       "287     112.8      114.4  \n",
       "288     115.4      116.2  \n",
       "289     116.3      117.2  \n",
       "290     117.3      117.9  \n",
       "291     118.2      118.8  "
      ]
     },
     "execution_count": 6,
     "metadata": {},
     "output_type": "execute_result"
    }
   ],
   "source": [
    "# Read CSV last 5 rows\n",
    "cpi.tail()"
   ]
  },
  {
   "cell_type": "code",
   "execution_count": 7,
   "metadata": {
    "scrolled": true
   },
   "outputs": [
    {
     "data": {
      "text/plain": [
       "(292, 10)"
      ]
     },
     "execution_count": 7,
     "metadata": {},
     "output_type": "execute_result"
    }
   ],
   "source": [
    "# Read CSV to identify the no. of rows and columns\n",
    "cpi.shape"
   ]
  },
  {
   "cell_type": "code",
   "execution_count": 3,
   "metadata": {
    "scrolled": true
   },
   "outputs": [
    {
     "name": "stdout",
     "output_type": "stream",
     "text": [
      "<class 'pandas.core.frame.DataFrame'>\n",
      "RangeIndex: 292 entries, 0 to 291\n",
      "Data columns (total 10 columns):\n",
      " #   Column     Non-Null Count  Dtype  \n",
      "---  ------     --------------  -----  \n",
      " 0   Quarter    292 non-null    object \n",
      " 1   Sydney     292 non-null    float64\n",
      " 2   Melbourne  292 non-null    float64\n",
      " 3   Brisbane   292 non-null    float64\n",
      " 4   Adelaide   292 non-null    float64\n",
      " 5   Perth      292 non-null    float64\n",
      " 6   Hobart     292 non-null    float64\n",
      " 7   Darwin     292 non-null    float64\n",
      " 8   Canberra   292 non-null    float64\n",
      " 9   Australia  292 non-null    float64\n",
      "dtypes: float64(9), object(1)\n",
      "memory usage: 22.9+ KB\n"
     ]
    }
   ],
   "source": [
    "# Read CSV to identify the data types\n",
    "cpi.info()"
   ]
  },
  {
   "cell_type": "code",
   "execution_count": 4,
   "metadata": {
    "scrolled": false
   },
   "outputs": [
    {
     "data": {
      "text/html": [
       "<div>\n",
       "<style scoped>\n",
       "    .dataframe tbody tr th:only-of-type {\n",
       "        vertical-align: middle;\n",
       "    }\n",
       "\n",
       "    .dataframe tbody tr th {\n",
       "        vertical-align: top;\n",
       "    }\n",
       "\n",
       "    .dataframe thead th {\n",
       "        text-align: right;\n",
       "    }\n",
       "</style>\n",
       "<table border=\"1\" class=\"dataframe\">\n",
       "  <thead>\n",
       "    <tr style=\"text-align: right;\">\n",
       "      <th></th>\n",
       "      <th>Sydney</th>\n",
       "      <th>Melbourne</th>\n",
       "      <th>Brisbane</th>\n",
       "      <th>Adelaide</th>\n",
       "      <th>Perth</th>\n",
       "      <th>Hobart</th>\n",
       "      <th>Darwin</th>\n",
       "      <th>Canberra</th>\n",
       "      <th>Australia</th>\n",
       "    </tr>\n",
       "  </thead>\n",
       "  <tbody>\n",
       "    <tr>\n",
       "      <th>count</th>\n",
       "      <td>292.000000</td>\n",
       "      <td>292.000000</td>\n",
       "      <td>292.000000</td>\n",
       "      <td>292.000000</td>\n",
       "      <td>292.000000</td>\n",
       "      <td>292.000000</td>\n",
       "      <td>292.000000</td>\n",
       "      <td>292.000000</td>\n",
       "      <td>292.000000</td>\n",
       "    </tr>\n",
       "    <tr>\n",
       "      <th>mean</th>\n",
       "      <td>46.666781</td>\n",
       "      <td>46.907877</td>\n",
       "      <td>46.018493</td>\n",
       "      <td>46.257877</td>\n",
       "      <td>46.169521</td>\n",
       "      <td>46.853082</td>\n",
       "      <td>46.957877</td>\n",
       "      <td>46.570205</td>\n",
       "      <td>46.550342</td>\n",
       "    </tr>\n",
       "    <tr>\n",
       "      <th>std</th>\n",
       "      <td>38.081718</td>\n",
       "      <td>37.954505</td>\n",
       "      <td>37.666495</td>\n",
       "      <td>37.684170</td>\n",
       "      <td>37.400967</td>\n",
       "      <td>37.579791</td>\n",
       "      <td>37.383572</td>\n",
       "      <td>37.422287</td>\n",
       "      <td>37.849270</td>\n",
       "    </tr>\n",
       "    <tr>\n",
       "      <th>min</th>\n",
       "      <td>3.700000</td>\n",
       "      <td>3.800000</td>\n",
       "      <td>3.700000</td>\n",
       "      <td>3.800000</td>\n",
       "      <td>3.700000</td>\n",
       "      <td>3.800000</td>\n",
       "      <td>3.900000</td>\n",
       "      <td>3.900000</td>\n",
       "      <td>3.700000</td>\n",
       "    </tr>\n",
       "    <tr>\n",
       "      <th>25%</th>\n",
       "      <td>8.500000</td>\n",
       "      <td>8.900000</td>\n",
       "      <td>8.775000</td>\n",
       "      <td>8.675000</td>\n",
       "      <td>8.775000</td>\n",
       "      <td>9.000000</td>\n",
       "      <td>9.000000</td>\n",
       "      <td>9.000000</td>\n",
       "      <td>8.675000</td>\n",
       "    </tr>\n",
       "    <tr>\n",
       "      <th>50%</th>\n",
       "      <td>37.350000</td>\n",
       "      <td>38.150000</td>\n",
       "      <td>37.350000</td>\n",
       "      <td>37.450000</td>\n",
       "      <td>37.500000</td>\n",
       "      <td>38.500000</td>\n",
       "      <td>40.100000</td>\n",
       "      <td>38.400000</td>\n",
       "      <td>37.650000</td>\n",
       "    </tr>\n",
       "    <tr>\n",
       "      <th>75%</th>\n",
       "      <td>79.400000</td>\n",
       "      <td>79.600000</td>\n",
       "      <td>76.700000</td>\n",
       "      <td>78.625000</td>\n",
       "      <td>76.525000</td>\n",
       "      <td>78.725000</td>\n",
       "      <td>77.750000</td>\n",
       "      <td>78.100000</td>\n",
       "      <td>78.600000</td>\n",
       "    </tr>\n",
       "    <tr>\n",
       "      <th>max</th>\n",
       "      <td>119.400000</td>\n",
       "      <td>119.100000</td>\n",
       "      <td>119.200000</td>\n",
       "      <td>117.800000</td>\n",
       "      <td>116.800000</td>\n",
       "      <td>119.800000</td>\n",
       "      <td>115.600000</td>\n",
       "      <td>118.200000</td>\n",
       "      <td>118.800000</td>\n",
       "    </tr>\n",
       "  </tbody>\n",
       "</table>\n",
       "</div>"
      ],
      "text/plain": [
       "           Sydney   Melbourne    Brisbane    Adelaide       Perth      Hobart  \\\n",
       "count  292.000000  292.000000  292.000000  292.000000  292.000000  292.000000   \n",
       "mean    46.666781   46.907877   46.018493   46.257877   46.169521   46.853082   \n",
       "std     38.081718   37.954505   37.666495   37.684170   37.400967   37.579791   \n",
       "min      3.700000    3.800000    3.700000    3.800000    3.700000    3.800000   \n",
       "25%      8.500000    8.900000    8.775000    8.675000    8.775000    9.000000   \n",
       "50%     37.350000   38.150000   37.350000   37.450000   37.500000   38.500000   \n",
       "75%     79.400000   79.600000   76.700000   78.625000   76.525000   78.725000   \n",
       "max    119.400000  119.100000  119.200000  117.800000  116.800000  119.800000   \n",
       "\n",
       "           Darwin    Canberra   Australia  \n",
       "count  292.000000  292.000000  292.000000  \n",
       "mean    46.957877   46.570205   46.550342  \n",
       "std     37.383572   37.422287   37.849270  \n",
       "min      3.900000    3.900000    3.700000  \n",
       "25%      9.000000    9.000000    8.675000  \n",
       "50%     40.100000   38.400000   37.650000  \n",
       "75%     77.750000   78.100000   78.600000  \n",
       "max    115.600000  118.200000  118.800000  "
      ]
     },
     "execution_count": 4,
     "metadata": {},
     "output_type": "execute_result"
    }
   ],
   "source": [
    "# Read CSV to identify the statistical data like percentile, mean and std of DataFrames\n",
    "cpi.describe()"
   ]
  },
  {
   "cell_type": "code",
   "execution_count": 5,
   "metadata": {
    "scrolled": true
   },
   "outputs": [
    {
     "data": {
      "text/html": [
       "<div>\n",
       "<style scoped>\n",
       "    .dataframe tbody tr th:only-of-type {\n",
       "        vertical-align: middle;\n",
       "    }\n",
       "\n",
       "    .dataframe tbody tr th {\n",
       "        vertical-align: top;\n",
       "    }\n",
       "\n",
       "    .dataframe thead th {\n",
       "        text-align: right;\n",
       "    }\n",
       "</style>\n",
       "<table border=\"1\" class=\"dataframe\">\n",
       "  <thead>\n",
       "    <tr style=\"text-align: right;\">\n",
       "      <th></th>\n",
       "      <th>Quarter</th>\n",
       "      <th>Sydney</th>\n",
       "      <th>Melbourne</th>\n",
       "      <th>Brisbane</th>\n",
       "      <th>Adelaide</th>\n",
       "      <th>Perth</th>\n",
       "      <th>Hobart</th>\n",
       "      <th>Darwin</th>\n",
       "      <th>Canberra</th>\n",
       "    </tr>\n",
       "  </thead>\n",
       "  <tbody>\n",
       "    <tr>\n",
       "      <th>0</th>\n",
       "      <td>1/09/1948</td>\n",
       "      <td>3.7</td>\n",
       "      <td>3.8</td>\n",
       "      <td>3.7</td>\n",
       "      <td>3.8</td>\n",
       "      <td>3.7</td>\n",
       "      <td>3.8</td>\n",
       "      <td>3.9</td>\n",
       "      <td>3.9</td>\n",
       "    </tr>\n",
       "    <tr>\n",
       "      <th>1</th>\n",
       "      <td>1/12/1948</td>\n",
       "      <td>3.7</td>\n",
       "      <td>3.8</td>\n",
       "      <td>3.7</td>\n",
       "      <td>3.9</td>\n",
       "      <td>3.8</td>\n",
       "      <td>3.9</td>\n",
       "      <td>4.1</td>\n",
       "      <td>4.1</td>\n",
       "    </tr>\n",
       "    <tr>\n",
       "      <th>2</th>\n",
       "      <td>1/03/1949</td>\n",
       "      <td>3.9</td>\n",
       "      <td>3.9</td>\n",
       "      <td>3.8</td>\n",
       "      <td>4.0</td>\n",
       "      <td>3.9</td>\n",
       "      <td>4.0</td>\n",
       "      <td>4.1</td>\n",
       "      <td>4.1</td>\n",
       "    </tr>\n",
       "    <tr>\n",
       "      <th>3</th>\n",
       "      <td>1/06/1949</td>\n",
       "      <td>3.9</td>\n",
       "      <td>4.0</td>\n",
       "      <td>3.9</td>\n",
       "      <td>4.0</td>\n",
       "      <td>4.0</td>\n",
       "      <td>4.1</td>\n",
       "      <td>4.2</td>\n",
       "      <td>4.2</td>\n",
       "    </tr>\n",
       "    <tr>\n",
       "      <th>4</th>\n",
       "      <td>1/09/1949</td>\n",
       "      <td>4.0</td>\n",
       "      <td>4.1</td>\n",
       "      <td>4.0</td>\n",
       "      <td>4.1</td>\n",
       "      <td>4.1</td>\n",
       "      <td>4.1</td>\n",
       "      <td>4.3</td>\n",
       "      <td>4.3</td>\n",
       "    </tr>\n",
       "  </tbody>\n",
       "</table>\n",
       "</div>"
      ],
      "text/plain": [
       "     Quarter  Sydney  Melbourne  Brisbane  Adelaide  Perth  Hobart  Darwin  \\\n",
       "0  1/09/1948     3.7        3.8       3.7       3.8    3.7     3.8     3.9   \n",
       "1  1/12/1948     3.7        3.8       3.7       3.9    3.8     3.9     4.1   \n",
       "2  1/03/1949     3.9        3.9       3.8       4.0    3.9     4.0     4.1   \n",
       "3  1/06/1949     3.9        4.0       3.9       4.0    4.0     4.1     4.2   \n",
       "4  1/09/1949     4.0        4.1       4.0       4.1    4.1     4.1     4.3   \n",
       "\n",
       "   Canberra  \n",
       "0       3.9  \n",
       "1       4.1  \n",
       "2       4.1  \n",
       "3       4.2  \n",
       "4       4.3  "
      ]
     },
     "execution_count": 5,
     "metadata": {},
     "output_type": "execute_result"
    }
   ],
   "source": [
    "# Drop 'Australia' from DataFrames\n",
    "cpi.drop('Australia',axis=1).head()"
   ]
  },
  {
   "cell_type": "code",
   "execution_count": 25,
   "metadata": {
    "scrolled": false
   },
   "outputs": [
    {
     "data": {
      "text/plain": [
       "<AxesSubplot:xlabel='Quarter', ylabel='Sydney'>"
      ]
     },
     "execution_count": 25,
     "metadata": {},
     "output_type": "execute_result"
    },
    {
     "data": {
      "image/png": "[encoded data removed]",
      "text/plain": [
       "<Figure size 432x288 with 1 Axes>"
      ]
     },
     "metadata": {
      "needs_background": "light"
     },
     "output_type": "display_data"
    }
   ],
   "source": [
    "# CPI scatter graph\n",
    "# Create scatterplot to view the relationship between the two variables\n",
    "cpi.plot.scatter(y='Sydney', x='Quarter')\n"
   ]
  },
  {
   "cell_type": "code",
   "execution_count": 19,
   "metadata": {
    "scrolled": false
   },
   "outputs": [
    {
     "name": "stdout",
     "output_type": "stream",
     "text": [
      "0      1/09/1948\n",
      "50     1/03/1961\n",
      "100    1/09/1973\n",
      "150    1/03/1986\n",
      "200    1/09/1998\n",
      "250    1/03/2011\n",
      "Name: Quarter, dtype: object\n"
     ]
    },
    {
     "data": {
      "image/png": "[encoded data removed]",
      "text/plain": [
       "<Figure size 432x288 with 1 Axes>"
      ]
     },
     "metadata": {
      "needs_background": "light"
     },
     "output_type": "display_data"
    }
   ],
   "source": [
    "# Create scatterplot to view the relationship is consistent with data from multiple cities\n",
    "\n",
    "plt.plot(cpi.Quarter,cpi.Sydney, 'r.-', label=\"Sydney\")\n",
    "plt.plot(cpi.Quarter,cpi.Melbourne, 'b.-', label=\"Melbourne\")\n",
    "plt.plot(cpi.Quarter,cpi.Canberra, 'g.-', label=\"Canberra\")\n",
    "print(cpi.Quarter[::50])\n",
    "plt.xticks(cpi.Quarter[::50])\n",
    "plt.xlabel('Year')\n",
    "plt.ylabel('CPI')\n",
    "plt.legend()\n",
    "plt.show()"
   ]
  },
  {
   "cell_type": "code",
   "execution_count": 58,
   "metadata": {
    "scrolled": true
   },
   "outputs": [
    {
     "data": {
      "text/plain": [
       "(array([106.,  23.,  19.,  12.,  24.,  24.,  22.,  18.,  19.,  25.]),\n",
       " array([  3.7 ,  15.27,  26.84,  38.41,  49.98,  61.55,  73.12,  84.69,\n",
       "         96.26, 107.83, 119.4 ]),\n",
       " <BarContainer object of 10 artists>)"
      ]
     },
     "execution_count": 58,
     "metadata": {},
     "output_type": "execute_result"
    },
    {
     "data": {
      "image/png": "[encoded data removed]",
      "text/plain": [
       "<Figure size 432x288 with 1 Axes>"
      ]
     },
     "metadata": {
      "needs_background": "light"
     },
     "output_type": "display_data"
    }
   ],
   "source": [
    "# matplotlib histogram\n",
    "plt.hist(cpi['Sydney'], color = 'blue', edgecolor = 'black', bins = 10)\n",
    "\n"
   ]
  },
  {
   "cell_type": "markdown",
   "metadata": {
    "colab_type": "text",
    "id": "BlumKNPDXd3q"
   },
   "source": [
    "### 2. Linear regression model CPI with data from major cities in Australia"
   ]
  },
  {
   "cell_type": "code",
   "execution_count": 6,
   "metadata": {},
   "outputs": [],
   "source": [
    "from sklearn.linear_model import LinearRegression\n",
    "from sklearn.model_selection import train_test_split"
   ]
  },
  {
   "cell_type": "code",
   "execution_count": 7,
   "metadata": {},
   "outputs": [],
   "source": [
    "import datetime as dt\n",
    "cpi['Quarter'] = pd.to_datetime(cpi['Quarter'])\n",
    "cpi['Quarter']=cpi['Quarter'].map(dt.datetime.toordinal)"
   ]
  },
  {
   "cell_type": "code",
   "execution_count": 8,
   "metadata": {},
   "outputs": [],
   "source": [
    "X = cpi[['Quarter']]\n",
    "y = np.asarray(cpi['Sydney'])\n",
    "X_train, X_test, y_train, y_test = train_test_split(X,y,test_size=0.30,random_state=1)           \n"
   ]
  },
  {
   "cell_type": "code",
   "execution_count": 9,
   "metadata": {
    "scrolled": true
   },
   "outputs": [
    {
     "data": {
      "text/plain": [
       "204"
      ]
     },
     "execution_count": 9,
     "metadata": {},
     "output_type": "execute_result"
    }
   ],
   "source": [
    "len(X_train) #check the length of train data\n"
   ]
  },
  {
   "cell_type": "code",
   "execution_count": 9,
   "metadata": {
    "scrolled": false
   },
   "outputs": [
    {
     "data": {
      "text/plain": [
       "0.9458672770568257"
      ]
     },
     "execution_count": 9,
     "metadata": {},
     "output_type": "execute_result"
    }
   ],
   "source": [
    "model = LinearRegression() #create linear regression object\n",
    "model.fit(X_train, y_train) #train model on train data\n",
    "model.score(X_train, y_train) #check score"
   ]
  },
  {
   "cell_type": "code",
   "execution_count": 32,
   "metadata": {
    "scrolled": true
   },
   "outputs": [
    {
     "data": {
      "text/plain": [
       "array([168.9831071])"
      ]
     },
     "execution_count": 32,
     "metadata": {},
     "output_type": "execute_result"
    }
   ],
   "source": [
    "ypredict=model.predict(np.array([[750000]]))\n",
    "ypredict"
   ]
  },
  {
   "cell_type": "code",
   "execution_count": 16,
   "metadata": {},
   "outputs": [
    {
     "data": {
      "text/plain": [
       "array([ 40.72208578, 100.11414798, 100.0997963 ,  10.98539157,\n",
       "        31.9532054 ,  -4.72492114,  23.23216396,  65.19649498,\n",
       "        19.76862365,  54.70062833,  21.5003938 , -11.71419241,\n",
       "        44.19997779,  59.91029049, -11.69984072,  -8.23151651,\n",
       "       110.60044684,   9.25362141,  89.63263302,  73.90318473,\n",
       "        35.46458467,  38.95682836,  28.46096171,  59.95334555,\n",
       "        51.17489738,  23.21781228,  47.68265369,  72.17141457,\n",
       "         5.76137772,  82.67206512,  51.21795243,  28.50401677,\n",
       "        61.70425129,  63.45037314,  37.21070651,  96.60755261,\n",
       "       110.58609516, 108.87824448,  84.40383528,  61.68989961,\n",
       "       105.35729741, 103.59682388,  79.13198247,  72.1427112 ,\n",
       "        73.91753642,  35.47893635,  21.51474549, 105.3716491 ,\n",
       "        87.86737559,  26.72919155,  77.38586063,  80.90680769,\n",
       "         0.51822829,   9.23926973,  61.67554792,  70.43964441,\n",
       "        33.7471662 , -15.19208441,  -9.93936719,  44.1856261 ,\n",
       "        49.42877553,  14.48241916,  93.12487671,  59.92464218,\n",
       "         2.24999845,  14.52547422,  56.44675018, -15.17773273,\n",
       "        66.94261683,   0.50387661, 101.86026983,  37.19635483,\n",
       "       103.63987894,  24.97828581,  -1.24224524,  58.17852034,\n",
       "       107.11777095,  31.98190877,  65.16779161,  87.88172728,\n",
       "        -8.21716483,  -9.98242225,  75.66844216,  52.92101922,\n",
       "         2.27870182,  82.65771343,  42.48255931,  30.22143524])"
      ]
     },
     "execution_count": 16,
     "metadata": {},
     "output_type": "execute_result"
    }
   ],
   "source": [
    "ypredict=model.predict(X_test)\n",
    "ypredict"
   ]
  },
  {
   "cell_type": "markdown",
   "metadata": {
    "colab_type": "text",
    "id": "BlumKNPDXd3q"
   },
   "source": [
    "### 3.  Residual Calculation\n",
    "A residual is the difference between an observed value and a predicted value in a regression model."
   ]
  },
  {
   "cell_type": "code",
   "execution_count": 113,
   "metadata": {
    "colab": {},
    "colab_type": "code",
    "id": "PBzfNQsGXd39"
   },
   "outputs": [],
   "source": [
    "# ANSWER\n",
    "#Actual value is the observed value\n",
    "#Predicted value is the value of the variable based on regression analysis\n",
    "#residual value = (actualvalue - predictedvalue)"
   ]
  },
  {
   "cell_type": "code",
   "execution_count": 64,
   "metadata": {
    "scrolled": true
   },
   "outputs": [
    {
     "data": {
      "text/html": [
       "<div>\n",
       "<style scoped>\n",
       "    .dataframe tbody tr th:only-of-type {\n",
       "        vertical-align: middle;\n",
       "    }\n",
       "\n",
       "    .dataframe tbody tr th {\n",
       "        vertical-align: top;\n",
       "    }\n",
       "\n",
       "    .dataframe thead th {\n",
       "        text-align: right;\n",
       "    }\n",
       "</style>\n",
       "<table border=\"1\" class=\"dataframe\">\n",
       "  <thead>\n",
       "    <tr style=\"text-align: right;\">\n",
       "      <th></th>\n",
       "      <th>Quarter</th>\n",
       "      <th>Sydney</th>\n",
       "      <th>Melbourne</th>\n",
       "      <th>Brisbane</th>\n",
       "      <th>Adelaide</th>\n",
       "      <th>Perth</th>\n",
       "      <th>Hobart</th>\n",
       "      <th>Darwin</th>\n",
       "      <th>Canberra</th>\n",
       "      <th>Australia</th>\n",
       "    </tr>\n",
       "  </thead>\n",
       "  <tbody>\n",
       "    <tr>\n",
       "      <th>count</th>\n",
       "      <td>292.000000</td>\n",
       "      <td>292.000000</td>\n",
       "      <td>292.000000</td>\n",
       "      <td>292.000000</td>\n",
       "      <td>292.000000</td>\n",
       "      <td>292.000000</td>\n",
       "      <td>292.000000</td>\n",
       "      <td>292.000000</td>\n",
       "      <td>292.000000</td>\n",
       "      <td>292.000000</td>\n",
       "    </tr>\n",
       "    <tr>\n",
       "      <th>mean</th>\n",
       "      <td>724465.500000</td>\n",
       "      <td>46.666781</td>\n",
       "      <td>46.907877</td>\n",
       "      <td>46.018493</td>\n",
       "      <td>46.257877</td>\n",
       "      <td>46.169521</td>\n",
       "      <td>46.853082</td>\n",
       "      <td>46.957877</td>\n",
       "      <td>46.570205</td>\n",
       "      <td>46.550342</td>\n",
       "    </tr>\n",
       "    <tr>\n",
       "      <th>std</th>\n",
       "      <td>7711.601472</td>\n",
       "      <td>38.081718</td>\n",
       "      <td>37.954505</td>\n",
       "      <td>37.666495</td>\n",
       "      <td>37.684170</td>\n",
       "      <td>37.400967</td>\n",
       "      <td>37.579791</td>\n",
       "      <td>37.383572</td>\n",
       "      <td>37.422287</td>\n",
       "      <td>37.849270</td>\n",
       "    </tr>\n",
       "    <tr>\n",
       "      <th>min</th>\n",
       "      <td>711135.000000</td>\n",
       "      <td>3.700000</td>\n",
       "      <td>3.800000</td>\n",
       "      <td>3.700000</td>\n",
       "      <td>3.800000</td>\n",
       "      <td>3.700000</td>\n",
       "      <td>3.800000</td>\n",
       "      <td>3.900000</td>\n",
       "      <td>3.900000</td>\n",
       "      <td>3.700000</td>\n",
       "    </tr>\n",
       "    <tr>\n",
       "      <th>25%</th>\n",
       "      <td>717712.250000</td>\n",
       "      <td>8.500000</td>\n",
       "      <td>8.900000</td>\n",
       "      <td>8.775000</td>\n",
       "      <td>8.675000</td>\n",
       "      <td>8.775000</td>\n",
       "      <td>9.000000</td>\n",
       "      <td>9.000000</td>\n",
       "      <td>9.000000</td>\n",
       "      <td>8.675000</td>\n",
       "    </tr>\n",
       "    <tr>\n",
       "      <th>50%</th>\n",
       "      <td>724465.500000</td>\n",
       "      <td>37.350000</td>\n",
       "      <td>38.150000</td>\n",
       "      <td>37.350000</td>\n",
       "      <td>37.450000</td>\n",
       "      <td>37.500000</td>\n",
       "      <td>38.500000</td>\n",
       "      <td>40.100000</td>\n",
       "      <td>38.400000</td>\n",
       "      <td>37.650000</td>\n",
       "    </tr>\n",
       "    <tr>\n",
       "      <th>75%</th>\n",
       "      <td>731218.750000</td>\n",
       "      <td>79.400000</td>\n",
       "      <td>79.600000</td>\n",
       "      <td>76.700000</td>\n",
       "      <td>78.625000</td>\n",
       "      <td>76.525000</td>\n",
       "      <td>78.725000</td>\n",
       "      <td>77.750000</td>\n",
       "      <td>78.100000</td>\n",
       "      <td>78.600000</td>\n",
       "    </tr>\n",
       "    <tr>\n",
       "      <th>max</th>\n",
       "      <td>737796.000000</td>\n",
       "      <td>119.400000</td>\n",
       "      <td>119.100000</td>\n",
       "      <td>119.200000</td>\n",
       "      <td>117.800000</td>\n",
       "      <td>116.800000</td>\n",
       "      <td>119.800000</td>\n",
       "      <td>115.600000</td>\n",
       "      <td>118.200000</td>\n",
       "      <td>118.800000</td>\n",
       "    </tr>\n",
       "  </tbody>\n",
       "</table>\n",
       "</div>"
      ],
      "text/plain": [
       "             Quarter      Sydney   Melbourne    Brisbane    Adelaide  \\\n",
       "count     292.000000  292.000000  292.000000  292.000000  292.000000   \n",
       "mean   724465.500000   46.666781   46.907877   46.018493   46.257877   \n",
       "std      7711.601472   38.081718   37.954505   37.666495   37.684170   \n",
       "min    711135.000000    3.700000    3.800000    3.700000    3.800000   \n",
       "25%    717712.250000    8.500000    8.900000    8.775000    8.675000   \n",
       "50%    724465.500000   37.350000   38.150000   37.350000   37.450000   \n",
       "75%    731218.750000   79.400000   79.600000   76.700000   78.625000   \n",
       "max    737796.000000  119.400000  119.100000  119.200000  117.800000   \n",
       "\n",
       "            Perth      Hobart      Darwin    Canberra   Australia  \n",
       "count  292.000000  292.000000  292.000000  292.000000  292.000000  \n",
       "mean    46.169521   46.853082   46.957877   46.570205   46.550342  \n",
       "std     37.400967   37.579791   37.383572   37.422287   37.849270  \n",
       "min      3.700000    3.800000    3.900000    3.900000    3.700000  \n",
       "25%      8.775000    9.000000    9.000000    9.000000    8.675000  \n",
       "50%     37.500000   38.500000   40.100000   38.400000   37.650000  \n",
       "75%     76.525000   78.725000   77.750000   78.100000   78.600000  \n",
       "max    116.800000  119.800000  115.600000  118.200000  118.800000  "
      ]
     },
     "execution_count": 64,
     "metadata": {},
     "output_type": "execute_result"
    }
   ],
   "source": [
    "cpi.describe()"
   ]
  },
  {
   "cell_type": "code",
   "execution_count": 121,
   "metadata": {},
   "outputs": [
    {
     "data": {
      "text/plain": [
       "[<matplotlib.lines.Line2D at 0x1e18bd5c280>]"
      ]
     },
     "execution_count": 121,
     "metadata": {},
     "output_type": "execute_result"
    },
    {
     "data": {
      "image/png": "[encoded data removed]",
      "text/plain": [
       "<Figure size 432x288 with 1 Axes>"
      ]
     },
     "metadata": {
      "needs_background": "light"
     },
     "output_type": "display_data"
    }
   ],
   "source": [
    "plt.scatter(x,y)\n",
    "plt.plot(x,m*x+b, 'r')"
   ]
  },
  {
   "cell_type": "markdown",
   "metadata": {
    "colab_type": "text",
    "id": "BlumKNPDXd3q"
   },
   "source": [
    "### 4.  Fit the regression Model\n",
    "Statsmodels library to perform ordinary least squares regression, using 'Cities' as the predictor variables and 'Date' as the response variable."
   ]
  },
  {
   "cell_type": "code",
   "execution_count": 29,
   "metadata": {
    "colab": {},
    "colab_type": "code",
    "id": "dLZgRjbGXd4S",
    "scrolled": false
   },
   "outputs": [
    {
     "name": "stdout",
     "output_type": "stream",
     "text": [
      "                            OLS Regression Results                            \n",
      "==============================================================================\n",
      "Dep. Variable:                      y   R-squared:                       0.952\n",
      "Model:                            OLS   Adj. R-squared:                  0.951\n",
      "Method:                 Least Squares   F-statistic:                     802.4\n",
      "Date:                Tue, 07 Sep 2021   Prob (F-statistic):          5.24e-183\n",
      "Time:                        11:56:57   Log-Likelihood:                -2584.4\n",
      "No. Observations:                 292   AIC:                             5185.\n",
      "Df Residuals:                     284   BIC:                             5214.\n",
      "Df Model:                           7                                         \n",
      "Covariance Type:            nonrobust                                         \n",
      "==============================================================================\n",
      "                 coef    std err          t      P>|t|      [0.025      0.975]\n",
      "------------------------------------------------------------------------------\n",
      "const       7.145e+05    224.817   3178.160      0.000    7.14e+05    7.15e+05\n",
      "Sydney      -278.8488    283.705     -0.983      0.327    -837.280     279.583\n",
      "Canberra     319.0888    316.043      1.010      0.314    -302.994     941.172\n",
      "Melbourne   1177.3951    318.850      3.693      0.000     549.787    1805.004\n",
      "Adelaide   -1486.6644    350.515     -4.241      0.000   -2176.602    -796.727\n",
      "Brisbane     202.3350    185.386      1.091      0.276    -162.569     567.239\n",
      "Darwin       161.0048    114.300      1.409      0.160     -63.979     385.988\n",
      "Perth        103.6092    216.891      0.478      0.633    -323.308     530.526\n",
      "==============================================================================\n",
      "Omnibus:                        4.928   Durbin-Watson:                   0.038\n",
      "Prob(Omnibus):                  0.085   Jarque-Bera (JB):                4.960\n",
      "Skew:                          -0.291   Prob(JB):                       0.0837\n",
      "Kurtosis:                       2.739   Cond. No.                         711.\n",
      "==============================================================================\n",
      "\n",
      "Notes:\n",
      "[1] Standard Errors assume that the covariance matrix of the errors is correctly specified.\n"
     ]
    }
   ],
   "source": [
    "# ANSWER\n",
    "import statsmodels.api as sm\n",
    "y=cpi['Quarter'].tolist()\n",
    "x=cpi[['Sydney','Canberra', 'Melbourne','Adelaide','Brisbane','Darwin','Perth']]\n",
    "x=sm.add_constant(x)\n",
    "model=sm.OLS(y,x).fit()\n",
    "print(model.summary())"
   ]
  },
  {
   "cell_type": "code",
   "execution_count": 30,
   "metadata": {
    "scrolled": false
   },
   "outputs": [
    {
     "name": "stdout",
     "output_type": "stream",
     "text": [
      "832871840.5710891\n"
     ]
    }
   ],
   "source": [
    "print(model.ssr) #calculate the residual sum of squares for the model"
   ]
  },
  {
   "cell_type": "code",
   "execution_count": 31,
   "metadata": {
    "scrolled": false
   },
   "outputs": [
    {
     "data": {
      "image/png": "[encoded data removed]",
      "text/plain": [
       "<Figure size 864x576 with 4 Axes>"
      ]
     },
     "metadata": {
      "needs_background": "light"
     },
     "output_type": "display_data"
    }
   ],
   "source": [
    "#Residual Vs fitted graph\n",
    "fig=plt.figure(figsize=(12,8))\n",
    "fig=sm.graphics.plot_regress_exog(model,'Sydney',fig=fig)"
   ]
  },
  {
   "cell_type": "code",
   "execution_count": 32,
   "metadata": {
    "scrolled": true
   },
   "outputs": [
    {
     "data": {
      "image/png": "[encoded data removed]",
      "text/plain": [
       "<Figure size 432x288 with 1 Axes>"
      ]
     },
     "metadata": {
      "needs_background": "light"
     },
     "output_type": "display_data"
    }
   ],
   "source": [
    "# plot is useful for determining if the residuals follow a normal distribution\n",
    "res = model.resid\n",
    "fig = sm.qqplot(res, fit=True, line=\"45\")\n",
    "plt.show() "
   ]
  },
  {
   "cell_type": "markdown",
   "metadata": {
    "colab_type": "text",
    "id": "BlumKNPDXd3q"
   },
   "source": [
    "### 5. Conclusion"
   ]
  },
  {
   "cell_type": "markdown",
   "metadata": {
    "colab_type": "text",
    "id": "NTjW6xxFXd4i"
   },
   "source": [
    "#1. Is this Model is reliable?\n",
    "\n",
    "Since the residuals are normally distributed and homoscedastic (random variables have the same finite variance),verified that the assumptions of the simple linear regression model are met. Thus, the output from this model is reliable\n"
   ]
  },
  {
   "cell_type": "code",
   "execution_count": 37,
   "metadata": {},
   "outputs": [
    {
     "data": {
      "text/plain": [
       "array([168.9831071])"
      ]
     },
     "execution_count": 37,
     "metadata": {},
     "output_type": "execute_result"
    }
   ],
   "source": [
    "#2 Write a function that takes as input a date and a city, and then returns the CPI for the pair\n",
    "ypredict=model.predict(np.array([[750000]]))\n",
    "ypredict"
   ]
  },
  {
   "cell_type": "code",
   "execution_count": 57,
   "metadata": {
    "scrolled": true
   },
   "outputs": [],
   "source": [
    "#3  What is the average CPI of 2018 for all states?\n"
   ]
  },
  {
   "cell_type": "code",
   "execution_count": null,
   "metadata": {},
   "outputs": [],
   "source": [
    "#4 what is the impact of CPI when compare with territory data\n",
    "% can be caluclated"
   ]
  },
  {
   "cell_type": "code",
   "execution_count": null,
   "metadata": {},
   "outputs": [],
   "source": [
    "#5 Measure the annual inflation rate \n",
    "(which is the movement of the Consumer Price Index(CPI) \n",
    "from one month/period to the same month/period of the previous year expressed as percentage)"
   ]
  },
  {
   "cell_type": "code",
   "execution_count": null,
   "metadata": {},
   "outputs": [],
   "source": [
    "#6 Is this data is good enough for a predictive analysis of CPI, if not what are other parameters to be included?\n",
    "No, This data is alraedy procesed from no of other input parameters like Food, Housing Price, Health, Transport, Education, Financials etc;\n"
   ]
  }
 ],
 "metadata": {
  "celltoolbar": "Raw Cell Format",
  "colab": {
   "collapsed_sections": [],
   "name": "IOD_Lab 4.1.1.ipynb",
   "provenance": []
  },
  "kernelspec": {
   "display_name": "Python 3",
   "language": "python",
   "name": "python3"
  },
  "language_info": {
   "codemirror_mode": {
    "name": "ipython",
    "version": 3
   },
   "file_extension": ".py",
   "mimetype": "text/x-python",
   "name": "python",
   "nbconvert_exporter": "python",
   "pygments_lexer": "ipython3",
   "version": "3.8.8"
  }
 },
 "nbformat": 4,
 "nbformat_minor": 1
}
